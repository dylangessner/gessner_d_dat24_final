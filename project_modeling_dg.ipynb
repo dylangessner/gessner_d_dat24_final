{
 "cells": [
  {
   "cell_type": "markdown",
   "metadata": {},
   "source": [
    "###Data Dictionaries\n",
    "\n",
    "Candidates table --> http://www.opensecrets.org/resources/datadictionary/Data%20Dictionary%20Candidates%20Data.htm\n",
    "\n",
    "PACs table --> http://www.opensecrets.org/resources/datadictionary/Data%20Dictionary%20for%20PAC%20to%20Cands%20Data.htm"
   ]
  },
  {
   "cell_type": "code",
   "execution_count": 1,
   "metadata": {
    "collapsed": true
   },
   "outputs": [],
   "source": [
    "import pandas as pd\n",
    "import numpy as np\n",
    "from patsy import dmatrices, dmatrix\n",
    "from sklearn.ensemble import RandomForestClassifier\n",
    "from sklearn.neighbors import KNeighborsClassifier\n",
    "from sklearn.svm import SVC\n",
    "from sklearn.linear_model import Ridge, Lasso\n",
    "from sklearn.dummy import DummyClassifier\n",
    "from sklearn.preprocessing import StandardScaler\n",
    "from sklearn.grid_search import GridSearchCV\n",
    "from sklearn.cross_validation import cross_val_score\n",
    "import matplotlib.pyplot as plt\n",
    "%matplotlib inline"
   ]
  },
  {
   "cell_type": "code",
   "execution_count": 2,
   "metadata": {
    "collapsed": true
   },
   "outputs": [],
   "source": [
    "# load tables\n",
    "cands = pd.read_table('cands12_copy3.txt', delimiter=',', na_values=[' ', '    '])\n",
    "pacs = pd.read_table('pacs12_copy.txt', delimiter=',')"
   ]
  },
  {
   "cell_type": "code",
   "execution_count": 3,
   "metadata": {
    "collapsed": false
   },
   "outputs": [
    {
     "data": {
      "text/html": [
       "<div>\n",
       "<table border=\"1\" class=\"dataframe\">\n",
       "  <thead>\n",
       "    <tr style=\"text-align: right;\">\n",
       "      <th></th>\n",
       "      <th>cycle</th>\n",
       "      <th>fec_cand_id</th>\n",
       "      <th>cid</th>\n",
       "      <th>first_last_p</th>\n",
       "      <th>party</th>\n",
       "      <th>distid_run</th>\n",
       "      <th>distid_cur</th>\n",
       "      <th>cur_cand</th>\n",
       "      <th>cycle_cand</th>\n",
       "      <th>crpico</th>\n",
       "      <th>recip_code</th>\n",
       "      <th>no_pacs</th>\n",
       "      <th>Unnamed: 12</th>\n",
       "    </tr>\n",
       "  </thead>\n",
       "  <tbody>\n",
       "    <tr>\n",
       "      <th>0</th>\n",
       "      <td>2012</td>\n",
       "      <td>H2NC08219</td>\n",
       "      <td>N00034999</td>\n",
       "      <td>Antonio Blue (D)</td>\n",
       "      <td>D</td>\n",
       "      <td>NC08</td>\n",
       "      <td>NaN</td>\n",
       "      <td>NaN</td>\n",
       "      <td>Y</td>\n",
       "      <td>C</td>\n",
       "      <td>DC</td>\n",
       "      <td>NaN</td>\n",
       "      <td>NaN</td>\n",
       "    </tr>\n",
       "    <tr>\n",
       "      <th>1</th>\n",
       "      <td>2012</td>\n",
       "      <td>H2VI00082</td>\n",
       "      <td>N00035000</td>\n",
       "      <td>Stacey Plaskett (D)</td>\n",
       "      <td>D</td>\n",
       "      <td>VI00</td>\n",
       "      <td>NaN</td>\n",
       "      <td>NaN</td>\n",
       "      <td>Y</td>\n",
       "      <td>C</td>\n",
       "      <td>DN</td>\n",
       "      <td>NaN</td>\n",
       "      <td>NaN</td>\n",
       "    </tr>\n",
       "    <tr>\n",
       "      <th>2</th>\n",
       "      <td>2012</td>\n",
       "      <td>S2NY00317</td>\n",
       "      <td>N00035001</td>\n",
       "      <td>Tim Sweet (I)</td>\n",
       "      <td>I</td>\n",
       "      <td>NYS1</td>\n",
       "      <td>NaN</td>\n",
       "      <td>Y</td>\n",
       "      <td>Y</td>\n",
       "      <td>C</td>\n",
       "      <td>3L</td>\n",
       "      <td>NaN</td>\n",
       "      <td>NaN</td>\n",
       "    </tr>\n",
       "    <tr>\n",
       "      <th>3</th>\n",
       "      <td>2012</td>\n",
       "      <td>P20005104</td>\n",
       "      <td>N00035002</td>\n",
       "      <td>Maura Deluca (3)</td>\n",
       "      <td>3</td>\n",
       "      <td>PRES</td>\n",
       "      <td>NaN</td>\n",
       "      <td>NaN</td>\n",
       "      <td>NaN</td>\n",
       "      <td>NaN</td>\n",
       "      <td>3N</td>\n",
       "      <td>NaN</td>\n",
       "      <td>NaN</td>\n",
       "    </tr>\n",
       "    <tr>\n",
       "      <th>4</th>\n",
       "      <td>2012</td>\n",
       "      <td>P20005120</td>\n",
       "      <td>N00035003</td>\n",
       "      <td>Colin David Teberg (U)</td>\n",
       "      <td>U</td>\n",
       "      <td>PRES</td>\n",
       "      <td>NaN</td>\n",
       "      <td>NaN</td>\n",
       "      <td>NaN</td>\n",
       "      <td>NaN</td>\n",
       "      <td>UN</td>\n",
       "      <td>NaN</td>\n",
       "      <td>NaN</td>\n",
       "    </tr>\n",
       "  </tbody>\n",
       "</table>\n",
       "</div>"
      ],
      "text/plain": [
       "   cycle fec_cand_id        cid            first_last_p party distid_run  \\\n",
       "0   2012   H2NC08219  N00034999        Antonio Blue (D)     D       NC08   \n",
       "1   2012   H2VI00082  N00035000     Stacey Plaskett (D)     D       VI00   \n",
       "2   2012   S2NY00317  N00035001           Tim Sweet (I)     I       NYS1   \n",
       "3   2012   P20005104  N00035002        Maura Deluca (3)     3       PRES   \n",
       "4   2012   P20005120  N00035003  Colin David Teberg (U)     U       PRES   \n",
       "\n",
       "  distid_cur cur_cand cycle_cand crpico recip_code no_pacs  Unnamed: 12  \n",
       "0        NaN      NaN          Y      C         DC     NaN          NaN  \n",
       "1        NaN      NaN          Y      C         DN     NaN          NaN  \n",
       "2        NaN        Y          Y      C         3L     NaN          NaN  \n",
       "3        NaN      NaN        NaN    NaN         3N     NaN          NaN  \n",
       "4        NaN      NaN        NaN    NaN         UN     NaN          NaN  "
      ]
     },
     "execution_count": 3,
     "metadata": {},
     "output_type": "execute_result"
    }
   ],
   "source": [
    "cands.head()"
   ]
  },
  {
   "cell_type": "code",
   "execution_count": 4,
   "metadata": {
    "collapsed": false
   },
   "outputs": [
    {
     "data": {
      "text/html": [
       "<div>\n",
       "<table border=\"1\" class=\"dataframe\">\n",
       "  <thead>\n",
       "    <tr style=\"text-align: right;\">\n",
       "      <th></th>\n",
       "      <th>cycle</th>\n",
       "      <th>fec_rec_no</th>\n",
       "      <th>pac_id</th>\n",
       "      <th>cid</th>\n",
       "      <th>amount</th>\n",
       "      <th>date</th>\n",
       "      <th>real_code</th>\n",
       "      <th>type</th>\n",
       "      <th>di</th>\n",
       "      <th>fec_cand_id</th>\n",
       "    </tr>\n",
       "  </thead>\n",
       "  <tbody>\n",
       "    <tr>\n",
       "      <th>0</th>\n",
       "      <td>2012</td>\n",
       "      <td>4101720121167459916</td>\n",
       "      <td>C00279380</td>\n",
       "      <td>N00027694</td>\n",
       "      <td>1500</td>\n",
       "      <td>09/25/2012</td>\n",
       "      <td>LT500</td>\n",
       "      <td>24K</td>\n",
       "      <td>D</td>\n",
       "      <td>S6MO00305</td>\n",
       "    </tr>\n",
       "    <tr>\n",
       "      <th>1</th>\n",
       "      <td>2012</td>\n",
       "      <td>4020120121150250973</td>\n",
       "      <td>C00279455</td>\n",
       "      <td>N00027510</td>\n",
       "      <td>1000</td>\n",
       "      <td>04/01/2011</td>\n",
       "      <td>H4300</td>\n",
       "      <td>24K</td>\n",
       "      <td>D</td>\n",
       "      <td>H6CO07023</td>\n",
       "    </tr>\n",
       "    <tr>\n",
       "      <th>2</th>\n",
       "      <td>2012</td>\n",
       "      <td>4121720121176010367</td>\n",
       "      <td>C00347385</td>\n",
       "      <td>N00001861</td>\n",
       "      <td>1000</td>\n",
       "      <td>09/20/2012</td>\n",
       "      <td>C4000</td>\n",
       "      <td>24K</td>\n",
       "      <td>D</td>\n",
       "      <td>H6CA24048</td>\n",
       "    </tr>\n",
       "    <tr>\n",
       "      <th>3</th>\n",
       "      <td>2012</td>\n",
       "      <td>4042520121155267132</td>\n",
       "      <td>C00034272</td>\n",
       "      <td>N00004227</td>\n",
       "      <td>2000</td>\n",
       "      <td>03/27/2012</td>\n",
       "      <td>A2300</td>\n",
       "      <td>24K</td>\n",
       "      <td>D</td>\n",
       "      <td>H4IA05102</td>\n",
       "    </tr>\n",
       "    <tr>\n",
       "      <th>4</th>\n",
       "      <td>2012</td>\n",
       "      <td>4111520121172245411</td>\n",
       "      <td>C00000729</td>\n",
       "      <td>N00007335</td>\n",
       "      <td>1000</td>\n",
       "      <td>10/10/2012</td>\n",
       "      <td>H1400</td>\n",
       "      <td>24K</td>\n",
       "      <td>D</td>\n",
       "      <td>H8CA12098</td>\n",
       "    </tr>\n",
       "  </tbody>\n",
       "</table>\n",
       "</div>"
      ],
      "text/plain": [
       "   cycle           fec_rec_no     pac_id        cid  amount        date  \\\n",
       "0   2012  4101720121167459916  C00279380  N00027694    1500  09/25/2012   \n",
       "1   2012  4020120121150250973  C00279455  N00027510    1000  04/01/2011   \n",
       "2   2012  4121720121176010367  C00347385  N00001861    1000  09/20/2012   \n",
       "3   2012  4042520121155267132  C00034272  N00004227    2000  03/27/2012   \n",
       "4   2012  4111520121172245411  C00000729  N00007335    1000  10/10/2012   \n",
       "\n",
       "  real_code type di fec_cand_id  \n",
       "0     LT500  24K  D   S6MO00305  \n",
       "1     H4300  24K  D   H6CO07023  \n",
       "2     C4000  24K  D   H6CA24048  \n",
       "3     A2300  24K  D   H4IA05102  \n",
       "4     H1400  24K  D   H8CA12098  "
      ]
     },
     "execution_count": 4,
     "metadata": {},
     "output_type": "execute_result"
    }
   ],
   "source": [
    "pacs.head()"
   ]
  },
  {
   "cell_type": "code",
   "execution_count": 5,
   "metadata": {
    "collapsed": true
   },
   "outputs": [],
   "source": [
    "cands = cands.drop(cands.columns[-1], axis=1) #drop extra column"
   ]
  },
  {
   "cell_type": "code",
   "execution_count": 6,
   "metadata": {
    "collapsed": false
   },
   "outputs": [
    {
     "name": "stdout",
     "output_type": "stream",
     "text": [
      "<class 'pandas.core.frame.DataFrame'>\n",
      "Int64Index: 5952 entries, 0 to 5951\n",
      "Data columns (total 12 columns):\n",
      "cycle           5952 non-null int64\n",
      "fec_cand_id     5952 non-null object\n",
      "cid             5952 non-null object\n",
      "first_last_p    5952 non-null object\n",
      "party           5952 non-null object\n",
      "distid_run      5952 non-null object\n",
      "distid_cur      569 non-null object\n",
      "cur_cand        1409 non-null object\n",
      "cycle_cand      2984 non-null object\n",
      "crpico          3266 non-null object\n",
      "recip_code      5952 non-null object\n",
      "no_pacs         7 non-null object\n",
      "dtypes: int64(1), object(11)\n",
      "memory usage: 604.5+ KB\n"
     ]
    }
   ],
   "source": [
    "cands.info()"
   ]
  },
  {
   "cell_type": "code",
   "execution_count": 7,
   "metadata": {
    "collapsed": false
   },
   "outputs": [
    {
     "name": "stdout",
     "output_type": "stream",
     "text": [
      "<class 'pandas.core.frame.DataFrame'>\n",
      "Int64Index: 394542 entries, 0 to 394541\n",
      "Data columns (total 10 columns):\n",
      "cycle          394542 non-null int64\n",
      "fec_rec_no     394542 non-null int64\n",
      "pac_id         394542 non-null object\n",
      "cid            394461 non-null object\n",
      "amount         394542 non-null int64\n",
      "date           394525 non-null object\n",
      "real_code      394542 non-null object\n",
      "type           394542 non-null object\n",
      "di             394542 non-null object\n",
      "fec_cand_id    394540 non-null object\n",
      "dtypes: int64(3), object(7)\n",
      "memory usage: 33.1+ MB\n"
     ]
    }
   ],
   "source": [
    "pacs.info()"
   ]
  },
  {
   "cell_type": "code",
   "execution_count": 8,
   "metadata": {
    "collapsed": true
   },
   "outputs": [],
   "source": [
    "#make new column 'race_type'\n",
    "def group_titles(x):\n",
    "    if 'PRES' in x:\n",
    "        return 'PRES'\n",
    "    elif x.find('S') == 2:\n",
    "        return 'SEN'\n",
    "    else:\n",
    "        return 'HOUSE'"
   ]
  },
  {
   "cell_type": "code",
   "execution_count": 9,
   "metadata": {
    "collapsed": true
   },
   "outputs": [],
   "source": [
    "cands['race_type'] = cands.distid_run.apply(group_titles)"
   ]
  },
  {
   "cell_type": "code",
   "execution_count": 10,
   "metadata": {
    "collapsed": false
   },
   "outputs": [
    {
     "data": {
      "text/html": [
       "<div>\n",
       "<table border=\"1\" class=\"dataframe\">\n",
       "  <thead>\n",
       "    <tr style=\"text-align: right;\">\n",
       "      <th></th>\n",
       "      <th>cycle</th>\n",
       "      <th>fec_cand_id</th>\n",
       "      <th>cid</th>\n",
       "      <th>first_last_p</th>\n",
       "      <th>party</th>\n",
       "      <th>distid_run</th>\n",
       "      <th>distid_cur</th>\n",
       "      <th>cur_cand</th>\n",
       "      <th>cycle_cand</th>\n",
       "      <th>crpico</th>\n",
       "      <th>recip_code</th>\n",
       "      <th>no_pacs</th>\n",
       "      <th>race_type</th>\n",
       "    </tr>\n",
       "  </thead>\n",
       "  <tbody>\n",
       "    <tr>\n",
       "      <th>0</th>\n",
       "      <td>2012</td>\n",
       "      <td>H2NC08219</td>\n",
       "      <td>N00034999</td>\n",
       "      <td>Antonio Blue (D)</td>\n",
       "      <td>D</td>\n",
       "      <td>NC08</td>\n",
       "      <td>NaN</td>\n",
       "      <td>NaN</td>\n",
       "      <td>Y</td>\n",
       "      <td>C</td>\n",
       "      <td>DC</td>\n",
       "      <td>NaN</td>\n",
       "      <td>HOUSE</td>\n",
       "    </tr>\n",
       "    <tr>\n",
       "      <th>1</th>\n",
       "      <td>2012</td>\n",
       "      <td>H2VI00082</td>\n",
       "      <td>N00035000</td>\n",
       "      <td>Stacey Plaskett (D)</td>\n",
       "      <td>D</td>\n",
       "      <td>VI00</td>\n",
       "      <td>NaN</td>\n",
       "      <td>NaN</td>\n",
       "      <td>Y</td>\n",
       "      <td>C</td>\n",
       "      <td>DN</td>\n",
       "      <td>NaN</td>\n",
       "      <td>HOUSE</td>\n",
       "    </tr>\n",
       "    <tr>\n",
       "      <th>2</th>\n",
       "      <td>2012</td>\n",
       "      <td>S2NY00317</td>\n",
       "      <td>N00035001</td>\n",
       "      <td>Tim Sweet (I)</td>\n",
       "      <td>I</td>\n",
       "      <td>NYS1</td>\n",
       "      <td>NaN</td>\n",
       "      <td>Y</td>\n",
       "      <td>Y</td>\n",
       "      <td>C</td>\n",
       "      <td>3L</td>\n",
       "      <td>NaN</td>\n",
       "      <td>SEN</td>\n",
       "    </tr>\n",
       "    <tr>\n",
       "      <th>3</th>\n",
       "      <td>2012</td>\n",
       "      <td>P20005104</td>\n",
       "      <td>N00035002</td>\n",
       "      <td>Maura Deluca (3)</td>\n",
       "      <td>3</td>\n",
       "      <td>PRES</td>\n",
       "      <td>NaN</td>\n",
       "      <td>NaN</td>\n",
       "      <td>NaN</td>\n",
       "      <td>NaN</td>\n",
       "      <td>3N</td>\n",
       "      <td>NaN</td>\n",
       "      <td>PRES</td>\n",
       "    </tr>\n",
       "    <tr>\n",
       "      <th>4</th>\n",
       "      <td>2012</td>\n",
       "      <td>P20005120</td>\n",
       "      <td>N00035003</td>\n",
       "      <td>Colin David Teberg (U)</td>\n",
       "      <td>U</td>\n",
       "      <td>PRES</td>\n",
       "      <td>NaN</td>\n",
       "      <td>NaN</td>\n",
       "      <td>NaN</td>\n",
       "      <td>NaN</td>\n",
       "      <td>UN</td>\n",
       "      <td>NaN</td>\n",
       "      <td>PRES</td>\n",
       "    </tr>\n",
       "  </tbody>\n",
       "</table>\n",
       "</div>"
      ],
      "text/plain": [
       "   cycle fec_cand_id        cid            first_last_p party distid_run  \\\n",
       "0   2012   H2NC08219  N00034999        Antonio Blue (D)     D       NC08   \n",
       "1   2012   H2VI00082  N00035000     Stacey Plaskett (D)     D       VI00   \n",
       "2   2012   S2NY00317  N00035001           Tim Sweet (I)     I       NYS1   \n",
       "3   2012   P20005104  N00035002        Maura Deluca (3)     3       PRES   \n",
       "4   2012   P20005120  N00035003  Colin David Teberg (U)     U       PRES   \n",
       "\n",
       "  distid_cur cur_cand cycle_cand crpico recip_code no_pacs race_type  \n",
       "0        NaN      NaN          Y      C         DC     NaN     HOUSE  \n",
       "1        NaN      NaN          Y      C         DN     NaN     HOUSE  \n",
       "2        NaN        Y          Y      C         3L     NaN       SEN  \n",
       "3        NaN      NaN        NaN    NaN         3N     NaN      PRES  \n",
       "4        NaN      NaN        NaN    NaN         UN     NaN      PRES  "
      ]
     },
     "execution_count": 10,
     "metadata": {},
     "output_type": "execute_result"
    }
   ],
   "source": [
    "cands.head()"
   ]
  },
  {
   "cell_type": "code",
   "execution_count": 11,
   "metadata": {
    "collapsed": false
   },
   "outputs": [],
   "source": [
    "# make column 'state' for race location\n",
    "def states(x):\n",
    "    if not 'PRES' in x:\n",
    "        return x[0:2]\n",
    "    \n",
    "cands['state'] = cands.distid_run.apply(states)"
   ]
  },
  {
   "cell_type": "code",
   "execution_count": 12,
   "metadata": {
    "collapsed": true
   },
   "outputs": [],
   "source": [
    "# make column 'district' for seat run for\n",
    "def district(x):\n",
    "    if not 'PRES' in x:\n",
    "        return x[2:]\n",
    "\n",
    "cands['district'] = cands.distid_run.apply(district)"
   ]
  },
  {
   "cell_type": "code",
   "execution_count": 13,
   "metadata": {
    "collapsed": true
   },
   "outputs": [],
   "source": [
    "# the last letter in 'recip_code' indicates win or lose, pull that out first, then make 'win' column\n",
    "cands['result'] = cands['recip_code'].str[1]"
   ]
  },
  {
   "cell_type": "code",
   "execution_count": 14,
   "metadata": {
    "collapsed": true
   },
   "outputs": [],
   "source": [
    "def win(x):\n",
    "    if 'L' in x:\n",
    "        return 0\n",
    "    elif 'W' in x:\n",
    "        return 1\n",
    "\n",
    "cands['win'] = cands['result'].apply(win)"
   ]
  },
  {
   "cell_type": "code",
   "execution_count": 15,
   "metadata": {
    "collapsed": false
   },
   "outputs": [],
   "source": [
    "# 'no_pacs' might not be a useful column since only 7 candidates elected not to receive donations from PACS\n",
    "# but nevertheless fill NaNs to be 0, set 'Y' == 1 in new column 'no_pacs_bin'\n",
    "cands['no_pacs_bin'] = cands.no_pacs.apply(lambda x: 1 if x == 'Y' else int(0))"
   ]
  },
  {
   "cell_type": "code",
   "execution_count": 16,
   "metadata": {
    "collapsed": true
   },
   "outputs": [],
   "source": [
    "# distid_cur == NaN if non incumbent. fill nan == 0, make new incumbent column\n",
    "cands['distid_cur'] = cands.distid_cur.fillna(0)\n",
    "cands['incumbent'] = cands.distid_cur.apply(lambda x: 1 if x != 0 else int(0))"
   ]
  },
  {
   "cell_type": "code",
   "execution_count": 17,
   "metadata": {
    "collapsed": true
   },
   "outputs": [],
   "source": [
    "# since the cycle is always 2012, can drop that column\n",
    "# and cid column (campaign id), since no information contained there\n",
    "cands = cands.drop(cands.columns[[0,2]], axis=1)"
   ]
  },
  {
   "cell_type": "code",
   "execution_count": 18,
   "metadata": {
    "collapsed": false
   },
   "outputs": [
    {
     "data": {
      "text/html": [
       "<div>\n",
       "<table border=\"1\" class=\"dataframe\">\n",
       "  <thead>\n",
       "    <tr style=\"text-align: right;\">\n",
       "      <th></th>\n",
       "      <th>fec_cand_id</th>\n",
       "      <th>first_last_p</th>\n",
       "      <th>party</th>\n",
       "      <th>distid_run</th>\n",
       "      <th>distid_cur</th>\n",
       "      <th>cur_cand</th>\n",
       "      <th>cycle_cand</th>\n",
       "      <th>crpico</th>\n",
       "      <th>recip_code</th>\n",
       "      <th>no_pacs</th>\n",
       "      <th>race_type</th>\n",
       "      <th>state</th>\n",
       "      <th>district</th>\n",
       "      <th>result</th>\n",
       "      <th>win</th>\n",
       "      <th>no_pacs_bin</th>\n",
       "      <th>incumbent</th>\n",
       "    </tr>\n",
       "  </thead>\n",
       "  <tbody>\n",
       "    <tr>\n",
       "      <th>0</th>\n",
       "      <td>H2NC08219</td>\n",
       "      <td>Antonio Blue (D)</td>\n",
       "      <td>D</td>\n",
       "      <td>NC08</td>\n",
       "      <td>0</td>\n",
       "      <td>NaN</td>\n",
       "      <td>Y</td>\n",
       "      <td>C</td>\n",
       "      <td>DC</td>\n",
       "      <td>NaN</td>\n",
       "      <td>HOUSE</td>\n",
       "      <td>NC</td>\n",
       "      <td>08</td>\n",
       "      <td>C</td>\n",
       "      <td>NaN</td>\n",
       "      <td>0</td>\n",
       "      <td>0</td>\n",
       "    </tr>\n",
       "    <tr>\n",
       "      <th>1</th>\n",
       "      <td>H2VI00082</td>\n",
       "      <td>Stacey Plaskett (D)</td>\n",
       "      <td>D</td>\n",
       "      <td>VI00</td>\n",
       "      <td>0</td>\n",
       "      <td>NaN</td>\n",
       "      <td>Y</td>\n",
       "      <td>C</td>\n",
       "      <td>DN</td>\n",
       "      <td>NaN</td>\n",
       "      <td>HOUSE</td>\n",
       "      <td>VI</td>\n",
       "      <td>00</td>\n",
       "      <td>N</td>\n",
       "      <td>NaN</td>\n",
       "      <td>0</td>\n",
       "      <td>0</td>\n",
       "    </tr>\n",
       "    <tr>\n",
       "      <th>2</th>\n",
       "      <td>S2NY00317</td>\n",
       "      <td>Tim Sweet (I)</td>\n",
       "      <td>I</td>\n",
       "      <td>NYS1</td>\n",
       "      <td>0</td>\n",
       "      <td>Y</td>\n",
       "      <td>Y</td>\n",
       "      <td>C</td>\n",
       "      <td>3L</td>\n",
       "      <td>NaN</td>\n",
       "      <td>SEN</td>\n",
       "      <td>NY</td>\n",
       "      <td>S1</td>\n",
       "      <td>L</td>\n",
       "      <td>0</td>\n",
       "      <td>0</td>\n",
       "      <td>0</td>\n",
       "    </tr>\n",
       "    <tr>\n",
       "      <th>3</th>\n",
       "      <td>P20005104</td>\n",
       "      <td>Maura Deluca (3)</td>\n",
       "      <td>3</td>\n",
       "      <td>PRES</td>\n",
       "      <td>0</td>\n",
       "      <td>NaN</td>\n",
       "      <td>NaN</td>\n",
       "      <td>NaN</td>\n",
       "      <td>3N</td>\n",
       "      <td>NaN</td>\n",
       "      <td>PRES</td>\n",
       "      <td>None</td>\n",
       "      <td>None</td>\n",
       "      <td>N</td>\n",
       "      <td>NaN</td>\n",
       "      <td>0</td>\n",
       "      <td>0</td>\n",
       "    </tr>\n",
       "    <tr>\n",
       "      <th>4</th>\n",
       "      <td>P20005120</td>\n",
       "      <td>Colin David Teberg (U)</td>\n",
       "      <td>U</td>\n",
       "      <td>PRES</td>\n",
       "      <td>0</td>\n",
       "      <td>NaN</td>\n",
       "      <td>NaN</td>\n",
       "      <td>NaN</td>\n",
       "      <td>UN</td>\n",
       "      <td>NaN</td>\n",
       "      <td>PRES</td>\n",
       "      <td>None</td>\n",
       "      <td>None</td>\n",
       "      <td>N</td>\n",
       "      <td>NaN</td>\n",
       "      <td>0</td>\n",
       "      <td>0</td>\n",
       "    </tr>\n",
       "  </tbody>\n",
       "</table>\n",
       "</div>"
      ],
      "text/plain": [
       "  fec_cand_id            first_last_p party distid_run distid_cur cur_cand  \\\n",
       "0   H2NC08219        Antonio Blue (D)     D       NC08          0      NaN   \n",
       "1   H2VI00082     Stacey Plaskett (D)     D       VI00          0      NaN   \n",
       "2   S2NY00317           Tim Sweet (I)     I       NYS1          0        Y   \n",
       "3   P20005104        Maura Deluca (3)     3       PRES          0      NaN   \n",
       "4   P20005120  Colin David Teberg (U)     U       PRES          0      NaN   \n",
       "\n",
       "  cycle_cand crpico recip_code no_pacs race_type state district result  win  \\\n",
       "0          Y      C         DC     NaN     HOUSE    NC       08      C  NaN   \n",
       "1          Y      C         DN     NaN     HOUSE    VI       00      N  NaN   \n",
       "2          Y      C         3L     NaN       SEN    NY       S1      L    0   \n",
       "3        NaN    NaN         3N     NaN      PRES  None     None      N  NaN   \n",
       "4        NaN    NaN         UN     NaN      PRES  None     None      N  NaN   \n",
       "\n",
       "   no_pacs_bin  incumbent  \n",
       "0            0          0  \n",
       "1            0          0  \n",
       "2            0          0  \n",
       "3            0          0  \n",
       "4            0          0  "
      ]
     },
     "execution_count": 18,
     "metadata": {},
     "output_type": "execute_result"
    }
   ],
   "source": [
    "cands.head()"
   ]
  },
  {
   "cell_type": "code",
   "execution_count": 19,
   "metadata": {
    "collapsed": true
   },
   "outputs": [],
   "source": [
    "#get total amount donated to each candidate by all PACs\n",
    "pacs_grouped = pacs.groupby('fec_cand_id').sum()"
   ]
  },
  {
   "cell_type": "code",
   "execution_count": 20,
   "metadata": {
    "collapsed": false
   },
   "outputs": [
    {
     "data": {
      "text/html": [
       "<div>\n",
       "<table border=\"1\" class=\"dataframe\">\n",
       "  <thead>\n",
       "    <tr style=\"text-align: right;\">\n",
       "      <th></th>\n",
       "      <th>cycle</th>\n",
       "      <th>fec_rec_no</th>\n",
       "      <th>amount</th>\n",
       "    </tr>\n",
       "    <tr>\n",
       "      <th>fec_cand_id</th>\n",
       "      <th></th>\n",
       "      <th></th>\n",
       "      <th></th>\n",
       "    </tr>\n",
       "  </thead>\n",
       "  <tbody>\n",
       "    <tr>\n",
       "      <th>H0AK00089</th>\n",
       "      <td>2012</td>\n",
       "      <td>4.092620e+18</td>\n",
       "      <td>-1000</td>\n",
       "    </tr>\n",
       "    <tr>\n",
       "      <th>H0AL02087</th>\n",
       "      <td>802788</td>\n",
       "      <td>1.608374e+21</td>\n",
       "      <td>535065</td>\n",
       "    </tr>\n",
       "    <tr>\n",
       "      <th>H0AL05163</th>\n",
       "      <td>694140</td>\n",
       "      <td>1.392243e+21</td>\n",
       "      <td>469727</td>\n",
       "    </tr>\n",
       "    <tr>\n",
       "      <th>H0AL05197</th>\n",
       "      <td>4024</td>\n",
       "      <td>6.164040e+18</td>\n",
       "      <td>5391</td>\n",
       "    </tr>\n",
       "    <tr>\n",
       "      <th>H0AL07060</th>\n",
       "      <td>2012</td>\n",
       "      <td>4.031620e+18</td>\n",
       "      <td>-1500</td>\n",
       "    </tr>\n",
       "  </tbody>\n",
       "</table>\n",
       "</div>"
      ],
      "text/plain": [
       "              cycle    fec_rec_no  amount\n",
       "fec_cand_id                              \n",
       "H0AK00089      2012  4.092620e+18   -1000\n",
       "H0AL02087    802788  1.608374e+21  535065\n",
       "H0AL05163    694140  1.392243e+21  469727\n",
       "H0AL05197      4024  6.164040e+18    5391\n",
       "H0AL07060      2012  4.031620e+18   -1500"
      ]
     },
     "execution_count": 20,
     "metadata": {},
     "output_type": "execute_result"
    }
   ],
   "source": [
    "pacs_grouped.head()"
   ]
  },
  {
   "cell_type": "code",
   "execution_count": 21,
   "metadata": {
    "collapsed": false
   },
   "outputs": [],
   "source": [
    "# can drop cycle and fec_rec_no (receipt) columns\n",
    "pacs_grouped = pacs_grouped.drop(pacs_grouped.columns[[0,1]], axis=1)"
   ]
  },
  {
   "cell_type": "code",
   "execution_count": 22,
   "metadata": {
    "collapsed": true
   },
   "outputs": [],
   "source": [
    "#get number of times any PAC donated to each candidate\n",
    "pacs_total = pacs.groupby('fec_cand_id').count()"
   ]
  },
  {
   "cell_type": "code",
   "execution_count": 23,
   "metadata": {
    "collapsed": false
   },
   "outputs": [
    {
     "name": "stdout",
     "output_type": "stream",
     "text": [
      "<class 'pandas.core.frame.DataFrame'>\n",
      "Index: 1785 entries, H0AK00089 to S8WV00101\n",
      "Data columns (total 9 columns):\n",
      "cycle         1785 non-null int64\n",
      "fec_rec_no    1785 non-null int64\n",
      "pac_id        1785 non-null int64\n",
      "cid           1785 non-null int64\n",
      "amount        1785 non-null int64\n",
      "date          1785 non-null int64\n",
      "real_code     1785 non-null int64\n",
      "type          1785 non-null int64\n",
      "di            1785 non-null int64\n",
      "dtypes: int64(9)\n",
      "memory usage: 139.5+ KB\n"
     ]
    }
   ],
   "source": [
    "pacs_total.info()"
   ]
  },
  {
   "cell_type": "code",
   "execution_count": 24,
   "metadata": {
    "collapsed": false
   },
   "outputs": [],
   "source": [
    "# the higher the count of pac_id, the more times a PAC donated to a candidate. This column cand be used \n",
    "# as a proxy for race length, since the more times a PAC donated the longer the race went\n",
    "# drop all columns except pac_id before join\n",
    "pacs_total = pacs_total.drop(pacs_total.columns[[0,1,3,4,5,6,7,8]], axis=1)"
   ]
  },
  {
   "cell_type": "code",
   "execution_count": 25,
   "metadata": {
    "collapsed": false
   },
   "outputs": [
    {
     "name": "stdout",
     "output_type": "stream",
     "text": [
      "<class 'pandas.core.frame.DataFrame'>\n",
      "Index: 1785 entries, H0AK00089 to S8WV00101\n",
      "Data columns (total 1 columns):\n",
      "pac_id    1785 non-null int64\n",
      "dtypes: int64(1)\n",
      "memory usage: 27.9+ KB\n"
     ]
    }
   ],
   "source": [
    "pacs_total.info()"
   ]
  },
  {
   "cell_type": "code",
   "execution_count": 26,
   "metadata": {
    "collapsed": true
   },
   "outputs": [],
   "source": [
    "#get unique number of PACs that donated to each candidate\n",
    "pac_unique = pacs.groupby('fec_cand_id').pac_id.nunique()"
   ]
  },
  {
   "cell_type": "code",
   "execution_count": 27,
   "metadata": {
    "collapsed": false
   },
   "outputs": [
    {
     "data": {
      "text/plain": [
       "fec_cand_id\n",
       "H0AK00089      1\n",
       "H0AL02087    201\n",
       "H0AL05163    159\n",
       "H0AL05197      2\n",
       "H0AL07060      1\n",
       "Name: pac_id, dtype: int64"
      ]
     },
     "execution_count": 27,
     "metadata": {},
     "output_type": "execute_result"
    }
   ],
   "source": [
    "pac_unique.head()"
   ]
  },
  {
   "cell_type": "code",
   "execution_count": 28,
   "metadata": {
    "collapsed": true
   },
   "outputs": [],
   "source": [
    "# join new data frames/columns into 'full' data frame\n",
    "full = cands.join(pacs_grouped, on='fec_cand_id', how='left')\n",
    "full = full.join(pac_unique, on='fec_cand_id', how='left')\n",
    "full = full.join(pacs_total, on='fec_cand_id', how='left', lsuffix='_unique', rsuffix='_total')"
   ]
  },
  {
   "cell_type": "code",
   "execution_count": 29,
   "metadata": {
    "collapsed": false
   },
   "outputs": [
    {
     "name": "stdout",
     "output_type": "stream",
     "text": [
      "<class 'pandas.core.frame.DataFrame'>\n",
      "Int64Index: 5952 entries, 0 to 5951\n",
      "Data columns (total 20 columns):\n",
      "fec_cand_id      5952 non-null object\n",
      "first_last_p     5952 non-null object\n",
      "party            5952 non-null object\n",
      "distid_run       5952 non-null object\n",
      "distid_cur       5952 non-null object\n",
      "cur_cand         1409 non-null object\n",
      "cycle_cand       2984 non-null object\n",
      "crpico           3266 non-null object\n",
      "recip_code       5952 non-null object\n",
      "no_pacs          7 non-null object\n",
      "race_type        5952 non-null object\n",
      "state            5365 non-null object\n",
      "district         5365 non-null object\n",
      "result           5952 non-null object\n",
      "win              2584 non-null float64\n",
      "no_pacs_bin      5952 non-null int64\n",
      "incumbent        5952 non-null int64\n",
      "amount           1743 non-null float64\n",
      "pac_id_unique    1743 non-null float64\n",
      "pac_id_total     1743 non-null float64\n",
      "dtypes: float64(4), int64(2), object(14)\n",
      "memory usage: 976.5+ KB\n"
     ]
    }
   ],
   "source": [
    "full.info()"
   ]
  },
  {
   "cell_type": "code",
   "execution_count": 30,
   "metadata": {
    "collapsed": true
   },
   "outputs": [],
   "source": [
    "#fill NaNs where NaN actually just equals 0\n",
    "full['win'] = full.win.fillna(0)\n",
    "full['amount'] = full.amount.fillna(0)\n",
    "full['pac_id_unique'] = full.pac_id_unique.fillna(0)\n",
    "full['pac_id_total'] = full.pac_id_total.fillna(0)"
   ]
  },
  {
   "cell_type": "code",
   "execution_count": 31,
   "metadata": {
    "collapsed": false
   },
   "outputs": [
    {
     "name": "stdout",
     "output_type": "stream",
     "text": [
      "<class 'pandas.core.frame.DataFrame'>\n",
      "Int64Index: 5952 entries, 0 to 5951\n",
      "Data columns (total 20 columns):\n",
      "fec_cand_id      5952 non-null object\n",
      "first_last_p     5952 non-null object\n",
      "party            5952 non-null object\n",
      "distid_run       5952 non-null object\n",
      "distid_cur       5952 non-null object\n",
      "cur_cand         1409 non-null object\n",
      "cycle_cand       2984 non-null object\n",
      "crpico           3266 non-null object\n",
      "recip_code       5952 non-null object\n",
      "no_pacs          7 non-null object\n",
      "race_type        5952 non-null object\n",
      "state            5365 non-null object\n",
      "district         5365 non-null object\n",
      "result           5952 non-null object\n",
      "win              5952 non-null float64\n",
      "no_pacs_bin      5952 non-null int64\n",
      "incumbent        5952 non-null int64\n",
      "amount           5952 non-null float64\n",
      "pac_id_unique    5952 non-null float64\n",
      "pac_id_total     5952 non-null float64\n",
      "dtypes: float64(4), int64(2), object(14)\n",
      "memory usage: 976.5+ KB\n"
     ]
    }
   ],
   "source": [
    "full.info()"
   ]
  },
  {
   "cell_type": "code",
   "execution_count": 32,
   "metadata": {
    "collapsed": false
   },
   "outputs": [
    {
     "data": {
      "text/plain": [
       "<matplotlib.axes._subplots.AxesSubplot at 0x110271e10>"
      ]
     },
     "execution_count": 32,
     "metadata": {},
     "output_type": "execute_result"
    },
    {
     "data": {
      "image/png": "[encoded data removed]",
      "text/plain": [
       "<matplotlib.figure.Figure at 0x1066d3b50>"
      ]
     },
     "metadata": {},
     "output_type": "display_data"
    }
   ],
   "source": [
    "#plot number unique PACs donating to candidates vs. total number of donations to candidates from all PACs\n",
    "full.plot(kind='scatter', x='pac_id_unique', y='pac_id_total')"
   ]
  },
  {
   "cell_type": "code",
   "execution_count": 33,
   "metadata": {
    "collapsed": false
   },
   "outputs": [
    {
     "data": {
      "text/plain": [
       "<matplotlib.axes._subplots.AxesSubplot at 0x10c966050>"
      ]
     },
     "execution_count": 33,
     "metadata": {},
     "output_type": "execute_result"
    },
    {
     "data": {
      "image/png": "[encoded data removed]",
      "text/plain": [
       "<matplotlib.figure.Figure at 0x10c970e10>"
      ]
     },
     "metadata": {},
     "output_type": "display_data"
    }
   ],
   "source": [
    "#plot amounts given to candidates by number unique PACS donating to candidates\n",
    "full.plot(kind='scatter', x='pac_id_unique', y='amount')"
   ]
  },
  {
   "cell_type": "code",
   "execution_count": 34,
   "metadata": {
    "collapsed": false
   },
   "outputs": [
    {
     "data": {
      "text/plain": [
       "<matplotlib.axes._subplots.AxesSubplot at 0x10c99cf10>"
      ]
     },
     "execution_count": 34,
     "metadata": {},
     "output_type": "execute_result"
    },
    {
     "data": {
      "image/png": "[encoded data removed]",
      "text/plain": [
       "<matplotlib.figure.Figure at 0x10c9d1dd0>"
      ]
     },
     "metadata": {},
     "output_type": "display_data"
    }
   ],
   "source": [
    "full.boxplot(column='pac_id_total', by='party') #more donations made to Dems than any other "
   ]
  },
  {
   "cell_type": "code",
   "execution_count": 35,
   "metadata": {
    "collapsed": false
   },
   "outputs": [],
   "source": [
    "#get data ready for modeling\n",
    "# Model 1\n",
    "y, X = dmatrices('win ~ 0 + amount + pac_id_unique + pac_id_total + C(party) + C(race_type) + C(state) + C(district) + C(no_pacs_bin) + C(incumbent)', \n",
    "                       full, return_type='dataframe')\n",
    "y = np.ravel(y)"
   ]
  },
  {
   "cell_type": "code",
   "execution_count": 36,
   "metadata": {
    "collapsed": false
   },
   "outputs": [
    {
     "data": {
      "text/plain": [
       "DummyClassifier(constant=None, random_state=None, strategy='stratified')"
      ]
     },
     "execution_count": 36,
     "metadata": {},
     "output_type": "execute_result"
    }
   ],
   "source": [
    "rf = RandomForestClassifier(n_estimators=100, max_features='sqrt')\n",
    "dc = DummyClassifier()\n",
    "\n",
    "rf.fit(X, y)\n",
    "dc.fit(X, y)"
   ]
  },
  {
   "cell_type": "code",
   "execution_count": 37,
   "metadata": {
    "collapsed": false
   },
   "outputs": [
    {
     "name": "stdout",
     "output_type": "stream",
     "text": [
      "0.959731345102\n",
      "0.828894870009\n"
     ]
    }
   ],
   "source": [
    "#compare results\n",
    "print np.abs(cross_val_score(rf, X, y, scoring='accuracy', cv=10)).mean()\n",
    "print np.abs(cross_val_score(dc, X, y, scoring='accuracy', cv=10)).mean()\n",
    "#this random forest can predict with 96% accuracy the outcome of an election, compared to a dummy classifier with \n",
    "#83% accuracy"
   ]
  },
  {
   "cell_type": "code",
   "execution_count": 38,
   "metadata": {
    "collapsed": true
   },
   "outputs": [],
   "source": [
    "# test vs SVM\n",
    "# scale features first\n",
    "scale = StandardScaler()\n",
    "X_train = scale.fit(X).transform(X)"
   ]
  },
  {
   "cell_type": "code",
   "execution_count": 39,
   "metadata": {
    "collapsed": false
   },
   "outputs": [
    {
     "data": {
      "text/plain": [
       "SVC(C=1.0, cache_size=200, class_weight=None, coef0=0.0, degree=3, gamma=0.0,\n",
       "  kernel='rbf', max_iter=-1, probability=False, random_state=None,\n",
       "  shrinking=True, tol=0.001, verbose=False)"
      ]
     },
     "execution_count": 39,
     "metadata": {},
     "output_type": "execute_result"
    }
   ],
   "source": [
    "svm = SVC()\n",
    "svm.fit(X_train, y)"
   ]
  },
  {
   "cell_type": "code",
   "execution_count": 40,
   "metadata": {
    "collapsed": false
   },
   "outputs": [
    {
     "name": "stdout",
     "output_type": "stream",
     "text": [
      "0.948913901749\n"
     ]
    }
   ],
   "source": [
    "print np.abs(cross_val_score(svm, X_train, y, scoring='accuracy', cv=10)).mean()\n",
    "# SVM predicts with 95% accuracy, try again after rf feature importance"
   ]
  },
  {
   "cell_type": "code",
   "execution_count": 41,
   "metadata": {
    "collapsed": false
   },
   "outputs": [
    {
     "data": {
      "text/html": [
       "<div>\n",
       "<table border=\"1\" class=\"dataframe\">\n",
       "  <thead>\n",
       "    <tr style=\"text-align: right;\">\n",
       "      <th></th>\n",
       "      <th>importance</th>\n",
       "    </tr>\n",
       "  </thead>\n",
       "  <tbody>\n",
       "    <tr>\n",
       "      <th>C(district)[T.AS]</th>\n",
       "      <td>0.000000</td>\n",
       "    </tr>\n",
       "    <tr>\n",
       "      <th>C(race_type)[T.PRES]</th>\n",
       "      <td>0.000000</td>\n",
       "    </tr>\n",
       "    <tr>\n",
       "      <th>C(party)[U]</th>\n",
       "      <td>0.000011</td>\n",
       "    </tr>\n",
       "    <tr>\n",
       "      <th>C(district)[T.38]</th>\n",
       "      <td>0.000026</td>\n",
       "    </tr>\n",
       "    <tr>\n",
       "      <th>C(district)[T.50]</th>\n",
       "      <td>0.000026</td>\n",
       "    </tr>\n",
       "    <tr>\n",
       "      <th>C(district)[T.37]</th>\n",
       "      <td>0.000027</td>\n",
       "    </tr>\n",
       "    <tr>\n",
       "      <th>C(district)[T.46]</th>\n",
       "      <td>0.000028</td>\n",
       "    </tr>\n",
       "    <tr>\n",
       "      <th>C(district)[T.53]</th>\n",
       "      <td>0.000050</td>\n",
       "    </tr>\n",
       "    <tr>\n",
       "      <th>C(district)[T.45]</th>\n",
       "      <td>0.000059</td>\n",
       "    </tr>\n",
       "    <tr>\n",
       "      <th>C(district)[T.42]</th>\n",
       "      <td>0.000067</td>\n",
       "    </tr>\n",
       "    <tr>\n",
       "      <th>C(district)[T.28]</th>\n",
       "      <td>0.000067</td>\n",
       "    </tr>\n",
       "    <tr>\n",
       "      <th>C(district)[T.49]</th>\n",
       "      <td>0.000097</td>\n",
       "    </tr>\n",
       "    <tr>\n",
       "      <th>C(district)[T.29]</th>\n",
       "      <td>0.000116</td>\n",
       "    </tr>\n",
       "    <tr>\n",
       "      <th>C(district)[T.32]</th>\n",
       "      <td>0.000128</td>\n",
       "    </tr>\n",
       "    <tr>\n",
       "      <th>C(state)[T.AL]</th>\n",
       "      <td>0.000133</td>\n",
       "    </tr>\n",
       "    <tr>\n",
       "      <th>C(district)[T.43]</th>\n",
       "      <td>0.000156</td>\n",
       "    </tr>\n",
       "    <tr>\n",
       "      <th>C(district)[T.39]</th>\n",
       "      <td>0.000157</td>\n",
       "    </tr>\n",
       "    <tr>\n",
       "      <th>C(state)[T.ID]</th>\n",
       "      <td>0.000167</td>\n",
       "    </tr>\n",
       "    <tr>\n",
       "      <th>C(district)[T.40]</th>\n",
       "      <td>0.000171</td>\n",
       "    </tr>\n",
       "    <tr>\n",
       "      <th>C(state)[T.DE]</th>\n",
       "      <td>0.000220</td>\n",
       "    </tr>\n",
       "    <tr>\n",
       "      <th>C(district)[T.25]</th>\n",
       "      <td>0.000256</td>\n",
       "    </tr>\n",
       "    <tr>\n",
       "      <th>C(state)[T.MS]</th>\n",
       "      <td>0.000277</td>\n",
       "    </tr>\n",
       "    <tr>\n",
       "      <th>C(state)[T.OR]</th>\n",
       "      <td>0.000294</td>\n",
       "    </tr>\n",
       "    <tr>\n",
       "      <th>C(district)[T.51]</th>\n",
       "      <td>0.000325</td>\n",
       "    </tr>\n",
       "    <tr>\n",
       "      <th>C(district)[T.34]</th>\n",
       "      <td>0.000330</td>\n",
       "    </tr>\n",
       "    <tr>\n",
       "      <th>C(state)[T.WY]</th>\n",
       "      <td>0.000385</td>\n",
       "    </tr>\n",
       "    <tr>\n",
       "      <th>C(district)[T.21]</th>\n",
       "      <td>0.000385</td>\n",
       "    </tr>\n",
       "    <tr>\n",
       "      <th>C(state)[T.DC]</th>\n",
       "      <td>0.000443</td>\n",
       "    </tr>\n",
       "    <tr>\n",
       "      <th>C(state)[T.VT]</th>\n",
       "      <td>0.000457</td>\n",
       "    </tr>\n",
       "    <tr>\n",
       "      <th>C(state)[T.KS]</th>\n",
       "      <td>0.000467</td>\n",
       "    </tr>\n",
       "    <tr>\n",
       "      <th>...</th>\n",
       "      <td>...</td>\n",
       "    </tr>\n",
       "    <tr>\n",
       "      <th>C(state)[T.NC]</th>\n",
       "      <td>0.002033</td>\n",
       "    </tr>\n",
       "    <tr>\n",
       "      <th>C(district)[T.16]</th>\n",
       "      <td>0.002111</td>\n",
       "    </tr>\n",
       "    <tr>\n",
       "      <th>C(state)[T.MI]</th>\n",
       "      <td>0.002219</td>\n",
       "    </tr>\n",
       "    <tr>\n",
       "      <th>C(state)[T.NJ]</th>\n",
       "      <td>0.002245</td>\n",
       "    </tr>\n",
       "    <tr>\n",
       "      <th>C(state)[T.NH]</th>\n",
       "      <td>0.002359</td>\n",
       "    </tr>\n",
       "    <tr>\n",
       "      <th>C(state)[T.PA]</th>\n",
       "      <td>0.002504</td>\n",
       "    </tr>\n",
       "    <tr>\n",
       "      <th>C(district)[T.09]</th>\n",
       "      <td>0.002571</td>\n",
       "    </tr>\n",
       "    <tr>\n",
       "      <th>C(district)[T.08]</th>\n",
       "      <td>0.002599</td>\n",
       "    </tr>\n",
       "    <tr>\n",
       "      <th>C(district)[T.04]</th>\n",
       "      <td>0.002760</td>\n",
       "    </tr>\n",
       "    <tr>\n",
       "      <th>C(state)[T.NY]</th>\n",
       "      <td>0.002827</td>\n",
       "    </tr>\n",
       "    <tr>\n",
       "      <th>C(state)[T.OH]</th>\n",
       "      <td>0.002924</td>\n",
       "    </tr>\n",
       "    <tr>\n",
       "      <th>C(district)[T.02]</th>\n",
       "      <td>0.002957</td>\n",
       "    </tr>\n",
       "    <tr>\n",
       "      <th>C(state)[T.NV]</th>\n",
       "      <td>0.003050</td>\n",
       "    </tr>\n",
       "    <tr>\n",
       "      <th>C(state)[T.FL]</th>\n",
       "      <td>0.003098</td>\n",
       "    </tr>\n",
       "    <tr>\n",
       "      <th>C(district)[T.03]</th>\n",
       "      <td>0.003198</td>\n",
       "    </tr>\n",
       "    <tr>\n",
       "      <th>C(district)[T.06]</th>\n",
       "      <td>0.003364</td>\n",
       "    </tr>\n",
       "    <tr>\n",
       "      <th>C(district)[T.01]</th>\n",
       "      <td>0.003469</td>\n",
       "    </tr>\n",
       "    <tr>\n",
       "      <th>C(state)[T.TX]</th>\n",
       "      <td>0.003571</td>\n",
       "    </tr>\n",
       "    <tr>\n",
       "      <th>C(state)[T.AZ]</th>\n",
       "      <td>0.003600</td>\n",
       "    </tr>\n",
       "    <tr>\n",
       "      <th>C(state)[T.IL]</th>\n",
       "      <td>0.004072</td>\n",
       "    </tr>\n",
       "    <tr>\n",
       "      <th>C(state)[T.CA]</th>\n",
       "      <td>0.005157</td>\n",
       "    </tr>\n",
       "    <tr>\n",
       "      <th>C(party)[D]</th>\n",
       "      <td>0.007886</td>\n",
       "    </tr>\n",
       "    <tr>\n",
       "      <th>C(party)[R]</th>\n",
       "      <td>0.008418</td>\n",
       "    </tr>\n",
       "    <tr>\n",
       "      <th>C(district)[T.S1]</th>\n",
       "      <td>0.010093</td>\n",
       "    </tr>\n",
       "    <tr>\n",
       "      <th>C(district)[T.S2]</th>\n",
       "      <td>0.013669</td>\n",
       "    </tr>\n",
       "    <tr>\n",
       "      <th>C(race_type)[T.SEN]</th>\n",
       "      <td>0.017226</td>\n",
       "    </tr>\n",
       "    <tr>\n",
       "      <th>C(incumbent)[T.1]</th>\n",
       "      <td>0.135188</td>\n",
       "    </tr>\n",
       "    <tr>\n",
       "      <th>amount</th>\n",
       "      <td>0.184387</td>\n",
       "    </tr>\n",
       "    <tr>\n",
       "      <th>pac_id_unique</th>\n",
       "      <td>0.203802</td>\n",
       "    </tr>\n",
       "    <tr>\n",
       "      <th>pac_id_total</th>\n",
       "      <td>0.282338</td>\n",
       "    </tr>\n",
       "  </tbody>\n",
       "</table>\n",
       "<p>124 rows × 1 columns</p>\n",
       "</div>"
      ],
      "text/plain": [
       "                      importance\n",
       "C(district)[T.AS]       0.000000\n",
       "C(race_type)[T.PRES]    0.000000\n",
       "C(party)[U]             0.000011\n",
       "C(district)[T.38]       0.000026\n",
       "C(district)[T.50]       0.000026\n",
       "C(district)[T.37]       0.000027\n",
       "C(district)[T.46]       0.000028\n",
       "C(district)[T.53]       0.000050\n",
       "C(district)[T.45]       0.000059\n",
       "C(district)[T.42]       0.000067\n",
       "C(district)[T.28]       0.000067\n",
       "C(district)[T.49]       0.000097\n",
       "C(district)[T.29]       0.000116\n",
       "C(district)[T.32]       0.000128\n",
       "C(state)[T.AL]          0.000133\n",
       "C(district)[T.43]       0.000156\n",
       "C(district)[T.39]       0.000157\n",
       "C(state)[T.ID]          0.000167\n",
       "C(district)[T.40]       0.000171\n",
       "C(state)[T.DE]          0.000220\n",
       "C(district)[T.25]       0.000256\n",
       "C(state)[T.MS]          0.000277\n",
       "C(state)[T.OR]          0.000294\n",
       "C(district)[T.51]       0.000325\n",
       "C(district)[T.34]       0.000330\n",
       "C(state)[T.WY]          0.000385\n",
       "C(district)[T.21]       0.000385\n",
       "C(state)[T.DC]          0.000443\n",
       "C(state)[T.VT]          0.000457\n",
       "C(state)[T.KS]          0.000467\n",
       "...                          ...\n",
       "C(state)[T.NC]          0.002033\n",
       "C(district)[T.16]       0.002111\n",
       "C(state)[T.MI]          0.002219\n",
       "C(state)[T.NJ]          0.002245\n",
       "C(state)[T.NH]          0.002359\n",
       "C(state)[T.PA]          0.002504\n",
       "C(district)[T.09]       0.002571\n",
       "C(district)[T.08]       0.002599\n",
       "C(district)[T.04]       0.002760\n",
       "C(state)[T.NY]          0.002827\n",
       "C(state)[T.OH]          0.002924\n",
       "C(district)[T.02]       0.002957\n",
       "C(state)[T.NV]          0.003050\n",
       "C(state)[T.FL]          0.003098\n",
       "C(district)[T.03]       0.003198\n",
       "C(district)[T.06]       0.003364\n",
       "C(district)[T.01]       0.003469\n",
       "C(state)[T.TX]          0.003571\n",
       "C(state)[T.AZ]          0.003600\n",
       "C(state)[T.IL]          0.004072\n",
       "C(state)[T.CA]          0.005157\n",
       "C(party)[D]             0.007886\n",
       "C(party)[R]             0.008418\n",
       "C(district)[T.S1]       0.010093\n",
       "C(district)[T.S2]       0.013669\n",
       "C(race_type)[T.SEN]     0.017226\n",
       "C(incumbent)[T.1]       0.135188\n",
       "amount                  0.184387\n",
       "pac_id_unique           0.203802\n",
       "pac_id_total            0.282338\n",
       "\n",
       "[124 rows x 1 columns]"
      ]
     },
     "execution_count": 41,
     "metadata": {},
     "output_type": "execute_result"
    }
   ],
   "source": [
    "#check feature importance\n",
    "pd.set_option('display.float_format', lambda x: '%3f' % x)\n",
    "d = {'importance': rf.feature_importances_}\n",
    "pd.DataFrame(d, index=X.columns).sort('importance')"
   ]
  },
  {
   "cell_type": "code",
   "execution_count": 42,
   "metadata": {
    "collapsed": true
   },
   "outputs": [],
   "source": [
    "# somewhat not surprisingly, the most important features of this model are unique pacs donating, amount donated, \n",
    "# number of times donated, whether or not the candidate was an incumbent, the party, and race type\n",
    "# may have over-complicated my model by splitting up state and district, might be worth it to try the model just by\n",
    "# patsy-ing the original distid_run column"
   ]
  },
  {
   "cell_type": "code",
   "execution_count": 43,
   "metadata": {
    "collapsed": true
   },
   "outputs": [],
   "source": [
    "# Model 1a\n",
    "y1, X1 = dmatrices('win ~ 0 + amount + pac_id_unique + pac_id_total + C(party) + C(race_type) + C(incumbent) + C(distid_run)',\n",
    "                         full, return_type='dataframe')\n",
    "y1 = np.ravel(y1)"
   ]
  },
  {
   "cell_type": "code",
   "execution_count": 49,
   "metadata": {
    "collapsed": false
   },
   "outputs": [
    {
     "name": "stdout",
     "output_type": "stream",
     "text": [
      "0.963705938751\n"
     ]
    }
   ],
   "source": [
    "rf1 = rf\n",
    "\n",
    "rf1.fit(X1, y1)\n",
    "print np.abs(cross_val_score(rf1, X1, y1, scoring='accuracy', cv=10)).mean()\n",
    "# Slightly better prediction accuracy here as when I used State and District separately"
   ]
  },
  {
   "cell_type": "code",
   "execution_count": 50,
   "metadata": {
    "collapsed": false
   },
   "outputs": [
    {
     "data": {
      "text/html": [
       "<div>\n",
       "<table border=\"1\" class=\"dataframe\">\n",
       "  <thead>\n",
       "    <tr style=\"text-align: right;\">\n",
       "      <th></th>\n",
       "      <th>importance</th>\n",
       "    </tr>\n",
       "  </thead>\n",
       "  <tbody>\n",
       "    <tr>\n",
       "      <th>C(distid_run)[T.PA19]</th>\n",
       "      <td>0.000000</td>\n",
       "    </tr>\n",
       "    <tr>\n",
       "      <th>C(distid_run)[T.NY28]</th>\n",
       "      <td>0.000000</td>\n",
       "    </tr>\n",
       "    <tr>\n",
       "      <th>C(distid_run)[T.CA00]</th>\n",
       "      <td>0.000000</td>\n",
       "    </tr>\n",
       "    <tr>\n",
       "      <th>C(distid_run)[T.IL19]</th>\n",
       "      <td>0.000000</td>\n",
       "    </tr>\n",
       "    <tr>\n",
       "      <th>C(distid_run)[T.CT06]</th>\n",
       "      <td>0.000000</td>\n",
       "    </tr>\n",
       "    <tr>\n",
       "      <th>C(distid_run)[T.ASAS]</th>\n",
       "      <td>0.000000</td>\n",
       "    </tr>\n",
       "    <tr>\n",
       "      <th>C(distid_run)[T.NJ13]</th>\n",
       "      <td>0.000000</td>\n",
       "    </tr>\n",
       "    <tr>\n",
       "      <th>C(distid_run)[T.NY00]</th>\n",
       "      <td>0.000000</td>\n",
       "    </tr>\n",
       "    <tr>\n",
       "      <th>C(distid_run)[T.LA07]</th>\n",
       "      <td>0.000000</td>\n",
       "    </tr>\n",
       "    <tr>\n",
       "      <th>C(distid_run)[T.IL00]</th>\n",
       "      <td>0.000000</td>\n",
       "    </tr>\n",
       "    <tr>\n",
       "      <th>C(distid_run)[T.OH17]</th>\n",
       "      <td>0.000000</td>\n",
       "    </tr>\n",
       "    <tr>\n",
       "      <th>C(distid_run)[T.MI15]</th>\n",
       "      <td>0.000000</td>\n",
       "    </tr>\n",
       "    <tr>\n",
       "      <th>C(distid_run)[T.NY29]</th>\n",
       "      <td>0.000000</td>\n",
       "    </tr>\n",
       "    <tr>\n",
       "      <th>C(distid_run)[T.IA05]</th>\n",
       "      <td>0.000000</td>\n",
       "    </tr>\n",
       "    <tr>\n",
       "      <th>C(distid_run)[T.OH18]</th>\n",
       "      <td>0.000000</td>\n",
       "    </tr>\n",
       "    <tr>\n",
       "      <th>C(distid_run)[T.MO09]</th>\n",
       "      <td>0.000000</td>\n",
       "    </tr>\n",
       "    <tr>\n",
       "      <th>C(distid_run)[T.MA10]</th>\n",
       "      <td>0.000000</td>\n",
       "    </tr>\n",
       "    <tr>\n",
       "      <th>C(distid_run)[T.MO03]</th>\n",
       "      <td>0.000001</td>\n",
       "    </tr>\n",
       "    <tr>\n",
       "      <th>C(distid_run)[T.NE03]</th>\n",
       "      <td>0.000001</td>\n",
       "    </tr>\n",
       "    <tr>\n",
       "      <th>C(distid_run)[T.MD07]</th>\n",
       "      <td>0.000002</td>\n",
       "    </tr>\n",
       "    <tr>\n",
       "      <th>C(distid_run)[T.TN07]</th>\n",
       "      <td>0.000002</td>\n",
       "    </tr>\n",
       "    <tr>\n",
       "      <th>C(distid_run)[T.AL07]</th>\n",
       "      <td>0.000002</td>\n",
       "    </tr>\n",
       "    <tr>\n",
       "      <th>C(distid_run)[T.AZ07]</th>\n",
       "      <td>0.000002</td>\n",
       "    </tr>\n",
       "    <tr>\n",
       "      <th>C(distid_run)[T.TX21]</th>\n",
       "      <td>0.000002</td>\n",
       "    </tr>\n",
       "    <tr>\n",
       "      <th>C(distid_run)[T.LA01]</th>\n",
       "      <td>0.000002</td>\n",
       "    </tr>\n",
       "    <tr>\n",
       "      <th>C(distid_run)[T.MI13]</th>\n",
       "      <td>0.000003</td>\n",
       "    </tr>\n",
       "    <tr>\n",
       "      <th>C(distid_run)[T.ID02]</th>\n",
       "      <td>0.000003</td>\n",
       "    </tr>\n",
       "    <tr>\n",
       "      <th>C(distid_run)[T.TX32]</th>\n",
       "      <td>0.000003</td>\n",
       "    </tr>\n",
       "    <tr>\n",
       "      <th>C(distid_run)[T.TN02]</th>\n",
       "      <td>0.000003</td>\n",
       "    </tr>\n",
       "    <tr>\n",
       "      <th>C(distid_run)[T.MA09]</th>\n",
       "      <td>0.000003</td>\n",
       "    </tr>\n",
       "    <tr>\n",
       "      <th>...</th>\n",
       "      <td>...</td>\n",
       "    </tr>\n",
       "    <tr>\n",
       "      <th>C(distid_run)[T.NC11]</th>\n",
       "      <td>0.001533</td>\n",
       "    </tr>\n",
       "    <tr>\n",
       "      <th>C(distid_run)[T.CA01]</th>\n",
       "      <td>0.001575</td>\n",
       "    </tr>\n",
       "    <tr>\n",
       "      <th>C(distid_run)[T.FL26]</th>\n",
       "      <td>0.001584</td>\n",
       "    </tr>\n",
       "    <tr>\n",
       "      <th>C(distid_run)[T.CA07]</th>\n",
       "      <td>0.001589</td>\n",
       "    </tr>\n",
       "    <tr>\n",
       "      <th>C(distid_run)[T.FL22]</th>\n",
       "      <td>0.001656</td>\n",
       "    </tr>\n",
       "    <tr>\n",
       "      <th>C(distid_run)[T.PRES]</th>\n",
       "      <td>0.001659</td>\n",
       "    </tr>\n",
       "    <tr>\n",
       "      <th>C(distid_run)[T.FL03]</th>\n",
       "      <td>0.001666</td>\n",
       "    </tr>\n",
       "    <tr>\n",
       "      <th>C(distid_run)[T.MD06]</th>\n",
       "      <td>0.001678</td>\n",
       "    </tr>\n",
       "    <tr>\n",
       "      <th>C(party)[3]</th>\n",
       "      <td>0.001804</td>\n",
       "    </tr>\n",
       "    <tr>\n",
       "      <th>C(distid_run)[T.CA35]</th>\n",
       "      <td>0.001844</td>\n",
       "    </tr>\n",
       "    <tr>\n",
       "      <th>C(distid_run)[T.CA36]</th>\n",
       "      <td>0.001942</td>\n",
       "    </tr>\n",
       "    <tr>\n",
       "      <th>C(distid_run)[T.CA15]</th>\n",
       "      <td>0.001943</td>\n",
       "    </tr>\n",
       "    <tr>\n",
       "      <th>C(distid_run)[T.OH14]</th>\n",
       "      <td>0.001946</td>\n",
       "    </tr>\n",
       "    <tr>\n",
       "      <th>C(distid_run)[T.OK01]</th>\n",
       "      <td>0.001998</td>\n",
       "    </tr>\n",
       "    <tr>\n",
       "      <th>C(distid_run)[T.IL11]</th>\n",
       "      <td>0.002008</td>\n",
       "    </tr>\n",
       "    <tr>\n",
       "      <th>C(distid_run)[T.IL13]</th>\n",
       "      <td>0.002041</td>\n",
       "    </tr>\n",
       "    <tr>\n",
       "      <th>C(distid_run)[T.NY08]</th>\n",
       "      <td>0.002170</td>\n",
       "    </tr>\n",
       "    <tr>\n",
       "      <th>C(distid_run)[T.PA17]</th>\n",
       "      <td>0.002202</td>\n",
       "    </tr>\n",
       "    <tr>\n",
       "      <th>C(party)[I]</th>\n",
       "      <td>0.002264</td>\n",
       "    </tr>\n",
       "    <tr>\n",
       "      <th>C(race_type)[T.PRES]</th>\n",
       "      <td>0.002394</td>\n",
       "    </tr>\n",
       "    <tr>\n",
       "      <th>C(distid_run)[T.TX16]</th>\n",
       "      <td>0.002401</td>\n",
       "    </tr>\n",
       "    <tr>\n",
       "      <th>C(distid_run)[T.PA12]</th>\n",
       "      <td>0.002408</td>\n",
       "    </tr>\n",
       "    <tr>\n",
       "      <th>C(distid_run)[T.AZ02]</th>\n",
       "      <td>0.002706</td>\n",
       "    </tr>\n",
       "    <tr>\n",
       "      <th>C(party)[R]</th>\n",
       "      <td>0.007164</td>\n",
       "    </tr>\n",
       "    <tr>\n",
       "      <th>C(party)[D]</th>\n",
       "      <td>0.008383</td>\n",
       "    </tr>\n",
       "    <tr>\n",
       "      <th>C(race_type)[T.SEN]</th>\n",
       "      <td>0.022027</td>\n",
       "    </tr>\n",
       "    <tr>\n",
       "      <th>C(incumbent)[T.1]</th>\n",
       "      <td>0.158390</td>\n",
       "    </tr>\n",
       "    <tr>\n",
       "      <th>pac_id_total</th>\n",
       "      <td>0.195290</td>\n",
       "    </tr>\n",
       "    <tr>\n",
       "      <th>pac_id_unique</th>\n",
       "      <td>0.205114</td>\n",
       "    </tr>\n",
       "    <tr>\n",
       "      <th>amount</th>\n",
       "      <td>0.213323</td>\n",
       "    </tr>\n",
       "  </tbody>\n",
       "</table>\n",
       "<p>570 rows × 1 columns</p>\n",
       "</div>"
      ],
      "text/plain": [
       "                       importance\n",
       "C(distid_run)[T.PA19]    0.000000\n",
       "C(distid_run)[T.NY28]    0.000000\n",
       "C(distid_run)[T.CA00]    0.000000\n",
       "C(distid_run)[T.IL19]    0.000000\n",
       "C(distid_run)[T.CT06]    0.000000\n",
       "C(distid_run)[T.ASAS]    0.000000\n",
       "C(distid_run)[T.NJ13]    0.000000\n",
       "C(distid_run)[T.NY00]    0.000000\n",
       "C(distid_run)[T.LA07]    0.000000\n",
       "C(distid_run)[T.IL00]    0.000000\n",
       "C(distid_run)[T.OH17]    0.000000\n",
       "C(distid_run)[T.MI15]    0.000000\n",
       "C(distid_run)[T.NY29]    0.000000\n",
       "C(distid_run)[T.IA05]    0.000000\n",
       "C(distid_run)[T.OH18]    0.000000\n",
       "C(distid_run)[T.MO09]    0.000000\n",
       "C(distid_run)[T.MA10]    0.000000\n",
       "C(distid_run)[T.MO03]    0.000001\n",
       "C(distid_run)[T.NE03]    0.000001\n",
       "C(distid_run)[T.MD07]    0.000002\n",
       "C(distid_run)[T.TN07]    0.000002\n",
       "C(distid_run)[T.AL07]    0.000002\n",
       "C(distid_run)[T.AZ07]    0.000002\n",
       "C(distid_run)[T.TX21]    0.000002\n",
       "C(distid_run)[T.LA01]    0.000002\n",
       "C(distid_run)[T.MI13]    0.000003\n",
       "C(distid_run)[T.ID02]    0.000003\n",
       "C(distid_run)[T.TX32]    0.000003\n",
       "C(distid_run)[T.TN02]    0.000003\n",
       "C(distid_run)[T.MA09]    0.000003\n",
       "...                           ...\n",
       "C(distid_run)[T.NC11]    0.001533\n",
       "C(distid_run)[T.CA01]    0.001575\n",
       "C(distid_run)[T.FL26]    0.001584\n",
       "C(distid_run)[T.CA07]    0.001589\n",
       "C(distid_run)[T.FL22]    0.001656\n",
       "C(distid_run)[T.PRES]    0.001659\n",
       "C(distid_run)[T.FL03]    0.001666\n",
       "C(distid_run)[T.MD06]    0.001678\n",
       "C(party)[3]              0.001804\n",
       "C(distid_run)[T.CA35]    0.001844\n",
       "C(distid_run)[T.CA36]    0.001942\n",
       "C(distid_run)[T.CA15]    0.001943\n",
       "C(distid_run)[T.OH14]    0.001946\n",
       "C(distid_run)[T.OK01]    0.001998\n",
       "C(distid_run)[T.IL11]    0.002008\n",
       "C(distid_run)[T.IL13]    0.002041\n",
       "C(distid_run)[T.NY08]    0.002170\n",
       "C(distid_run)[T.PA17]    0.002202\n",
       "C(party)[I]              0.002264\n",
       "C(race_type)[T.PRES]     0.002394\n",
       "C(distid_run)[T.TX16]    0.002401\n",
       "C(distid_run)[T.PA12]    0.002408\n",
       "C(distid_run)[T.AZ02]    0.002706\n",
       "C(party)[R]              0.007164\n",
       "C(party)[D]              0.008383\n",
       "C(race_type)[T.SEN]      0.022027\n",
       "C(incumbent)[T.1]        0.158390\n",
       "pac_id_total             0.195290\n",
       "pac_id_unique            0.205114\n",
       "amount                   0.213323\n",
       "\n",
       "[570 rows x 1 columns]"
      ]
     },
     "execution_count": 50,
     "metadata": {},
     "output_type": "execute_result"
    }
   ],
   "source": [
    "#check feature importance w/ distid_run instead of separate columns for state and district\n",
    "pd.set_option('display.float_format', lambda x: '%3f' % x)\n",
    "d1 = {'importance': rf1.feature_importances_}\n",
    "pd.DataFrame(d1, index=X1.columns).sort('importance')"
   ]
  },
  {
   "cell_type": "code",
   "execution_count": 51,
   "metadata": {
    "collapsed": true
   },
   "outputs": [],
   "source": [
    "# new model including only important features\n",
    "# Model 2\n",
    "y_new, X_new = dmatrices('win ~ 0 + amount + pac_id_unique + pac_id_total + C(party) + C(race_type) + C(incumbent)',\n",
    "                         full, return_type='dataframe')\n",
    "y_new = np.ravel(y_new)"
   ]
  },
  {
   "cell_type": "code",
   "execution_count": 52,
   "metadata": {
    "collapsed": true
   },
   "outputs": [],
   "source": [
    "Xscale_new = scale.fit(X_new).transform(X_new)"
   ]
  },
  {
   "cell_type": "code",
   "execution_count": 53,
   "metadata": {
    "collapsed": false
   },
   "outputs": [
    {
     "data": {
      "text/plain": [
       "DummyClassifier(constant=None, random_state=None, strategy='stratified')"
      ]
     },
     "execution_count": 53,
     "metadata": {},
     "output_type": "execute_result"
    }
   ],
   "source": [
    "rf1 = rf\n",
    "dc1 = dc\n",
    "svm1 = svm \n",
    "\n",
    "rf1.fit(X_new, y_new)\n",
    "svm1.fit(Xscale_new, y_new)\n",
    "dc1.fit(X_new, y_new)"
   ]
  },
  {
   "cell_type": "code",
   "execution_count": 67,
   "metadata": {
    "collapsed": false
   },
   "outputs": [
    {
     "name": "stdout",
     "output_type": "stream",
     "text": [
      "0.967066437313\n",
      "0.963032823868\n",
      "0.846277423721\n"
     ]
    }
   ],
   "source": [
    "print np.abs(cross_val_score(rf1, X_new, y_new, scoring='accuracy', cv=10)).mean()\n",
    "print np.abs(cross_val_score(svm1, Xscale_new, y_new, scoring='accuracy', cv=10)).mean()\n",
    "print np.abs(cross_val_score(dc1, X_new, y_new, scoring='accuracy', cv=10)).mean()\n",
    "# RF improves marginally from when many more features were included, but SVM improved"
   ]
  },
  {
   "cell_type": "code",
   "execution_count": null,
   "metadata": {
    "collapsed": true
   },
   "outputs": [],
   "source": [
    "# try clustering after modeling with RF"
   ]
  },
  {
   "cell_type": "code",
   "execution_count": 56,
   "metadata": {
    "collapsed": true
   },
   "outputs": [],
   "source": [
    "from sklearn.cluster import KMeans"
   ]
  },
  {
   "cell_type": "code",
   "execution_count": 57,
   "metadata": {
    "collapsed": false
   },
   "outputs": [
    {
     "data": {
      "text/plain": [
       "KMeans(copy_x=True, init='k-means++', max_iter=300, n_clusters=8, n_init=10,\n",
       "    n_jobs=1, precompute_distances='auto', random_state=None, tol=0.0001,\n",
       "    verbose=0)"
      ]
     },
     "execution_count": 57,
     "metadata": {},
     "output_type": "execute_result"
    }
   ],
   "source": [
    "# use scaled data for clustering\n",
    "km = KMeans()\n",
    "km.fit(Xscale_new)"
   ]
  },
  {
   "cell_type": "code",
   "execution_count": 58,
   "metadata": {
    "collapsed": false
   },
   "outputs": [
    {
     "data": {
      "text/plain": [
       "[<matplotlib.lines.Line2D at 0x10e2e53d0>]"
      ]
     },
     "execution_count": 58,
     "metadata": {},
     "output_type": "execute_result"
    },
    {
     "data": {
      "image/png": "[encoded data removed]",
      "text/plain": [
       "<matplotlib.figure.Figure at 0x10bde9050>"
      ]
     },
     "metadata": {},
     "output_type": "display_data"
    }
   ],
   "source": [
    "# graph inertia as clusters increase\n",
    "inertia = []\n",
    "k = []\n",
    "\n",
    "for i in range(1,11):\n",
    "    km = KMeans(n_clusters=i)\n",
    "    km.fit(Xscale_new)\n",
    "    k.append(i)\n",
    "    inertia.append(km.inertia_)\n",
    "plt.plot(k, inertia)\n",
    "\n",
    "# elbow test around 8"
   ]
  },
  {
   "cell_type": "code",
   "execution_count": 59,
   "metadata": {
    "collapsed": false
   },
   "outputs": [
    {
     "data": {
      "text/plain": [
       "array([3, 3, 4, ..., 4, 3, 1], dtype=int32)"
      ]
     },
     "execution_count": 59,
     "metadata": {},
     "output_type": "execute_result"
    }
   ],
   "source": [
    "km = KMeans(n_clusters=8)\n",
    "km.fit_predict(Xscale_new)"
   ]
  },
  {
   "cell_type": "code",
   "execution_count": 190,
   "metadata": {
    "collapsed": false
   },
   "outputs": [
    {
     "data": {
      "text/html": [
       "<div>\n",
       "<table border=\"1\" class=\"dataframe\">\n",
       "  <thead>\n",
       "    <tr style=\"text-align: right;\">\n",
       "      <th></th>\n",
       "      <th>0</th>\n",
       "      <th>1</th>\n",
       "      <th>2</th>\n",
       "      <th>3</th>\n",
       "      <th>4</th>\n",
       "      <th>5</th>\n",
       "      <th>6</th>\n",
       "      <th>7</th>\n",
       "    </tr>\n",
       "  </thead>\n",
       "  <tbody>\n",
       "    <tr>\n",
       "      <th>C(party)[3]</th>\n",
       "      <td>0.000</td>\n",
       "      <td>0.000</td>\n",
       "      <td>-0.000</td>\n",
       "      <td>0.000</td>\n",
       "      <td>1.000</td>\n",
       "      <td>0.000</td>\n",
       "      <td>-0.000</td>\n",
       "      <td>0.000</td>\n",
       "    </tr>\n",
       "    <tr>\n",
       "      <th>C(party)[D]</th>\n",
       "      <td>0.459</td>\n",
       "      <td>1.000</td>\n",
       "      <td>-0.000</td>\n",
       "      <td>-0.000</td>\n",
       "      <td>-0.000</td>\n",
       "      <td>0.500</td>\n",
       "      <td>-0.000</td>\n",
       "      <td>0.000</td>\n",
       "    </tr>\n",
       "    <tr>\n",
       "      <th>C(party)[I]</th>\n",
       "      <td>-0.000</td>\n",
       "      <td>-0.000</td>\n",
       "      <td>0.000</td>\n",
       "      <td>1.000</td>\n",
       "      <td>-0.000</td>\n",
       "      <td>0.000</td>\n",
       "      <td>-0.000</td>\n",
       "      <td>-0.000</td>\n",
       "    </tr>\n",
       "    <tr>\n",
       "      <th>C(party)[L]</th>\n",
       "      <td>-0.000</td>\n",
       "      <td>-0.000</td>\n",
       "      <td>-0.000</td>\n",
       "      <td>-0.000</td>\n",
       "      <td>-0.000</td>\n",
       "      <td>0.000</td>\n",
       "      <td>1.000</td>\n",
       "      <td>-0.000</td>\n",
       "    </tr>\n",
       "    <tr>\n",
       "      <th>C(party)[R]</th>\n",
       "      <td>0.541</td>\n",
       "      <td>-0.000</td>\n",
       "      <td>1.000</td>\n",
       "      <td>0.000</td>\n",
       "      <td>0.000</td>\n",
       "      <td>0.500</td>\n",
       "      <td>-0.000</td>\n",
       "      <td>-0.000</td>\n",
       "    </tr>\n",
       "    <tr>\n",
       "      <th>C(party)[U]</th>\n",
       "      <td>0.000</td>\n",
       "      <td>-0.000</td>\n",
       "      <td>-0.000</td>\n",
       "      <td>0.000</td>\n",
       "      <td>0.000</td>\n",
       "      <td>0.000</td>\n",
       "      <td>-0.000</td>\n",
       "      <td>1.000</td>\n",
       "    </tr>\n",
       "    <tr>\n",
       "      <th>C(race_type)[T.PRES]</th>\n",
       "      <td>0.005</td>\n",
       "      <td>0.042</td>\n",
       "      <td>0.069</td>\n",
       "      <td>0.256</td>\n",
       "      <td>0.308</td>\n",
       "      <td>1.000</td>\n",
       "      <td>0.084</td>\n",
       "      <td>0.585</td>\n",
       "    </tr>\n",
       "    <tr>\n",
       "      <th>C(race_type)[T.SEN]</th>\n",
       "      <td>0.230</td>\n",
       "      <td>0.133</td>\n",
       "      <td>0.152</td>\n",
       "      <td>0.149</td>\n",
       "      <td>0.183</td>\n",
       "      <td>0.000</td>\n",
       "      <td>0.140</td>\n",
       "      <td>0.031</td>\n",
       "    </tr>\n",
       "    <tr>\n",
       "      <th>C(incumbent)[T.1]</th>\n",
       "      <td>0.984</td>\n",
       "      <td>-0.000</td>\n",
       "      <td>0.000</td>\n",
       "      <td>0.004</td>\n",
       "      <td>0.000</td>\n",
       "      <td>0.500</td>\n",
       "      <td>0.000</td>\n",
       "      <td>-0.000</td>\n",
       "    </tr>\n",
       "    <tr>\n",
       "      <th>amount</th>\n",
       "      <td>1512491.911</td>\n",
       "      <td>100303.868</td>\n",
       "      <td>85487.825</td>\n",
       "      <td>9613.398</td>\n",
       "      <td>246.057</td>\n",
       "      <td>292776446.000</td>\n",
       "      <td>2301.492</td>\n",
       "      <td>131.292</td>\n",
       "    </tr>\n",
       "    <tr>\n",
       "      <th>pac_id_unique</th>\n",
       "      <td>213.830</td>\n",
       "      <td>8.103</td>\n",
       "      <td>5.412</td>\n",
       "      <td>0.612</td>\n",
       "      <td>0.057</td>\n",
       "      <td>443.000</td>\n",
       "      <td>0.072</td>\n",
       "      <td>0.031</td>\n",
       "    </tr>\n",
       "    <tr>\n",
       "      <th>pac_id_total</th>\n",
       "      <td>503.654</td>\n",
       "      <td>16.402</td>\n",
       "      <td>9.913</td>\n",
       "      <td>1.233</td>\n",
       "      <td>0.226</td>\n",
       "      <td>26453.000</td>\n",
       "      <td>0.252</td>\n",
       "      <td>0.108</td>\n",
       "    </tr>\n",
       "  </tbody>\n",
       "</table>\n",
       "</div>"
      ],
      "text/plain": [
       "                               0          1         2        3       4  \\\n",
       "C(party)[3]                0.000      0.000    -0.000    0.000   1.000   \n",
       "C(party)[D]                0.459      1.000    -0.000   -0.000  -0.000   \n",
       "C(party)[I]               -0.000     -0.000     0.000    1.000  -0.000   \n",
       "C(party)[L]               -0.000     -0.000    -0.000   -0.000  -0.000   \n",
       "C(party)[R]                0.541     -0.000     1.000    0.000   0.000   \n",
       "C(party)[U]                0.000     -0.000    -0.000    0.000   0.000   \n",
       "C(race_type)[T.PRES]       0.005      0.042     0.069    0.256   0.308   \n",
       "C(race_type)[T.SEN]        0.230      0.133     0.152    0.149   0.183   \n",
       "C(incumbent)[T.1]          0.984     -0.000     0.000    0.004   0.000   \n",
       "amount               1512491.911 100303.868 85487.825 9613.398 246.057   \n",
       "pac_id_unique            213.830      8.103     5.412    0.612   0.057   \n",
       "pac_id_total             503.654     16.402     9.913    1.233   0.226   \n",
       "\n",
       "                                 5        6       7  \n",
       "C(party)[3]                  0.000   -0.000   0.000  \n",
       "C(party)[D]                  0.500   -0.000   0.000  \n",
       "C(party)[I]                  0.000   -0.000  -0.000  \n",
       "C(party)[L]                  0.000    1.000  -0.000  \n",
       "C(party)[R]                  0.500   -0.000  -0.000  \n",
       "C(party)[U]                  0.000   -0.000   1.000  \n",
       "C(race_type)[T.PRES]         1.000    0.084   0.585  \n",
       "C(race_type)[T.SEN]          0.000    0.140   0.031  \n",
       "C(incumbent)[T.1]            0.500    0.000  -0.000  \n",
       "amount               292776446.000 2301.492 131.292  \n",
       "pac_id_unique              443.000    0.072   0.031  \n",
       "pac_id_total             26453.000    0.252   0.108  "
      ]
     },
     "execution_count": 190,
     "metadata": {},
     "output_type": "execute_result"
    }
   ],
   "source": [
    "pd.set_option('display.float_format', lambda x: '%.3f' % x)\n",
    "columns = {str(x): scale.inverse_transform(km.cluster_centers_[x]) for x in range(0,8)}\n",
    "pd.DataFrame(columns, index=X_new.columns)"
   ]
  },
  {
   "cell_type": "markdown",
   "metadata": {},
   "source": [
    "### Some interesting clusters here:\n",
    "0. House Incumbents \n",
    "1. House Democrat Challengers\n",
    "2. House Republican Challengers\n",
    "3. House Independent Challengers\n",
    "4. House 3rd-Party Challengers\n",
    "5. Romney vs. Obama  \n",
    "6. House Libertarian Challengers\n",
    "7. Unknown Presidential Hopefuls"
   ]
  },
  {
   "cell_type": "code",
   "execution_count": 60,
   "metadata": {
    "collapsed": true
   },
   "outputs": [],
   "source": [
    "full['clusters'] = km.labels_"
   ]
  },
  {
   "cell_type": "code",
   "execution_count": 61,
   "metadata": {
    "collapsed": true
   },
   "outputs": [],
   "source": [
    "# Model 3\n",
    "y_cluster, X_cluster = dmatrices('win ~ 0 + amount + pac_id_unique + pac_id_total + C(party) + C(race_type) + C(incumbent) + C(clusters)',\n",
    "                                full, return_type='dataframe')\n",
    "\n",
    "y_cluster = np.ravel(y_cluster)"
   ]
  },
  {
   "cell_type": "code",
   "execution_count": 62,
   "metadata": {
    "collapsed": true
   },
   "outputs": [],
   "source": [
    "Xcluster_scale = scale.fit(X_cluster).transform(X_cluster)"
   ]
  },
  {
   "cell_type": "code",
   "execution_count": 63,
   "metadata": {
    "collapsed": false
   },
   "outputs": [
    {
     "data": {
      "text/plain": [
       "DummyClassifier(constant=None, random_state=None, strategy='stratified')"
      ]
     },
     "execution_count": 63,
     "metadata": {},
     "output_type": "execute_result"
    }
   ],
   "source": [
    "rf2 = rf \n",
    "svm2 = svm\n",
    "dc2 = dc\n",
    "\n",
    "rf2.fit(X_cluster, y_cluster)\n",
    "svm2.fit(Xcluster_scale, y_cluster)\n",
    "dc2.fit(X_cluster, y_cluster)"
   ]
  },
  {
   "cell_type": "code",
   "execution_count": 64,
   "metadata": {
    "collapsed": false
   },
   "outputs": [
    {
     "name": "stdout",
     "output_type": "stream",
     "text": [
      "0.969250465287\n",
      "0.962697253398\n",
      "0.847951328182\n"
     ]
    }
   ],
   "source": [
    "print np.abs(cross_val_score(rf2, X_cluster, y_cluster, scoring='accuracy', cv=10)).mean()\n",
    "print np.abs(cross_val_score(svm2, Xcluster_scale, y_cluster, scoring='accuracy', cv=10)).mean()\n",
    "print np.abs(cross_val_score(dc2, X_cluster, y_cluster, scoring='accuracy', cv=10)).mean()"
   ]
  },
  {
   "cell_type": "code",
   "execution_count": 65,
   "metadata": {
    "collapsed": true
   },
   "outputs": [],
   "source": [
    "# Clustering didn't improve my model. Random Forest and SVM yield nearly the same accuracy of 96% vs a Dummy Classifier\n",
    "# of 84% accuracy"
   ]
  },
  {
   "cell_type": "code",
   "execution_count": 68,
   "metadata": {
    "collapsed": false
   },
   "outputs": [
    {
     "data": {
      "text/html": [
       "<div>\n",
       "<table border=\"1\" class=\"dataframe\">\n",
       "  <thead>\n",
       "    <tr style=\"text-align: right;\">\n",
       "      <th></th>\n",
       "      <th>importance</th>\n",
       "    </tr>\n",
       "  </thead>\n",
       "  <tbody>\n",
       "    <tr>\n",
       "      <th>C(clusters)[T.7]</th>\n",
       "      <td>0.000000</td>\n",
       "    </tr>\n",
       "    <tr>\n",
       "      <th>C(party)[U]</th>\n",
       "      <td>0.000000</td>\n",
       "    </tr>\n",
       "    <tr>\n",
       "      <th>C(party)[L]</th>\n",
       "      <td>0.000073</td>\n",
       "    </tr>\n",
       "    <tr>\n",
       "      <th>C(clusters)[T.6]</th>\n",
       "      <td>0.000079</td>\n",
       "    </tr>\n",
       "    <tr>\n",
       "      <th>C(clusters)[T.5]</th>\n",
       "      <td>0.000328</td>\n",
       "    </tr>\n",
       "    <tr>\n",
       "      <th>C(clusters)[T.4]</th>\n",
       "      <td>0.000610</td>\n",
       "    </tr>\n",
       "    <tr>\n",
       "      <th>C(party)[3]</th>\n",
       "      <td>0.000691</td>\n",
       "    </tr>\n",
       "    <tr>\n",
       "      <th>C(party)[I]</th>\n",
       "      <td>0.000998</td>\n",
       "    </tr>\n",
       "    <tr>\n",
       "      <th>C(race_type)[T.PRES]</th>\n",
       "      <td>0.002211</td>\n",
       "    </tr>\n",
       "    <tr>\n",
       "      <th>C(clusters)[T.3]</th>\n",
       "      <td>0.003393</td>\n",
       "    </tr>\n",
       "    <tr>\n",
       "      <th>C(party)[R]</th>\n",
       "      <td>0.004789</td>\n",
       "    </tr>\n",
       "    <tr>\n",
       "      <th>C(clusters)[T.1]</th>\n",
       "      <td>0.005625</td>\n",
       "    </tr>\n",
       "    <tr>\n",
       "      <th>C(party)[D]</th>\n",
       "      <td>0.008898</td>\n",
       "    </tr>\n",
       "    <tr>\n",
       "      <th>C(race_type)[T.SEN]</th>\n",
       "      <td>0.037682</td>\n",
       "    </tr>\n",
       "    <tr>\n",
       "      <th>C(incumbent)[T.1]</th>\n",
       "      <td>0.068279</td>\n",
       "    </tr>\n",
       "    <tr>\n",
       "      <th>C(clusters)[T.2]</th>\n",
       "      <td>0.103168</td>\n",
       "    </tr>\n",
       "    <tr>\n",
       "      <th>pac_id_total</th>\n",
       "      <td>0.237037</td>\n",
       "    </tr>\n",
       "    <tr>\n",
       "      <th>amount</th>\n",
       "      <td>0.239368</td>\n",
       "    </tr>\n",
       "    <tr>\n",
       "      <th>pac_id_unique</th>\n",
       "      <td>0.286771</td>\n",
       "    </tr>\n",
       "  </tbody>\n",
       "</table>\n",
       "</div>"
      ],
      "text/plain": [
       "                      importance\n",
       "C(clusters)[T.7]        0.000000\n",
       "C(party)[U]             0.000000\n",
       "C(party)[L]             0.000073\n",
       "C(clusters)[T.6]        0.000079\n",
       "C(clusters)[T.5]        0.000328\n",
       "C(clusters)[T.4]        0.000610\n",
       "C(party)[3]             0.000691\n",
       "C(party)[I]             0.000998\n",
       "C(race_type)[T.PRES]    0.002211\n",
       "C(clusters)[T.3]        0.003393\n",
       "C(party)[R]             0.004789\n",
       "C(clusters)[T.1]        0.005625\n",
       "C(party)[D]             0.008898\n",
       "C(race_type)[T.SEN]     0.037682\n",
       "C(incumbent)[T.1]       0.068279\n",
       "C(clusters)[T.2]        0.103168\n",
       "pac_id_total            0.237037\n",
       "amount                  0.239368\n",
       "pac_id_unique           0.286771"
      ]
     },
     "execution_count": 68,
     "metadata": {},
     "output_type": "execute_result"
    }
   ],
   "source": [
    "# feature importance of last model\n",
    "pd.set_option('display.float_format', lambda x: '%3f' % x)\n",
    "d2 = {'importance': rf2.feature_importances_}\n",
    "pd.DataFrame(d2, index=X_cluster.columns).sort('importance')"
   ]
  }
 ],
 "metadata": {
  "kernelspec": {
   "display_name": "Python 2",
   "language": "python",
   "name": "python2"
  },
  "language_info": {
   "codemirror_mode": {
    "name": "ipython",
    "version": 2
   },
   "file_extension": ".py",
   "mimetype": "text/x-python",
   "name": "python",
   "nbconvert_exporter": "python",
   "pygments_lexer": "ipython2",
   "version": "2.7.10"
  }
 },
 "nbformat": 4,
 "nbformat_minor": 0
}
