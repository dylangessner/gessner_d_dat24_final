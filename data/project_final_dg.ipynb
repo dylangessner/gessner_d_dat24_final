{
 "cells": [
  {
   "cell_type": "markdown",
   "metadata": {},
   "source": [
    "###Data Dictionaries\n",
    "\n",
    "Candidates table --> http://www.opensecrets.org/resources/datadictionary/Data%20Dictionary%20Candidates%20Data.htm\n",
    "\n",
    "PACs table --> http://www.opensecrets.org/resources/datadictionary/Data%20Dictionary%20for%20PAC%20to%20Cands%20Data.htm"
   ]
  },
  {
   "cell_type": "code",
   "execution_count": 115,
   "metadata": {
    "collapsed": true
   },
   "outputs": [],
   "source": [
    "import pandas as pd\n",
    "import numpy as np\n",
    "from patsy import dmatrices, dmatrix\n",
    "from sklearn.ensemble import RandomForestClassifier\n",
    "from sklearn.svm import SVC\n",
    "from sklearn.linear_model import LogisticRegression\n",
    "from sklearn.dummy import DummyClassifier\n",
    "from sklearn.preprocessing import StandardScaler\n",
    "from sklearn.grid_search import GridSearchCV\n",
    "from sklearn.cross_validation import cross_val_score\n",
    "import matplotlib.pyplot as plt\n",
    "%matplotlib inline"
   ]
  },
  {
   "cell_type": "code",
   "execution_count": 60,
   "metadata": {
    "collapsed": false
   },
   "outputs": [],
   "source": [
    "# load tables\n",
    "cands = pd.read_table('cands12_copy3.txt', delimiter=',', na_values=[' ', '    '])\n",
    "pacs = pd.read_table('pacs12_copy.txt', delimiter=',')"
   ]
  },
  {
   "cell_type": "code",
   "execution_count": 61,
   "metadata": {
    "collapsed": false
   },
   "outputs": [
    {
     "data": {
      "text/html": [
       "<div>\n",
       "<table border=\"1\" class=\"dataframe\">\n",
       "  <thead>\n",
       "    <tr style=\"text-align: right;\">\n",
       "      <th></th>\n",
       "      <th>cycle</th>\n",
       "      <th>fec_cand_id</th>\n",
       "      <th>cid</th>\n",
       "      <th>first_last_p</th>\n",
       "      <th>party</th>\n",
       "      <th>distid_run</th>\n",
       "      <th>distid_cur</th>\n",
       "      <th>cur_cand</th>\n",
       "      <th>cycle_cand</th>\n",
       "      <th>crpico</th>\n",
       "      <th>recip_code</th>\n",
       "      <th>no_pacs</th>\n",
       "      <th>Unnamed: 12</th>\n",
       "    </tr>\n",
       "  </thead>\n",
       "  <tbody>\n",
       "    <tr>\n",
       "      <th>0</th>\n",
       "      <td>2012</td>\n",
       "      <td>H2NC08219</td>\n",
       "      <td>N00034999</td>\n",
       "      <td>Antonio Blue (D)</td>\n",
       "      <td>D</td>\n",
       "      <td>NC08</td>\n",
       "      <td>NaN</td>\n",
       "      <td>NaN</td>\n",
       "      <td>Y</td>\n",
       "      <td>C</td>\n",
       "      <td>DC</td>\n",
       "      <td>NaN</td>\n",
       "      <td>NaN</td>\n",
       "    </tr>\n",
       "    <tr>\n",
       "      <th>1</th>\n",
       "      <td>2012</td>\n",
       "      <td>H2VI00082</td>\n",
       "      <td>N00035000</td>\n",
       "      <td>Stacey Plaskett (D)</td>\n",
       "      <td>D</td>\n",
       "      <td>VI00</td>\n",
       "      <td>NaN</td>\n",
       "      <td>NaN</td>\n",
       "      <td>Y</td>\n",
       "      <td>C</td>\n",
       "      <td>DN</td>\n",
       "      <td>NaN</td>\n",
       "      <td>NaN</td>\n",
       "    </tr>\n",
       "    <tr>\n",
       "      <th>2</th>\n",
       "      <td>2012</td>\n",
       "      <td>S2NY00317</td>\n",
       "      <td>N00035001</td>\n",
       "      <td>Tim Sweet (I)</td>\n",
       "      <td>I</td>\n",
       "      <td>NYS1</td>\n",
       "      <td>NaN</td>\n",
       "      <td>Y</td>\n",
       "      <td>Y</td>\n",
       "      <td>C</td>\n",
       "      <td>3L</td>\n",
       "      <td>NaN</td>\n",
       "      <td>NaN</td>\n",
       "    </tr>\n",
       "    <tr>\n",
       "      <th>3</th>\n",
       "      <td>2012</td>\n",
       "      <td>P20005104</td>\n",
       "      <td>N00035002</td>\n",
       "      <td>Maura Deluca (3)</td>\n",
       "      <td>3</td>\n",
       "      <td>PRES</td>\n",
       "      <td>NaN</td>\n",
       "      <td>NaN</td>\n",
       "      <td>NaN</td>\n",
       "      <td>NaN</td>\n",
       "      <td>3N</td>\n",
       "      <td>NaN</td>\n",
       "      <td>NaN</td>\n",
       "    </tr>\n",
       "    <tr>\n",
       "      <th>4</th>\n",
       "      <td>2012</td>\n",
       "      <td>P20005120</td>\n",
       "      <td>N00035003</td>\n",
       "      <td>Colin David Teberg (U)</td>\n",
       "      <td>U</td>\n",
       "      <td>PRES</td>\n",
       "      <td>NaN</td>\n",
       "      <td>NaN</td>\n",
       "      <td>NaN</td>\n",
       "      <td>NaN</td>\n",
       "      <td>UN</td>\n",
       "      <td>NaN</td>\n",
       "      <td>NaN</td>\n",
       "    </tr>\n",
       "  </tbody>\n",
       "</table>\n",
       "</div>"
      ],
      "text/plain": [
       "   cycle fec_cand_id        cid            first_last_p party distid_run  \\\n",
       "0   2012   H2NC08219  N00034999        Antonio Blue (D)     D       NC08   \n",
       "1   2012   H2VI00082  N00035000     Stacey Plaskett (D)     D       VI00   \n",
       "2   2012   S2NY00317  N00035001           Tim Sweet (I)     I       NYS1   \n",
       "3   2012   P20005104  N00035002        Maura Deluca (3)     3       PRES   \n",
       "4   2012   P20005120  N00035003  Colin David Teberg (U)     U       PRES   \n",
       "\n",
       "  distid_cur cur_cand cycle_cand crpico recip_code no_pacs  Unnamed: 12  \n",
       "0        NaN      NaN          Y      C         DC     NaN          NaN  \n",
       "1        NaN      NaN          Y      C         DN     NaN          NaN  \n",
       "2        NaN        Y          Y      C         3L     NaN          NaN  \n",
       "3        NaN      NaN        NaN    NaN         3N     NaN          NaN  \n",
       "4        NaN      NaN        NaN    NaN         UN     NaN          NaN  "
      ]
     },
     "execution_count": 61,
     "metadata": {},
     "output_type": "execute_result"
    }
   ],
   "source": [
    "cands.head()"
   ]
  },
  {
   "cell_type": "code",
   "execution_count": 62,
   "metadata": {
    "collapsed": false
   },
   "outputs": [
    {
     "data": {
      "text/html": [
       "<div>\n",
       "<table border=\"1\" class=\"dataframe\">\n",
       "  <thead>\n",
       "    <tr style=\"text-align: right;\">\n",
       "      <th></th>\n",
       "      <th>cycle</th>\n",
       "      <th>fec_rec_no</th>\n",
       "      <th>pac_id</th>\n",
       "      <th>cid</th>\n",
       "      <th>amount</th>\n",
       "      <th>date</th>\n",
       "      <th>real_code</th>\n",
       "      <th>type</th>\n",
       "      <th>di</th>\n",
       "      <th>fec_cand_id</th>\n",
       "    </tr>\n",
       "  </thead>\n",
       "  <tbody>\n",
       "    <tr>\n",
       "      <th>0</th>\n",
       "      <td>2012</td>\n",
       "      <td>4101720121167459916</td>\n",
       "      <td>C00279380</td>\n",
       "      <td>N00027694</td>\n",
       "      <td>1500</td>\n",
       "      <td>09/25/2012</td>\n",
       "      <td>LT500</td>\n",
       "      <td>24K</td>\n",
       "      <td>D</td>\n",
       "      <td>S6MO00305</td>\n",
       "    </tr>\n",
       "    <tr>\n",
       "      <th>1</th>\n",
       "      <td>2012</td>\n",
       "      <td>4020120121150250973</td>\n",
       "      <td>C00279455</td>\n",
       "      <td>N00027510</td>\n",
       "      <td>1000</td>\n",
       "      <td>04/01/2011</td>\n",
       "      <td>H4300</td>\n",
       "      <td>24K</td>\n",
       "      <td>D</td>\n",
       "      <td>H6CO07023</td>\n",
       "    </tr>\n",
       "    <tr>\n",
       "      <th>2</th>\n",
       "      <td>2012</td>\n",
       "      <td>4121720121176010367</td>\n",
       "      <td>C00347385</td>\n",
       "      <td>N00001861</td>\n",
       "      <td>1000</td>\n",
       "      <td>09/20/2012</td>\n",
       "      <td>C4000</td>\n",
       "      <td>24K</td>\n",
       "      <td>D</td>\n",
       "      <td>H6CA24048</td>\n",
       "    </tr>\n",
       "    <tr>\n",
       "      <th>3</th>\n",
       "      <td>2012</td>\n",
       "      <td>4042520121155267132</td>\n",
       "      <td>C00034272</td>\n",
       "      <td>N00004227</td>\n",
       "      <td>2000</td>\n",
       "      <td>03/27/2012</td>\n",
       "      <td>A2300</td>\n",
       "      <td>24K</td>\n",
       "      <td>D</td>\n",
       "      <td>H4IA05102</td>\n",
       "    </tr>\n",
       "    <tr>\n",
       "      <th>4</th>\n",
       "      <td>2012</td>\n",
       "      <td>4111520121172245411</td>\n",
       "      <td>C00000729</td>\n",
       "      <td>N00007335</td>\n",
       "      <td>1000</td>\n",
       "      <td>10/10/2012</td>\n",
       "      <td>H1400</td>\n",
       "      <td>24K</td>\n",
       "      <td>D</td>\n",
       "      <td>H8CA12098</td>\n",
       "    </tr>\n",
       "  </tbody>\n",
       "</table>\n",
       "</div>"
      ],
      "text/plain": [
       "   cycle           fec_rec_no     pac_id        cid  amount        date  \\\n",
       "0   2012  4101720121167459916  C00279380  N00027694    1500  09/25/2012   \n",
       "1   2012  4020120121150250973  C00279455  N00027510    1000  04/01/2011   \n",
       "2   2012  4121720121176010367  C00347385  N00001861    1000  09/20/2012   \n",
       "3   2012  4042520121155267132  C00034272  N00004227    2000  03/27/2012   \n",
       "4   2012  4111520121172245411  C00000729  N00007335    1000  10/10/2012   \n",
       "\n",
       "  real_code type di fec_cand_id  \n",
       "0     LT500  24K  D   S6MO00305  \n",
       "1     H4300  24K  D   H6CO07023  \n",
       "2     C4000  24K  D   H6CA24048  \n",
       "3     A2300  24K  D   H4IA05102  \n",
       "4     H1400  24K  D   H8CA12098  "
      ]
     },
     "execution_count": 62,
     "metadata": {},
     "output_type": "execute_result"
    }
   ],
   "source": [
    "pacs.head()"
   ]
  },
  {
   "cell_type": "code",
   "execution_count": 63,
   "metadata": {
    "collapsed": true
   },
   "outputs": [],
   "source": [
    "cands = cands.drop(cands.columns[-1], axis=1) #drop extra column"
   ]
  },
  {
   "cell_type": "code",
   "execution_count": 64,
   "metadata": {
    "collapsed": false
   },
   "outputs": [
    {
     "name": "stdout",
     "output_type": "stream",
     "text": [
      "<class 'pandas.core.frame.DataFrame'>\n",
      "Int64Index: 5952 entries, 0 to 5951\n",
      "Data columns (total 12 columns):\n",
      "cycle           5952 non-null int64\n",
      "fec_cand_id     5952 non-null object\n",
      "cid             5952 non-null object\n",
      "first_last_p    5952 non-null object\n",
      "party           5952 non-null object\n",
      "distid_run      5952 non-null object\n",
      "distid_cur      569 non-null object\n",
      "cur_cand        1409 non-null object\n",
      "cycle_cand      2984 non-null object\n",
      "crpico          3266 non-null object\n",
      "recip_code      5952 non-null object\n",
      "no_pacs         7 non-null object\n",
      "dtypes: int64(1), object(11)\n",
      "memory usage: 604.5+ KB\n"
     ]
    }
   ],
   "source": [
    "cands.info()"
   ]
  },
  {
   "cell_type": "code",
   "execution_count": 65,
   "metadata": {
    "collapsed": false
   },
   "outputs": [
    {
     "name": "stdout",
     "output_type": "stream",
     "text": [
      "<class 'pandas.core.frame.DataFrame'>\n",
      "Int64Index: 394542 entries, 0 to 394541\n",
      "Data columns (total 10 columns):\n",
      "cycle          394542 non-null int64\n",
      "fec_rec_no     394542 non-null int64\n",
      "pac_id         394542 non-null object\n",
      "cid            394461 non-null object\n",
      "amount         394542 non-null int64\n",
      "date           394525 non-null object\n",
      "real_code      394542 non-null object\n",
      "type           394542 non-null object\n",
      "di             394542 non-null object\n",
      "fec_cand_id    394540 non-null object\n",
      "dtypes: int64(3), object(7)\n",
      "memory usage: 33.1+ MB\n"
     ]
    }
   ],
   "source": [
    "pacs.info()"
   ]
  },
  {
   "cell_type": "code",
   "execution_count": 66,
   "metadata": {
    "collapsed": true
   },
   "outputs": [],
   "source": [
    "#make new column 'race_type'\n",
    "def group_titles(x):\n",
    "    if 'PRES' in x:\n",
    "        return 'PRES'\n",
    "    elif x.find('S') == 2:\n",
    "        return 'SEN'\n",
    "    else:\n",
    "        return 'HOUSE'"
   ]
  },
  {
   "cell_type": "code",
   "execution_count": 67,
   "metadata": {
    "collapsed": true
   },
   "outputs": [],
   "source": [
    "cands['race_type'] = cands.distid_run.apply(group_titles)"
   ]
  },
  {
   "cell_type": "code",
   "execution_count": 68,
   "metadata": {
    "collapsed": false
   },
   "outputs": [
    {
     "data": {
      "text/html": [
       "<div>\n",
       "<table border=\"1\" class=\"dataframe\">\n",
       "  <thead>\n",
       "    <tr style=\"text-align: right;\">\n",
       "      <th></th>\n",
       "      <th>cycle</th>\n",
       "      <th>fec_cand_id</th>\n",
       "      <th>cid</th>\n",
       "      <th>first_last_p</th>\n",
       "      <th>party</th>\n",
       "      <th>distid_run</th>\n",
       "      <th>distid_cur</th>\n",
       "      <th>cur_cand</th>\n",
       "      <th>cycle_cand</th>\n",
       "      <th>crpico</th>\n",
       "      <th>recip_code</th>\n",
       "      <th>no_pacs</th>\n",
       "      <th>race_type</th>\n",
       "    </tr>\n",
       "  </thead>\n",
       "  <tbody>\n",
       "    <tr>\n",
       "      <th>0</th>\n",
       "      <td>2012</td>\n",
       "      <td>H2NC08219</td>\n",
       "      <td>N00034999</td>\n",
       "      <td>Antonio Blue (D)</td>\n",
       "      <td>D</td>\n",
       "      <td>NC08</td>\n",
       "      <td>NaN</td>\n",
       "      <td>NaN</td>\n",
       "      <td>Y</td>\n",
       "      <td>C</td>\n",
       "      <td>DC</td>\n",
       "      <td>NaN</td>\n",
       "      <td>HOUSE</td>\n",
       "    </tr>\n",
       "    <tr>\n",
       "      <th>1</th>\n",
       "      <td>2012</td>\n",
       "      <td>H2VI00082</td>\n",
       "      <td>N00035000</td>\n",
       "      <td>Stacey Plaskett (D)</td>\n",
       "      <td>D</td>\n",
       "      <td>VI00</td>\n",
       "      <td>NaN</td>\n",
       "      <td>NaN</td>\n",
       "      <td>Y</td>\n",
       "      <td>C</td>\n",
       "      <td>DN</td>\n",
       "      <td>NaN</td>\n",
       "      <td>HOUSE</td>\n",
       "    </tr>\n",
       "    <tr>\n",
       "      <th>2</th>\n",
       "      <td>2012</td>\n",
       "      <td>S2NY00317</td>\n",
       "      <td>N00035001</td>\n",
       "      <td>Tim Sweet (I)</td>\n",
       "      <td>I</td>\n",
       "      <td>NYS1</td>\n",
       "      <td>NaN</td>\n",
       "      <td>Y</td>\n",
       "      <td>Y</td>\n",
       "      <td>C</td>\n",
       "      <td>3L</td>\n",
       "      <td>NaN</td>\n",
       "      <td>SEN</td>\n",
       "    </tr>\n",
       "    <tr>\n",
       "      <th>3</th>\n",
       "      <td>2012</td>\n",
       "      <td>P20005104</td>\n",
       "      <td>N00035002</td>\n",
       "      <td>Maura Deluca (3)</td>\n",
       "      <td>3</td>\n",
       "      <td>PRES</td>\n",
       "      <td>NaN</td>\n",
       "      <td>NaN</td>\n",
       "      <td>NaN</td>\n",
       "      <td>NaN</td>\n",
       "      <td>3N</td>\n",
       "      <td>NaN</td>\n",
       "      <td>PRES</td>\n",
       "    </tr>\n",
       "    <tr>\n",
       "      <th>4</th>\n",
       "      <td>2012</td>\n",
       "      <td>P20005120</td>\n",
       "      <td>N00035003</td>\n",
       "      <td>Colin David Teberg (U)</td>\n",
       "      <td>U</td>\n",
       "      <td>PRES</td>\n",
       "      <td>NaN</td>\n",
       "      <td>NaN</td>\n",
       "      <td>NaN</td>\n",
       "      <td>NaN</td>\n",
       "      <td>UN</td>\n",
       "      <td>NaN</td>\n",
       "      <td>PRES</td>\n",
       "    </tr>\n",
       "  </tbody>\n",
       "</table>\n",
       "</div>"
      ],
      "text/plain": [
       "   cycle fec_cand_id        cid            first_last_p party distid_run  \\\n",
       "0   2012   H2NC08219  N00034999        Antonio Blue (D)     D       NC08   \n",
       "1   2012   H2VI00082  N00035000     Stacey Plaskett (D)     D       VI00   \n",
       "2   2012   S2NY00317  N00035001           Tim Sweet (I)     I       NYS1   \n",
       "3   2012   P20005104  N00035002        Maura Deluca (3)     3       PRES   \n",
       "4   2012   P20005120  N00035003  Colin David Teberg (U)     U       PRES   \n",
       "\n",
       "  distid_cur cur_cand cycle_cand crpico recip_code no_pacs race_type  \n",
       "0        NaN      NaN          Y      C         DC     NaN     HOUSE  \n",
       "1        NaN      NaN          Y      C         DN     NaN     HOUSE  \n",
       "2        NaN        Y          Y      C         3L     NaN       SEN  \n",
       "3        NaN      NaN        NaN    NaN         3N     NaN      PRES  \n",
       "4        NaN      NaN        NaN    NaN         UN     NaN      PRES  "
      ]
     },
     "execution_count": 68,
     "metadata": {},
     "output_type": "execute_result"
    }
   ],
   "source": [
    "cands.head()"
   ]
  },
  {
   "cell_type": "code",
   "execution_count": 69,
   "metadata": {
    "collapsed": false
   },
   "outputs": [],
   "source": [
    "# make column 'state' for race location\n",
    "def states(x):\n",
    "    if not 'PRES' in x:\n",
    "        return x[0:2]\n",
    "    \n",
    "cands['state'] = cands.distid_run.apply(states)"
   ]
  },
  {
   "cell_type": "code",
   "execution_count": 70,
   "metadata": {
    "collapsed": true
   },
   "outputs": [],
   "source": [
    "# make column 'district' for seat run for\n",
    "def district(x):\n",
    "    if not 'PRES' in x:\n",
    "        return x[2:]\n",
    "\n",
    "cands['district'] = cands.distid_run.apply(district)"
   ]
  },
  {
   "cell_type": "code",
   "execution_count": 71,
   "metadata": {
    "collapsed": true
   },
   "outputs": [],
   "source": [
    "# the last letter in 'recip_code' indicates win or lose, pull that out first, then make 'win' column\n",
    "cands['result'] = cands['recip_code'].str[1]"
   ]
  },
  {
   "cell_type": "code",
   "execution_count": 72,
   "metadata": {
    "collapsed": true
   },
   "outputs": [],
   "source": [
    "def win(x):\n",
    "    if 'L' in x:\n",
    "        return 0\n",
    "    elif 'W' in x:\n",
    "        return 1\n",
    "\n",
    "cands['win'] = cands['result'].apply(win)"
   ]
  },
  {
   "cell_type": "code",
   "execution_count": 73,
   "metadata": {
    "collapsed": false
   },
   "outputs": [],
   "source": [
    "# 'no_pacs' might not be a useful column since only 7 candidates elected not to receive donations from PACS\n",
    "# but nevertheless fill NaNs to be 0, set 'Y' == 1 in new column 'no_pacs_bin'\n",
    "cands['no_pacs_bin'] = cands.no_pacs.apply(lambda x: 1 if x == 'Y' else int(0))"
   ]
  },
  {
   "cell_type": "code",
   "execution_count": 74,
   "metadata": {
    "collapsed": true
   },
   "outputs": [],
   "source": [
    "# distid_cur == NaN if non incumbent. fill nan == 0, make new incumbent column\n",
    "cands['distid_cur'] = cands.distid_cur.fillna(0)\n",
    "cands['incumbent'] = cands.distid_cur.apply(lambda x: 1 if x != 0 else int(0))"
   ]
  },
  {
   "cell_type": "code",
   "execution_count": 75,
   "metadata": {
    "collapsed": true
   },
   "outputs": [],
   "source": [
    "# since the cycle is always 2012, can drop that column\n",
    "# and cid column (campaign id), since no information contained there\n",
    "cands = cands.drop(cands.columns[[0,2]], axis=1)"
   ]
  },
  {
   "cell_type": "code",
   "execution_count": 76,
   "metadata": {
    "collapsed": false
   },
   "outputs": [
    {
     "data": {
      "text/html": [
       "<div>\n",
       "<table border=\"1\" class=\"dataframe\">\n",
       "  <thead>\n",
       "    <tr style=\"text-align: right;\">\n",
       "      <th></th>\n",
       "      <th>fec_cand_id</th>\n",
       "      <th>first_last_p</th>\n",
       "      <th>party</th>\n",
       "      <th>distid_run</th>\n",
       "      <th>distid_cur</th>\n",
       "      <th>cur_cand</th>\n",
       "      <th>cycle_cand</th>\n",
       "      <th>crpico</th>\n",
       "      <th>recip_code</th>\n",
       "      <th>no_pacs</th>\n",
       "      <th>race_type</th>\n",
       "      <th>state</th>\n",
       "      <th>district</th>\n",
       "      <th>result</th>\n",
       "      <th>win</th>\n",
       "      <th>no_pacs_bin</th>\n",
       "      <th>incumbent</th>\n",
       "    </tr>\n",
       "  </thead>\n",
       "  <tbody>\n",
       "    <tr>\n",
       "      <th>0</th>\n",
       "      <td>H2NC08219</td>\n",
       "      <td>Antonio Blue (D)</td>\n",
       "      <td>D</td>\n",
       "      <td>NC08</td>\n",
       "      <td>0</td>\n",
       "      <td>NaN</td>\n",
       "      <td>Y</td>\n",
       "      <td>C</td>\n",
       "      <td>DC</td>\n",
       "      <td>NaN</td>\n",
       "      <td>HOUSE</td>\n",
       "      <td>NC</td>\n",
       "      <td>08</td>\n",
       "      <td>C</td>\n",
       "      <td>NaN</td>\n",
       "      <td>0</td>\n",
       "      <td>0</td>\n",
       "    </tr>\n",
       "    <tr>\n",
       "      <th>1</th>\n",
       "      <td>H2VI00082</td>\n",
       "      <td>Stacey Plaskett (D)</td>\n",
       "      <td>D</td>\n",
       "      <td>VI00</td>\n",
       "      <td>0</td>\n",
       "      <td>NaN</td>\n",
       "      <td>Y</td>\n",
       "      <td>C</td>\n",
       "      <td>DN</td>\n",
       "      <td>NaN</td>\n",
       "      <td>HOUSE</td>\n",
       "      <td>VI</td>\n",
       "      <td>00</td>\n",
       "      <td>N</td>\n",
       "      <td>NaN</td>\n",
       "      <td>0</td>\n",
       "      <td>0</td>\n",
       "    </tr>\n",
       "    <tr>\n",
       "      <th>2</th>\n",
       "      <td>S2NY00317</td>\n",
       "      <td>Tim Sweet (I)</td>\n",
       "      <td>I</td>\n",
       "      <td>NYS1</td>\n",
       "      <td>0</td>\n",
       "      <td>Y</td>\n",
       "      <td>Y</td>\n",
       "      <td>C</td>\n",
       "      <td>3L</td>\n",
       "      <td>NaN</td>\n",
       "      <td>SEN</td>\n",
       "      <td>NY</td>\n",
       "      <td>S1</td>\n",
       "      <td>L</td>\n",
       "      <td>0</td>\n",
       "      <td>0</td>\n",
       "      <td>0</td>\n",
       "    </tr>\n",
       "    <tr>\n",
       "      <th>3</th>\n",
       "      <td>P20005104</td>\n",
       "      <td>Maura Deluca (3)</td>\n",
       "      <td>3</td>\n",
       "      <td>PRES</td>\n",
       "      <td>0</td>\n",
       "      <td>NaN</td>\n",
       "      <td>NaN</td>\n",
       "      <td>NaN</td>\n",
       "      <td>3N</td>\n",
       "      <td>NaN</td>\n",
       "      <td>PRES</td>\n",
       "      <td>None</td>\n",
       "      <td>None</td>\n",
       "      <td>N</td>\n",
       "      <td>NaN</td>\n",
       "      <td>0</td>\n",
       "      <td>0</td>\n",
       "    </tr>\n",
       "    <tr>\n",
       "      <th>4</th>\n",
       "      <td>P20005120</td>\n",
       "      <td>Colin David Teberg (U)</td>\n",
       "      <td>U</td>\n",
       "      <td>PRES</td>\n",
       "      <td>0</td>\n",
       "      <td>NaN</td>\n",
       "      <td>NaN</td>\n",
       "      <td>NaN</td>\n",
       "      <td>UN</td>\n",
       "      <td>NaN</td>\n",
       "      <td>PRES</td>\n",
       "      <td>None</td>\n",
       "      <td>None</td>\n",
       "      <td>N</td>\n",
       "      <td>NaN</td>\n",
       "      <td>0</td>\n",
       "      <td>0</td>\n",
       "    </tr>\n",
       "  </tbody>\n",
       "</table>\n",
       "</div>"
      ],
      "text/plain": [
       "  fec_cand_id            first_last_p party distid_run distid_cur cur_cand  \\\n",
       "0   H2NC08219        Antonio Blue (D)     D       NC08          0      NaN   \n",
       "1   H2VI00082     Stacey Plaskett (D)     D       VI00          0      NaN   \n",
       "2   S2NY00317           Tim Sweet (I)     I       NYS1          0        Y   \n",
       "3   P20005104        Maura Deluca (3)     3       PRES          0      NaN   \n",
       "4   P20005120  Colin David Teberg (U)     U       PRES          0      NaN   \n",
       "\n",
       "  cycle_cand crpico recip_code no_pacs race_type state district result  win  \\\n",
       "0          Y      C         DC     NaN     HOUSE    NC       08      C  NaN   \n",
       "1          Y      C         DN     NaN     HOUSE    VI       00      N  NaN   \n",
       "2          Y      C         3L     NaN       SEN    NY       S1      L    0   \n",
       "3        NaN    NaN         3N     NaN      PRES  None     None      N  NaN   \n",
       "4        NaN    NaN         UN     NaN      PRES  None     None      N  NaN   \n",
       "\n",
       "   no_pacs_bin  incumbent  \n",
       "0            0          0  \n",
       "1            0          0  \n",
       "2            0          0  \n",
       "3            0          0  \n",
       "4            0          0  "
      ]
     },
     "execution_count": 76,
     "metadata": {},
     "output_type": "execute_result"
    }
   ],
   "source": [
    "cands.head()"
   ]
  },
  {
   "cell_type": "code",
   "execution_count": 77,
   "metadata": {
    "collapsed": true
   },
   "outputs": [],
   "source": [
    "#get total amount donated to each candidate by all PACs\n",
    "pacs_grouped = pacs.groupby('fec_cand_id').sum()"
   ]
  },
  {
   "cell_type": "code",
   "execution_count": 78,
   "metadata": {
    "collapsed": false
   },
   "outputs": [
    {
     "data": {
      "text/html": [
       "<div>\n",
       "<table border=\"1\" class=\"dataframe\">\n",
       "  <thead>\n",
       "    <tr style=\"text-align: right;\">\n",
       "      <th></th>\n",
       "      <th>cycle</th>\n",
       "      <th>fec_rec_no</th>\n",
       "      <th>amount</th>\n",
       "    </tr>\n",
       "    <tr>\n",
       "      <th>fec_cand_id</th>\n",
       "      <th></th>\n",
       "      <th></th>\n",
       "      <th></th>\n",
       "    </tr>\n",
       "  </thead>\n",
       "  <tbody>\n",
       "    <tr>\n",
       "      <th>H0AK00089</th>\n",
       "      <td>2012</td>\n",
       "      <td>4.092620e+18</td>\n",
       "      <td>-1000</td>\n",
       "    </tr>\n",
       "    <tr>\n",
       "      <th>H0AL02087</th>\n",
       "      <td>802788</td>\n",
       "      <td>1.608374e+21</td>\n",
       "      <td>535065</td>\n",
       "    </tr>\n",
       "    <tr>\n",
       "      <th>H0AL05163</th>\n",
       "      <td>694140</td>\n",
       "      <td>1.392243e+21</td>\n",
       "      <td>469727</td>\n",
       "    </tr>\n",
       "    <tr>\n",
       "      <th>H0AL05197</th>\n",
       "      <td>4024</td>\n",
       "      <td>6.164040e+18</td>\n",
       "      <td>5391</td>\n",
       "    </tr>\n",
       "    <tr>\n",
       "      <th>H0AL07060</th>\n",
       "      <td>2012</td>\n",
       "      <td>4.031620e+18</td>\n",
       "      <td>-1500</td>\n",
       "    </tr>\n",
       "  </tbody>\n",
       "</table>\n",
       "</div>"
      ],
      "text/plain": [
       "              cycle    fec_rec_no  amount\n",
       "fec_cand_id                              \n",
       "H0AK00089      2012  4.092620e+18   -1000\n",
       "H0AL02087    802788  1.608374e+21  535065\n",
       "H0AL05163    694140  1.392243e+21  469727\n",
       "H0AL05197      4024  6.164040e+18    5391\n",
       "H0AL07060      2012  4.031620e+18   -1500"
      ]
     },
     "execution_count": 78,
     "metadata": {},
     "output_type": "execute_result"
    }
   ],
   "source": [
    "pacs_grouped.head()"
   ]
  },
  {
   "cell_type": "code",
   "execution_count": 79,
   "metadata": {
    "collapsed": false
   },
   "outputs": [],
   "source": [
    "# can drop cycle and fec_rec_no (receipt) columns\n",
    "pacs_grouped = pacs_grouped.drop(pacs_grouped.columns[[0,1]], axis=1)"
   ]
  },
  {
   "cell_type": "code",
   "execution_count": 80,
   "metadata": {
    "collapsed": true
   },
   "outputs": [],
   "source": [
    "#get number of times any PAC donated to each candidate\n",
    "pacs_total = pacs.groupby('fec_cand_id').count()"
   ]
  },
  {
   "cell_type": "code",
   "execution_count": 81,
   "metadata": {
    "collapsed": false
   },
   "outputs": [
    {
     "name": "stdout",
     "output_type": "stream",
     "text": [
      "<class 'pandas.core.frame.DataFrame'>\n",
      "Index: 1785 entries, H0AK00089 to S8WV00101\n",
      "Data columns (total 9 columns):\n",
      "cycle         1785 non-null int64\n",
      "fec_rec_no    1785 non-null int64\n",
      "pac_id        1785 non-null int64\n",
      "cid           1785 non-null int64\n",
      "amount        1785 non-null int64\n",
      "date          1785 non-null int64\n",
      "real_code     1785 non-null int64\n",
      "type          1785 non-null int64\n",
      "di            1785 non-null int64\n",
      "dtypes: int64(9)\n",
      "memory usage: 139.5+ KB\n"
     ]
    }
   ],
   "source": [
    "pacs_total.info()"
   ]
  },
  {
   "cell_type": "code",
   "execution_count": 82,
   "metadata": {
    "collapsed": false
   },
   "outputs": [],
   "source": [
    "# the higher the count of pac_id, the more times a PAC donated to a candidate. This column cand be used \n",
    "# as a proxy for race length, since the more times a PAC donated the longer the race went\n",
    "# drop all columns except pac_id before join\n",
    "pacs_total = pacs_total.drop(pacs_total.columns[[0,1,3,4,5,6,7,8]], axis=1)"
   ]
  },
  {
   "cell_type": "code",
   "execution_count": 83,
   "metadata": {
    "collapsed": false
   },
   "outputs": [
    {
     "name": "stdout",
     "output_type": "stream",
     "text": [
      "<class 'pandas.core.frame.DataFrame'>\n",
      "Index: 1785 entries, H0AK00089 to S8WV00101\n",
      "Data columns (total 1 columns):\n",
      "pac_id    1785 non-null int64\n",
      "dtypes: int64(1)\n",
      "memory usage: 27.9+ KB\n"
     ]
    }
   ],
   "source": [
    "pacs_total.info()"
   ]
  },
  {
   "cell_type": "code",
   "execution_count": 84,
   "metadata": {
    "collapsed": true
   },
   "outputs": [],
   "source": [
    "#get unique number of PACs that donated to each candidate\n",
    "pac_unique = pacs.groupby('fec_cand_id').pac_id.nunique()"
   ]
  },
  {
   "cell_type": "code",
   "execution_count": 85,
   "metadata": {
    "collapsed": false
   },
   "outputs": [
    {
     "data": {
      "text/plain": [
       "fec_cand_id\n",
       "H0AK00089      1\n",
       "H0AL02087    201\n",
       "H0AL05163    159\n",
       "H0AL05197      2\n",
       "H0AL07060      1\n",
       "Name: pac_id, dtype: int64"
      ]
     },
     "execution_count": 85,
     "metadata": {},
     "output_type": "execute_result"
    }
   ],
   "source": [
    "pac_unique.head()"
   ]
  },
  {
   "cell_type": "code",
   "execution_count": 86,
   "metadata": {
    "collapsed": true
   },
   "outputs": [],
   "source": [
    "# join new data frames/columns into 'full' data frame\n",
    "full = cands.join(pacs_grouped, on='fec_cand_id', how='left')\n",
    "full = full.join(pac_unique, on='fec_cand_id', how='left')\n",
    "full = full.join(pacs_total, on='fec_cand_id', how='left', lsuffix='_unique', rsuffix='_total')"
   ]
  },
  {
   "cell_type": "code",
   "execution_count": 87,
   "metadata": {
    "collapsed": false
   },
   "outputs": [
    {
     "name": "stdout",
     "output_type": "stream",
     "text": [
      "<class 'pandas.core.frame.DataFrame'>\n",
      "Int64Index: 5952 entries, 0 to 5951\n",
      "Data columns (total 20 columns):\n",
      "fec_cand_id      5952 non-null object\n",
      "first_last_p     5952 non-null object\n",
      "party            5952 non-null object\n",
      "distid_run       5952 non-null object\n",
      "distid_cur       5952 non-null object\n",
      "cur_cand         1409 non-null object\n",
      "cycle_cand       2984 non-null object\n",
      "crpico           3266 non-null object\n",
      "recip_code       5952 non-null object\n",
      "no_pacs          7 non-null object\n",
      "race_type        5952 non-null object\n",
      "state            5365 non-null object\n",
      "district         5365 non-null object\n",
      "result           5952 non-null object\n",
      "win              2584 non-null float64\n",
      "no_pacs_bin      5952 non-null int64\n",
      "incumbent        5952 non-null int64\n",
      "amount           1743 non-null float64\n",
      "pac_id_unique    1743 non-null float64\n",
      "pac_id_total     1743 non-null float64\n",
      "dtypes: float64(4), int64(2), object(14)\n",
      "memory usage: 976.5+ KB\n"
     ]
    }
   ],
   "source": [
    "full.info()"
   ]
  },
  {
   "cell_type": "code",
   "execution_count": 88,
   "metadata": {
    "collapsed": true
   },
   "outputs": [],
   "source": [
    "#fill NaNs where NaN actually just equals 0\n",
    "full['win'] = full.win.fillna(0)\n",
    "full['amount'] = full.amount.fillna(0)\n",
    "full['pac_id_unique'] = full.pac_id_unique.fillna(0)\n",
    "full['pac_id_total'] = full.pac_id_total.fillna(0)"
   ]
  },
  {
   "cell_type": "code",
   "execution_count": 89,
   "metadata": {
    "collapsed": false
   },
   "outputs": [
    {
     "name": "stdout",
     "output_type": "stream",
     "text": [
      "<class 'pandas.core.frame.DataFrame'>\n",
      "Int64Index: 5952 entries, 0 to 5951\n",
      "Data columns (total 20 columns):\n",
      "fec_cand_id      5952 non-null object\n",
      "first_last_p     5952 non-null object\n",
      "party            5952 non-null object\n",
      "distid_run       5952 non-null object\n",
      "distid_cur       5952 non-null object\n",
      "cur_cand         1409 non-null object\n",
      "cycle_cand       2984 non-null object\n",
      "crpico           3266 non-null object\n",
      "recip_code       5952 non-null object\n",
      "no_pacs          7 non-null object\n",
      "race_type        5952 non-null object\n",
      "state            5365 non-null object\n",
      "district         5365 non-null object\n",
      "result           5952 non-null object\n",
      "win              5952 non-null float64\n",
      "no_pacs_bin      5952 non-null int64\n",
      "incumbent        5952 non-null int64\n",
      "amount           5952 non-null float64\n",
      "pac_id_unique    5952 non-null float64\n",
      "pac_id_total     5952 non-null float64\n",
      "dtypes: float64(4), int64(2), object(14)\n",
      "memory usage: 976.5+ KB\n"
     ]
    }
   ],
   "source": [
    "full.info()"
   ]
  },
  {
   "cell_type": "code",
   "execution_count": 90,
   "metadata": {
    "collapsed": false
   },
   "outputs": [
    {
     "data": {
      "text/html": [
       "<div>\n",
       "<table border=\"1\" class=\"dataframe\">\n",
       "  <thead>\n",
       "    <tr style=\"text-align: right;\">\n",
       "      <th></th>\n",
       "      <th>win</th>\n",
       "      <th>no_pacs_bin</th>\n",
       "      <th>incumbent</th>\n",
       "      <th>amount</th>\n",
       "      <th>pac_id_unique</th>\n",
       "      <th>pac_id_total</th>\n",
       "    </tr>\n",
       "  </thead>\n",
       "  <tbody>\n",
       "    <tr>\n",
       "      <th>win</th>\n",
       "      <td>1.000000</td>\n",
       "      <td>0.024952</td>\n",
       "      <td>0.725475</td>\n",
       "      <td>0.096465</td>\n",
       "      <td>0.708010</td>\n",
       "      <td>0.258386</td>\n",
       "    </tr>\n",
       "    <tr>\n",
       "      <th>no_pacs_bin</th>\n",
       "      <td>0.024952</td>\n",
       "      <td>1.000000</td>\n",
       "      <td>0.055529</td>\n",
       "      <td>-0.001777</td>\n",
       "      <td>-0.007758</td>\n",
       "      <td>-0.003260</td>\n",
       "    </tr>\n",
       "    <tr>\n",
       "      <th>incumbent</th>\n",
       "      <td>0.725475</td>\n",
       "      <td>0.055529</td>\n",
       "      <td>1.000000</td>\n",
       "      <td>0.093234</td>\n",
       "      <td>0.758505</td>\n",
       "      <td>0.267309</td>\n",
       "    </tr>\n",
       "    <tr>\n",
       "      <th>amount</th>\n",
       "      <td>0.096465</td>\n",
       "      <td>-0.001777</td>\n",
       "      <td>0.093234</td>\n",
       "      <td>1.000000</td>\n",
       "      <td>0.198954</td>\n",
       "      <td>0.919135</td>\n",
       "    </tr>\n",
       "    <tr>\n",
       "      <th>pac_id_unique</th>\n",
       "      <td>0.708010</td>\n",
       "      <td>-0.007758</td>\n",
       "      <td>0.758505</td>\n",
       "      <td>0.198954</td>\n",
       "      <td>1.000000</td>\n",
       "      <td>0.438943</td>\n",
       "    </tr>\n",
       "    <tr>\n",
       "      <th>pac_id_total</th>\n",
       "      <td>0.258386</td>\n",
       "      <td>-0.003260</td>\n",
       "      <td>0.267309</td>\n",
       "      <td>0.919135</td>\n",
       "      <td>0.438943</td>\n",
       "      <td>1.000000</td>\n",
       "    </tr>\n",
       "  </tbody>\n",
       "</table>\n",
       "</div>"
      ],
      "text/plain": [
       "                    win  no_pacs_bin  incumbent    amount  pac_id_unique  \\\n",
       "win            1.000000     0.024952   0.725475  0.096465       0.708010   \n",
       "no_pacs_bin    0.024952     1.000000   0.055529 -0.001777      -0.007758   \n",
       "incumbent      0.725475     0.055529   1.000000  0.093234       0.758505   \n",
       "amount         0.096465    -0.001777   0.093234  1.000000       0.198954   \n",
       "pac_id_unique  0.708010    -0.007758   0.758505  0.198954       1.000000   \n",
       "pac_id_total   0.258386    -0.003260   0.267309  0.919135       0.438943   \n",
       "\n",
       "               pac_id_total  \n",
       "win                0.258386  \n",
       "no_pacs_bin       -0.003260  \n",
       "incumbent          0.267309  \n",
       "amount             0.919135  \n",
       "pac_id_unique      0.438943  \n",
       "pac_id_total       1.000000  "
      ]
     },
     "execution_count": 90,
     "metadata": {},
     "output_type": "execute_result"
    }
   ],
   "source": [
    "full.corr()\n",
    "# Winning IS NOT strongly correlated with amount donated, which is very important as I believe it will be the\n",
    "# most important feature in my model. Note that incumbency is strongly correlated with winning, as is the \n",
    "# number of unique PACs that donate to a candidate"
   ]
  },
  {
   "cell_type": "code",
   "execution_count": 91,
   "metadata": {
    "collapsed": false
   },
   "outputs": [
    {
     "data": {
      "text/plain": [
       "<matplotlib.axes._subplots.AxesSubplot at 0x10d1ecb10>"
      ]
     },
     "execution_count": 91,
     "metadata": {},
     "output_type": "execute_result"
    }
   ],
   "source": [
    "#plot number unique PACs donating to candidates vs. total number of donations to candidates from all PACs\n",
    "full.plot(kind='scatter', x='pac_id_unique', y='pac_id_total')"
   ]
  },
  {
   "cell_type": "code",
   "execution_count": 92,
   "metadata": {
    "collapsed": false
   },
   "outputs": [
    {
     "data": {
      "text/plain": [
       "<matplotlib.axes._subplots.AxesSubplot at 0x11009e350>"
      ]
     },
     "execution_count": 92,
     "metadata": {},
     "output_type": "execute_result"
    }
   ],
   "source": [
    "#plot amounts given to candidates by number unique PACS donating to candidates\n",
    "full.plot(kind='scatter', x='pac_id_unique', y='amount')"
   ]
  },
  {
   "cell_type": "code",
   "execution_count": 93,
   "metadata": {
    "collapsed": false
   },
   "outputs": [
    {
     "data": {
      "text/plain": [
       "<matplotlib.axes._subplots.AxesSubplot at 0x10c2b45d0>"
      ]
     },
     "execution_count": 93,
     "metadata": {},
     "output_type": "execute_result"
    }
   ],
   "source": [
    "full.boxplot(column='pac_id_total', by='party') #more donations made to Dems than any other "
   ]
  },
  {
   "cell_type": "code",
   "execution_count": 94,
   "metadata": {
    "collapsed": false
   },
   "outputs": [],
   "source": [
    "#get data ready for modeling\n",
    "# Model 1\n",
    "y, X = dmatrices('win ~ 0 + amount + pac_id_unique + pac_id_total + C(party) + C(race_type) + C(state) + C(district) + C(no_pacs_bin) + C(incumbent)', \n",
    "                       full, return_type='dataframe')\n",
    "y = np.ravel(y)"
   ]
  },
  {
   "cell_type": "code",
   "execution_count": 95,
   "metadata": {
    "collapsed": false
   },
   "outputs": [
    {
     "name": "stdout",
     "output_type": "stream",
     "text": [
      "{'max_features': 'sqrt', 'n_estimators': 66}\n"
     ]
    }
   ],
   "source": [
    "#use GridSearchCV to find best parameters for model\n",
    "rf = RandomForestClassifier()\n",
    "dc = DummyClassifier()\n",
    "\n",
    "parameters = {'n_estimators': range(1,101), 'max_features': ['sqrt', 'log2', ]} #the space after 'log2' is for None, which defaults to max_features= n_features\n",
    "rf_clf = GridSearchCV(rf, parameters)\n",
    "rf_clf.fit(X, y)\n",
    "print rf_clf.best_params_"
   ]
  },
  {
   "cell_type": "code",
   "execution_count": 96,
   "metadata": {
    "collapsed": false
   },
   "outputs": [
    {
     "data": {
      "text/plain": [
       "DummyClassifier(constant=None, random_state=None, strategy='stratified')"
      ]
     },
     "execution_count": 96,
     "metadata": {},
     "output_type": "execute_result"
    }
   ],
   "source": [
    "#fit model\n",
    "rf = RandomForestClassifier(n_estimators = 99, max_features='sqrt')\n",
    "\n",
    "rf.fit(X, y)\n",
    "dc.fit(X, y)"
   ]
  },
  {
   "cell_type": "code",
   "execution_count": 97,
   "metadata": {
    "collapsed": false
   },
   "outputs": [
    {
     "name": "stdout",
     "output_type": "stream",
     "text": [
      "0.788446669651\n",
      "0.0880341775193\n"
     ]
    }
   ],
   "source": [
    "#compare results\n",
    "print np.abs(cross_val_score(rf, X, y, scoring='precision', cv=10)).mean()\n",
    "print np.abs(cross_val_score(dc, X, y, scoring='precision', cv=10)).mean()\n",
    "#on average, this random forest can predict with 79% precision the outcome of an election \n",
    "#compared to a dummy classifier with 9% precision"
   ]
  },
  {
   "cell_type": "code",
   "execution_count": 98,
   "metadata": {
    "collapsed": false
   },
   "outputs": [],
   "source": [
    "# test vs SVM\n",
    "# scale features first\n",
    "\n",
    "scale = StandardScaler()\n",
    "X_train = scale.fit(X).transform(X)"
   ]
  },
  {
   "cell_type": "code",
   "execution_count": 99,
   "metadata": {
    "collapsed": false
   },
   "outputs": [
    {
     "name": "stdout",
     "output_type": "stream",
     "text": [
      "{'kernel': 'linear', 'C': 1}\n"
     ]
    }
   ],
   "source": [
    "# use GridSearchCV to find best parameters for model \n",
    "svm = SVC()\n",
    "\n",
    "parameters = {'kernel':('linear', 'rbf'), 'C':range(1,10)}\n",
    "svm_clf = GridSearchCV(svm, parameters)\n",
    "svm_clf.fit(X_train, y)\n",
    "print svm_clf.best_params_"
   ]
  },
  {
   "cell_type": "code",
   "execution_count": 100,
   "metadata": {
    "collapsed": false
   },
   "outputs": [
    {
     "data": {
      "text/plain": [
       "SVC(C=1, cache_size=200, class_weight=None, coef0=0.0, degree=3, gamma=0.0,\n",
       "  kernel='linear', max_iter=-1, probability=False, random_state=None,\n",
       "  shrinking=True, tol=0.001, verbose=False)"
      ]
     },
     "execution_count": 100,
     "metadata": {},
     "output_type": "execute_result"
    }
   ],
   "source": [
    "#fit model\n",
    "svm = SVC(C=1, kernel='linear')\n",
    "svm.fit(X_train, y)"
   ]
  },
  {
   "cell_type": "code",
   "execution_count": 101,
   "metadata": {
    "collapsed": false
   },
   "outputs": [
    {
     "name": "stdout",
     "output_type": "stream",
     "text": [
      "0.825107105538\n"
     ]
    }
   ],
   "source": [
    "print np.abs(cross_val_score(svm, X_train, y, scoring='precision', cv=10)).mean()\n",
    "#on average, SVM predicts with 82% precision, try again after rf feature importance"
   ]
  },
  {
   "cell_type": "code",
   "execution_count": 102,
   "metadata": {
    "collapsed": false
   },
   "outputs": [
    {
     "data": {
      "text/html": [
       "<div>\n",
       "<table border=\"1\" class=\"dataframe\">\n",
       "  <thead>\n",
       "    <tr style=\"text-align: right;\">\n",
       "      <th></th>\n",
       "      <th>importance</th>\n",
       "    </tr>\n",
       "  </thead>\n",
       "  <tbody>\n",
       "    <tr>\n",
       "      <th>C(district)[T.AS]</th>\n",
       "      <td>0.000000</td>\n",
       "    </tr>\n",
       "    <tr>\n",
       "      <th>C(race_type)[T.PRES]</th>\n",
       "      <td>0.000000</td>\n",
       "    </tr>\n",
       "    <tr>\n",
       "      <th>C(district)[T.45]</th>\n",
       "      <td>0.000007</td>\n",
       "    </tr>\n",
       "    <tr>\n",
       "      <th>C(district)[T.38]</th>\n",
       "      <td>0.000012</td>\n",
       "    </tr>\n",
       "    <tr>\n",
       "      <th>C(party)[U]</th>\n",
       "      <td>0.000018</td>\n",
       "    </tr>\n",
       "    <tr>\n",
       "      <th>C(district)[T.28]</th>\n",
       "      <td>0.000020</td>\n",
       "    </tr>\n",
       "    <tr>\n",
       "      <th>C(district)[T.50]</th>\n",
       "      <td>0.000023</td>\n",
       "    </tr>\n",
       "    <tr>\n",
       "      <th>C(district)[T.49]</th>\n",
       "      <td>0.000035</td>\n",
       "    </tr>\n",
       "    <tr>\n",
       "      <th>C(district)[T.42]</th>\n",
       "      <td>0.000049</td>\n",
       "    </tr>\n",
       "    <tr>\n",
       "      <th>C(district)[T.53]</th>\n",
       "      <td>0.000053</td>\n",
       "    </tr>\n",
       "    <tr>\n",
       "      <th>C(district)[T.46]</th>\n",
       "      <td>0.000056</td>\n",
       "    </tr>\n",
       "    <tr>\n",
       "      <th>C(district)[T.37]</th>\n",
       "      <td>0.000057</td>\n",
       "    </tr>\n",
       "    <tr>\n",
       "      <th>C(district)[T.29]</th>\n",
       "      <td>0.000067</td>\n",
       "    </tr>\n",
       "    <tr>\n",
       "      <th>C(district)[T.39]</th>\n",
       "      <td>0.000089</td>\n",
       "    </tr>\n",
       "    <tr>\n",
       "      <th>C(state)[T.ID]</th>\n",
       "      <td>0.000096</td>\n",
       "    </tr>\n",
       "    <tr>\n",
       "      <th>C(district)[T.32]</th>\n",
       "      <td>0.000117</td>\n",
       "    </tr>\n",
       "    <tr>\n",
       "      <th>C(state)[T.AL]</th>\n",
       "      <td>0.000118</td>\n",
       "    </tr>\n",
       "    <tr>\n",
       "      <th>C(district)[T.40]</th>\n",
       "      <td>0.000155</td>\n",
       "    </tr>\n",
       "    <tr>\n",
       "      <th>C(state)[T.MS]</th>\n",
       "      <td>0.000173</td>\n",
       "    </tr>\n",
       "    <tr>\n",
       "      <th>C(state)[T.OR]</th>\n",
       "      <td>0.000195</td>\n",
       "    </tr>\n",
       "    <tr>\n",
       "      <th>C(district)[T.43]</th>\n",
       "      <td>0.000228</td>\n",
       "    </tr>\n",
       "    <tr>\n",
       "      <th>C(state)[T.DE]</th>\n",
       "      <td>0.000281</td>\n",
       "    </tr>\n",
       "    <tr>\n",
       "      <th>C(district)[T.51]</th>\n",
       "      <td>0.000299</td>\n",
       "    </tr>\n",
       "    <tr>\n",
       "      <th>C(state)[T.VT]</th>\n",
       "      <td>0.000326</td>\n",
       "    </tr>\n",
       "    <tr>\n",
       "      <th>C(district)[T.21]</th>\n",
       "      <td>0.000367</td>\n",
       "    </tr>\n",
       "    <tr>\n",
       "      <th>C(state)[T.KS]</th>\n",
       "      <td>0.000386</td>\n",
       "    </tr>\n",
       "    <tr>\n",
       "      <th>C(district)[T.25]</th>\n",
       "      <td>0.000475</td>\n",
       "    </tr>\n",
       "    <tr>\n",
       "      <th>C(district)[T.19]</th>\n",
       "      <td>0.000480</td>\n",
       "    </tr>\n",
       "    <tr>\n",
       "      <th>C(district)[T.47]</th>\n",
       "      <td>0.000484</td>\n",
       "    </tr>\n",
       "    <tr>\n",
       "      <th>C(district)[T.34]</th>\n",
       "      <td>0.000519</td>\n",
       "    </tr>\n",
       "    <tr>\n",
       "      <th>...</th>\n",
       "      <td>...</td>\n",
       "    </tr>\n",
       "    <tr>\n",
       "      <th>C(district)[T.36]</th>\n",
       "      <td>0.002077</td>\n",
       "    </tr>\n",
       "    <tr>\n",
       "      <th>C(state)[T.NJ]</th>\n",
       "      <td>0.002082</td>\n",
       "    </tr>\n",
       "    <tr>\n",
       "      <th>C(state)[T.NC]</th>\n",
       "      <td>0.002166</td>\n",
       "    </tr>\n",
       "    <tr>\n",
       "      <th>C(district)[T.16]</th>\n",
       "      <td>0.002200</td>\n",
       "    </tr>\n",
       "    <tr>\n",
       "      <th>C(district)[T.07]</th>\n",
       "      <td>0.002208</td>\n",
       "    </tr>\n",
       "    <tr>\n",
       "      <th>C(state)[T.NH]</th>\n",
       "      <td>0.002214</td>\n",
       "    </tr>\n",
       "    <tr>\n",
       "      <th>C(state)[T.OH]</th>\n",
       "      <td>0.002405</td>\n",
       "    </tr>\n",
       "    <tr>\n",
       "      <th>C(district)[T.04]</th>\n",
       "      <td>0.002427</td>\n",
       "    </tr>\n",
       "    <tr>\n",
       "      <th>C(district)[T.09]</th>\n",
       "      <td>0.002452</td>\n",
       "    </tr>\n",
       "    <tr>\n",
       "      <th>C(district)[T.08]</th>\n",
       "      <td>0.002856</td>\n",
       "    </tr>\n",
       "    <tr>\n",
       "      <th>C(state)[T.NY]</th>\n",
       "      <td>0.002992</td>\n",
       "    </tr>\n",
       "    <tr>\n",
       "      <th>C(state)[T.FL]</th>\n",
       "      <td>0.003019</td>\n",
       "    </tr>\n",
       "    <tr>\n",
       "      <th>C(state)[T.NV]</th>\n",
       "      <td>0.003080</td>\n",
       "    </tr>\n",
       "    <tr>\n",
       "      <th>C(district)[T.02]</th>\n",
       "      <td>0.003195</td>\n",
       "    </tr>\n",
       "    <tr>\n",
       "      <th>C(district)[T.06]</th>\n",
       "      <td>0.003304</td>\n",
       "    </tr>\n",
       "    <tr>\n",
       "      <th>C(state)[T.IL]</th>\n",
       "      <td>0.003480</td>\n",
       "    </tr>\n",
       "    <tr>\n",
       "      <th>C(district)[T.03]</th>\n",
       "      <td>0.003489</td>\n",
       "    </tr>\n",
       "    <tr>\n",
       "      <th>C(district)[T.01]</th>\n",
       "      <td>0.003712</td>\n",
       "    </tr>\n",
       "    <tr>\n",
       "      <th>C(state)[T.AZ]</th>\n",
       "      <td>0.003781</td>\n",
       "    </tr>\n",
       "    <tr>\n",
       "      <th>C(state)[T.TX]</th>\n",
       "      <td>0.003944</td>\n",
       "    </tr>\n",
       "    <tr>\n",
       "      <th>C(state)[T.CA]</th>\n",
       "      <td>0.005049</td>\n",
       "    </tr>\n",
       "    <tr>\n",
       "      <th>C(party)[D]</th>\n",
       "      <td>0.007710</td>\n",
       "    </tr>\n",
       "    <tr>\n",
       "      <th>C(party)[R]</th>\n",
       "      <td>0.008526</td>\n",
       "    </tr>\n",
       "    <tr>\n",
       "      <th>C(district)[T.S1]</th>\n",
       "      <td>0.009519</td>\n",
       "    </tr>\n",
       "    <tr>\n",
       "      <th>C(district)[T.S2]</th>\n",
       "      <td>0.012429</td>\n",
       "    </tr>\n",
       "    <tr>\n",
       "      <th>C(race_type)[T.SEN]</th>\n",
       "      <td>0.017718</td>\n",
       "    </tr>\n",
       "    <tr>\n",
       "      <th>C(incumbent)[T.1]</th>\n",
       "      <td>0.146636</td>\n",
       "    </tr>\n",
       "    <tr>\n",
       "      <th>pac_id_unique</th>\n",
       "      <td>0.208119</td>\n",
       "    </tr>\n",
       "    <tr>\n",
       "      <th>amount</th>\n",
       "      <td>0.210021</td>\n",
       "    </tr>\n",
       "    <tr>\n",
       "      <th>pac_id_total</th>\n",
       "      <td>0.240583</td>\n",
       "    </tr>\n",
       "  </tbody>\n",
       "</table>\n",
       "<p>124 rows × 1 columns</p>\n",
       "</div>"
      ],
      "text/plain": [
       "                      importance\n",
       "C(district)[T.AS]       0.000000\n",
       "C(race_type)[T.PRES]    0.000000\n",
       "C(district)[T.45]       0.000007\n",
       "C(district)[T.38]       0.000012\n",
       "C(party)[U]             0.000018\n",
       "C(district)[T.28]       0.000020\n",
       "C(district)[T.50]       0.000023\n",
       "C(district)[T.49]       0.000035\n",
       "C(district)[T.42]       0.000049\n",
       "C(district)[T.53]       0.000053\n",
       "C(district)[T.46]       0.000056\n",
       "C(district)[T.37]       0.000057\n",
       "C(district)[T.29]       0.000067\n",
       "C(district)[T.39]       0.000089\n",
       "C(state)[T.ID]          0.000096\n",
       "C(district)[T.32]       0.000117\n",
       "C(state)[T.AL]          0.000118\n",
       "C(district)[T.40]       0.000155\n",
       "C(state)[T.MS]          0.000173\n",
       "C(state)[T.OR]          0.000195\n",
       "C(district)[T.43]       0.000228\n",
       "C(state)[T.DE]          0.000281\n",
       "C(district)[T.51]       0.000299\n",
       "C(state)[T.VT]          0.000326\n",
       "C(district)[T.21]       0.000367\n",
       "C(state)[T.KS]          0.000386\n",
       "C(district)[T.25]       0.000475\n",
       "C(district)[T.19]       0.000480\n",
       "C(district)[T.47]       0.000484\n",
       "C(district)[T.34]       0.000519\n",
       "...                          ...\n",
       "C(district)[T.36]       0.002077\n",
       "C(state)[T.NJ]          0.002082\n",
       "C(state)[T.NC]          0.002166\n",
       "C(district)[T.16]       0.002200\n",
       "C(district)[T.07]       0.002208\n",
       "C(state)[T.NH]          0.002214\n",
       "C(state)[T.OH]          0.002405\n",
       "C(district)[T.04]       0.002427\n",
       "C(district)[T.09]       0.002452\n",
       "C(district)[T.08]       0.002856\n",
       "C(state)[T.NY]          0.002992\n",
       "C(state)[T.FL]          0.003019\n",
       "C(state)[T.NV]          0.003080\n",
       "C(district)[T.02]       0.003195\n",
       "C(district)[T.06]       0.003304\n",
       "C(state)[T.IL]          0.003480\n",
       "C(district)[T.03]       0.003489\n",
       "C(district)[T.01]       0.003712\n",
       "C(state)[T.AZ]          0.003781\n",
       "C(state)[T.TX]          0.003944\n",
       "C(state)[T.CA]          0.005049\n",
       "C(party)[D]             0.007710\n",
       "C(party)[R]             0.008526\n",
       "C(district)[T.S1]       0.009519\n",
       "C(district)[T.S2]       0.012429\n",
       "C(race_type)[T.SEN]     0.017718\n",
       "C(incumbent)[T.1]       0.146636\n",
       "pac_id_unique           0.208119\n",
       "amount                  0.210021\n",
       "pac_id_total            0.240583\n",
       "\n",
       "[124 rows x 1 columns]"
      ]
     },
     "execution_count": 102,
     "metadata": {},
     "output_type": "execute_result"
    }
   ],
   "source": [
    "#check feature importance\n",
    "pd.set_option('display.float_format', lambda x: '%3f' % x)\n",
    "d = {'importance': rf.feature_importances_}\n",
    "pd.DataFrame(d, index=X.columns).sort('importance')"
   ]
  },
  {
   "cell_type": "code",
   "execution_count": 103,
   "metadata": {
    "collapsed": true
   },
   "outputs": [],
   "source": [
    "# somewhat not surprisingly, the most important features of this model are unique pacs donating, amount donated, \n",
    "# number of times donated, whether or not the candidate was an incumbent, the party, and race type\n",
    "# may have over-complicated my model by splitting up state and district, might be worth it to try the model just by\n",
    "# patsy-ing the original distid_run column"
   ]
  },
  {
   "cell_type": "code",
   "execution_count": 104,
   "metadata": {
    "collapsed": true
   },
   "outputs": [],
   "source": [
    "# Model 1a\n",
    "y1, X1 = dmatrices('win ~ 0 + amount + pac_id_unique + pac_id_total + C(party) + C(race_type) + C(incumbent) + C(distid_run)',\n",
    "                         full, return_type='dataframe')\n",
    "y1 = np.ravel(y1)"
   ]
  },
  {
   "cell_type": "code",
   "execution_count": 105,
   "metadata": {
    "collapsed": false
   },
   "outputs": [
    {
     "name": "stdout",
     "output_type": "stream",
     "text": [
      "0.800331439145\n"
     ]
    }
   ],
   "source": [
    "rf1 = rf\n",
    "\n",
    "rf1.fit(X1, y1)\n",
    "print np.abs(cross_val_score(rf1, X1, y1, scoring='precision', cv=10)).mean()\n",
    "# Slightly better prediction precision here than when I used State and District separately"
   ]
  },
  {
   "cell_type": "code",
   "execution_count": 106,
   "metadata": {
    "collapsed": false
   },
   "outputs": [
    {
     "data": {
      "text/html": [
       "<div>\n",
       "<table border=\"1\" class=\"dataframe\">\n",
       "  <thead>\n",
       "    <tr style=\"text-align: right;\">\n",
       "      <th></th>\n",
       "      <th>importance</th>\n",
       "    </tr>\n",
       "  </thead>\n",
       "  <tbody>\n",
       "    <tr>\n",
       "      <th>C(distid_run)[T.CA00]</th>\n",
       "      <td>0.000000</td>\n",
       "    </tr>\n",
       "    <tr>\n",
       "      <th>C(distid_run)[T.ASAS]</th>\n",
       "      <td>0.000000</td>\n",
       "    </tr>\n",
       "    <tr>\n",
       "      <th>C(distid_run)[T.NY00]</th>\n",
       "      <td>0.000000</td>\n",
       "    </tr>\n",
       "    <tr>\n",
       "      <th>C(distid_run)[T.NY28]</th>\n",
       "      <td>0.000000</td>\n",
       "    </tr>\n",
       "    <tr>\n",
       "      <th>C(distid_run)[T.IL00]</th>\n",
       "      <td>0.000000</td>\n",
       "    </tr>\n",
       "    <tr>\n",
       "      <th>C(distid_run)[T.PA19]</th>\n",
       "      <td>0.000000</td>\n",
       "    </tr>\n",
       "    <tr>\n",
       "      <th>C(distid_run)[T.OH17]</th>\n",
       "      <td>0.000000</td>\n",
       "    </tr>\n",
       "    <tr>\n",
       "      <th>C(distid_run)[T.NJ13]</th>\n",
       "      <td>0.000000</td>\n",
       "    </tr>\n",
       "    <tr>\n",
       "      <th>C(distid_run)[T.NY29]</th>\n",
       "      <td>0.000000</td>\n",
       "    </tr>\n",
       "    <tr>\n",
       "      <th>C(distid_run)[T.MI15]</th>\n",
       "      <td>0.000000</td>\n",
       "    </tr>\n",
       "    <tr>\n",
       "      <th>C(distid_run)[T.MO09]</th>\n",
       "      <td>0.000000</td>\n",
       "    </tr>\n",
       "    <tr>\n",
       "      <th>C(distid_run)[T.IL19]</th>\n",
       "      <td>0.000000</td>\n",
       "    </tr>\n",
       "    <tr>\n",
       "      <th>C(distid_run)[T.CT06]</th>\n",
       "      <td>0.000000</td>\n",
       "    </tr>\n",
       "    <tr>\n",
       "      <th>C(distid_run)[T.IA05]</th>\n",
       "      <td>0.000000</td>\n",
       "    </tr>\n",
       "    <tr>\n",
       "      <th>C(distid_run)[T.LA07]</th>\n",
       "      <td>0.000000</td>\n",
       "    </tr>\n",
       "    <tr>\n",
       "      <th>C(distid_run)[T.MA10]</th>\n",
       "      <td>0.000000</td>\n",
       "    </tr>\n",
       "    <tr>\n",
       "      <th>C(distid_run)[T.OH18]</th>\n",
       "      <td>0.000000</td>\n",
       "    </tr>\n",
       "    <tr>\n",
       "      <th>C(distid_run)[T.KS01]</th>\n",
       "      <td>0.000002</td>\n",
       "    </tr>\n",
       "    <tr>\n",
       "      <th>C(distid_run)[T.TX21]</th>\n",
       "      <td>0.000002</td>\n",
       "    </tr>\n",
       "    <tr>\n",
       "      <th>C(distid_run)[T.CA45]</th>\n",
       "      <td>0.000002</td>\n",
       "    </tr>\n",
       "    <tr>\n",
       "      <th>C(distid_run)[T.WI04]</th>\n",
       "      <td>0.000003</td>\n",
       "    </tr>\n",
       "    <tr>\n",
       "      <th>C(distid_run)[T.TX12]</th>\n",
       "      <td>0.000003</td>\n",
       "    </tr>\n",
       "    <tr>\n",
       "      <th>C(distid_run)[T.MO08]</th>\n",
       "      <td>0.000003</td>\n",
       "    </tr>\n",
       "    <tr>\n",
       "      <th>C(distid_run)[T.TN07]</th>\n",
       "      <td>0.000003</td>\n",
       "    </tr>\n",
       "    <tr>\n",
       "      <th>C(distid_run)[T.CO01]</th>\n",
       "      <td>0.000003</td>\n",
       "    </tr>\n",
       "    <tr>\n",
       "      <th>C(distid_run)[T.KS03]</th>\n",
       "      <td>0.000003</td>\n",
       "    </tr>\n",
       "    <tr>\n",
       "      <th>C(distid_run)[T.KY02]</th>\n",
       "      <td>0.000003</td>\n",
       "    </tr>\n",
       "    <tr>\n",
       "      <th>C(distid_run)[T.MI07]</th>\n",
       "      <td>0.000003</td>\n",
       "    </tr>\n",
       "    <tr>\n",
       "      <th>C(distid_run)[T.WA03]</th>\n",
       "      <td>0.000004</td>\n",
       "    </tr>\n",
       "    <tr>\n",
       "      <th>C(distid_run)[T.NC01]</th>\n",
       "      <td>0.000004</td>\n",
       "    </tr>\n",
       "    <tr>\n",
       "      <th>...</th>\n",
       "      <td>...</td>\n",
       "    </tr>\n",
       "    <tr>\n",
       "      <th>C(distid_run)[T.CA01]</th>\n",
       "      <td>0.001515</td>\n",
       "    </tr>\n",
       "    <tr>\n",
       "      <th>C(distid_run)[T.MD06]</th>\n",
       "      <td>0.001539</td>\n",
       "    </tr>\n",
       "    <tr>\n",
       "      <th>C(distid_run)[T.INS1]</th>\n",
       "      <td>0.001571</td>\n",
       "    </tr>\n",
       "    <tr>\n",
       "      <th>C(distid_run)[T.FL26]</th>\n",
       "      <td>0.001572</td>\n",
       "    </tr>\n",
       "    <tr>\n",
       "      <th>C(distid_run)[T.CA36]</th>\n",
       "      <td>0.001607</td>\n",
       "    </tr>\n",
       "    <tr>\n",
       "      <th>C(distid_run)[T.FL22]</th>\n",
       "      <td>0.001611</td>\n",
       "    </tr>\n",
       "    <tr>\n",
       "      <th>C(distid_run)[T.PRES]</th>\n",
       "      <td>0.001627</td>\n",
       "    </tr>\n",
       "    <tr>\n",
       "      <th>C(distid_run)[T.NES1]</th>\n",
       "      <td>0.001638</td>\n",
       "    </tr>\n",
       "    <tr>\n",
       "      <th>C(distid_run)[T.OH14]</th>\n",
       "      <td>0.001647</td>\n",
       "    </tr>\n",
       "    <tr>\n",
       "      <th>C(party)[I]</th>\n",
       "      <td>0.001714</td>\n",
       "    </tr>\n",
       "    <tr>\n",
       "      <th>C(distid_run)[T.PA17]</th>\n",
       "      <td>0.001865</td>\n",
       "    </tr>\n",
       "    <tr>\n",
       "      <th>C(distid_run)[T.TX16]</th>\n",
       "      <td>0.001873</td>\n",
       "    </tr>\n",
       "    <tr>\n",
       "      <th>C(distid_run)[T.OK01]</th>\n",
       "      <td>0.001879</td>\n",
       "    </tr>\n",
       "    <tr>\n",
       "      <th>C(distid_run)[T.FL03]</th>\n",
       "      <td>0.001945</td>\n",
       "    </tr>\n",
       "    <tr>\n",
       "      <th>C(distid_run)[T.NY08]</th>\n",
       "      <td>0.002007</td>\n",
       "    </tr>\n",
       "    <tr>\n",
       "      <th>C(party)[3]</th>\n",
       "      <td>0.002197</td>\n",
       "    </tr>\n",
       "    <tr>\n",
       "      <th>C(distid_run)[T.IL13]</th>\n",
       "      <td>0.002209</td>\n",
       "    </tr>\n",
       "    <tr>\n",
       "      <th>C(distid_run)[T.CA15]</th>\n",
       "      <td>0.002311</td>\n",
       "    </tr>\n",
       "    <tr>\n",
       "      <th>C(distid_run)[T.IL11]</th>\n",
       "      <td>0.002394</td>\n",
       "    </tr>\n",
       "    <tr>\n",
       "      <th>C(distid_run)[T.CA35]</th>\n",
       "      <td>0.002410</td>\n",
       "    </tr>\n",
       "    <tr>\n",
       "      <th>C(race_type)[T.PRES]</th>\n",
       "      <td>0.002527</td>\n",
       "    </tr>\n",
       "    <tr>\n",
       "      <th>C(distid_run)[T.PA12]</th>\n",
       "      <td>0.002754</td>\n",
       "    </tr>\n",
       "    <tr>\n",
       "      <th>C(distid_run)[T.AZ02]</th>\n",
       "      <td>0.003104</td>\n",
       "    </tr>\n",
       "    <tr>\n",
       "      <th>C(party)[R]</th>\n",
       "      <td>0.006445</td>\n",
       "    </tr>\n",
       "    <tr>\n",
       "      <th>C(party)[D]</th>\n",
       "      <td>0.007537</td>\n",
       "    </tr>\n",
       "    <tr>\n",
       "      <th>C(race_type)[T.SEN]</th>\n",
       "      <td>0.023307</td>\n",
       "    </tr>\n",
       "    <tr>\n",
       "      <th>C(incumbent)[T.1]</th>\n",
       "      <td>0.172825</td>\n",
       "    </tr>\n",
       "    <tr>\n",
       "      <th>pac_id_total</th>\n",
       "      <td>0.180547</td>\n",
       "    </tr>\n",
       "    <tr>\n",
       "      <th>pac_id_unique</th>\n",
       "      <td>0.203397</td>\n",
       "    </tr>\n",
       "    <tr>\n",
       "      <th>amount</th>\n",
       "      <td>0.216823</td>\n",
       "    </tr>\n",
       "  </tbody>\n",
       "</table>\n",
       "<p>570 rows × 1 columns</p>\n",
       "</div>"
      ],
      "text/plain": [
       "                       importance\n",
       "C(distid_run)[T.CA00]    0.000000\n",
       "C(distid_run)[T.ASAS]    0.000000\n",
       "C(distid_run)[T.NY00]    0.000000\n",
       "C(distid_run)[T.NY28]    0.000000\n",
       "C(distid_run)[T.IL00]    0.000000\n",
       "C(distid_run)[T.PA19]    0.000000\n",
       "C(distid_run)[T.OH17]    0.000000\n",
       "C(distid_run)[T.NJ13]    0.000000\n",
       "C(distid_run)[T.NY29]    0.000000\n",
       "C(distid_run)[T.MI15]    0.000000\n",
       "C(distid_run)[T.MO09]    0.000000\n",
       "C(distid_run)[T.IL19]    0.000000\n",
       "C(distid_run)[T.CT06]    0.000000\n",
       "C(distid_run)[T.IA05]    0.000000\n",
       "C(distid_run)[T.LA07]    0.000000\n",
       "C(distid_run)[T.MA10]    0.000000\n",
       "C(distid_run)[T.OH18]    0.000000\n",
       "C(distid_run)[T.KS01]    0.000002\n",
       "C(distid_run)[T.TX21]    0.000002\n",
       "C(distid_run)[T.CA45]    0.000002\n",
       "C(distid_run)[T.WI04]    0.000003\n",
       "C(distid_run)[T.TX12]    0.000003\n",
       "C(distid_run)[T.MO08]    0.000003\n",
       "C(distid_run)[T.TN07]    0.000003\n",
       "C(distid_run)[T.CO01]    0.000003\n",
       "C(distid_run)[T.KS03]    0.000003\n",
       "C(distid_run)[T.KY02]    0.000003\n",
       "C(distid_run)[T.MI07]    0.000003\n",
       "C(distid_run)[T.WA03]    0.000004\n",
       "C(distid_run)[T.NC01]    0.000004\n",
       "...                           ...\n",
       "C(distid_run)[T.CA01]    0.001515\n",
       "C(distid_run)[T.MD06]    0.001539\n",
       "C(distid_run)[T.INS1]    0.001571\n",
       "C(distid_run)[T.FL26]    0.001572\n",
       "C(distid_run)[T.CA36]    0.001607\n",
       "C(distid_run)[T.FL22]    0.001611\n",
       "C(distid_run)[T.PRES]    0.001627\n",
       "C(distid_run)[T.NES1]    0.001638\n",
       "C(distid_run)[T.OH14]    0.001647\n",
       "C(party)[I]              0.001714\n",
       "C(distid_run)[T.PA17]    0.001865\n",
       "C(distid_run)[T.TX16]    0.001873\n",
       "C(distid_run)[T.OK01]    0.001879\n",
       "C(distid_run)[T.FL03]    0.001945\n",
       "C(distid_run)[T.NY08]    0.002007\n",
       "C(party)[3]              0.002197\n",
       "C(distid_run)[T.IL13]    0.002209\n",
       "C(distid_run)[T.CA15]    0.002311\n",
       "C(distid_run)[T.IL11]    0.002394\n",
       "C(distid_run)[T.CA35]    0.002410\n",
       "C(race_type)[T.PRES]     0.002527\n",
       "C(distid_run)[T.PA12]    0.002754\n",
       "C(distid_run)[T.AZ02]    0.003104\n",
       "C(party)[R]              0.006445\n",
       "C(party)[D]              0.007537\n",
       "C(race_type)[T.SEN]      0.023307\n",
       "C(incumbent)[T.1]        0.172825\n",
       "pac_id_total             0.180547\n",
       "pac_id_unique            0.203397\n",
       "amount                   0.216823\n",
       "\n",
       "[570 rows x 1 columns]"
      ]
     },
     "execution_count": 106,
     "metadata": {},
     "output_type": "execute_result"
    }
   ],
   "source": [
    "#check feature importance w/ distid_run instead of separate columns for state and district\n",
    "pd.set_option('display.float_format', lambda x: '%3f' % x)\n",
    "d1 = {'importance': rf1.feature_importances_}\n",
    "pd.DataFrame(d1, index=X1.columns).sort('importance')"
   ]
  },
  {
   "cell_type": "code",
   "execution_count": 107,
   "metadata": {
    "collapsed": true
   },
   "outputs": [],
   "source": [
    "# new model including only important features\n",
    "# Model 2\n",
    "y_new, X_new = dmatrices('win ~ 0 + amount + pac_id_unique + pac_id_total + C(party) + C(race_type) + C(incumbent)',\n",
    "                         full, return_type='dataframe')\n",
    "y_new = np.ravel(y_new)"
   ]
  },
  {
   "cell_type": "code",
   "execution_count": 108,
   "metadata": {
    "collapsed": true
   },
   "outputs": [],
   "source": [
    "Xscale_new = scale.fit(X_new).transform(X_new)"
   ]
  },
  {
   "cell_type": "code",
   "execution_count": 109,
   "metadata": {
    "collapsed": false
   },
   "outputs": [
    {
     "data": {
      "text/plain": [
       "DummyClassifier(constant=None, random_state=None, strategy='stratified')"
      ]
     },
     "execution_count": 109,
     "metadata": {},
     "output_type": "execute_result"
    }
   ],
   "source": [
    "rf2 = rf\n",
    "dc2 = dc\n",
    "svm2 = svm \n",
    "\n",
    "rf2.fit(X_new, y_new)\n",
    "svm2.fit(Xscale_new, y_new)\n",
    "dc2.fit(X_new, y_new)"
   ]
  },
  {
   "cell_type": "code",
   "execution_count": 110,
   "metadata": {
    "collapsed": false
   },
   "outputs": [
    {
     "name": "stdout",
     "output_type": "stream",
     "text": [
      "0.827816619954\n",
      "0.838040854894\n",
      "0.0803404316339\n"
     ]
    }
   ],
   "source": [
    "print np.abs(cross_val_score(rf2, X_new, y_new, scoring='precision', cv=10)).mean()\n",
    "print np.abs(cross_val_score(svm2, Xscale_new, y_new, scoring='precision', cv=10)).mean()\n",
    "print np.abs(cross_val_score(dc2, X_new, y_new, scoring='precision', cv=10)).mean()\n",
    "# RF improves to 83% prediction precision with fewer features included, SVM only marginal improvement"
   ]
  },
  {
   "cell_type": "code",
   "execution_count": 111,
   "metadata": {
    "collapsed": true
   },
   "outputs": [],
   "source": [
    "# try clustering after modeling with RF"
   ]
  },
  {
   "cell_type": "code",
   "execution_count": 112,
   "metadata": {
    "collapsed": true
   },
   "outputs": [],
   "source": [
    "from sklearn.cluster import KMeans"
   ]
  },
  {
   "cell_type": "code",
   "execution_count": 113,
   "metadata": {
    "collapsed": false
   },
   "outputs": [
    {
     "data": {
      "text/plain": [
       "KMeans(copy_x=True, init='k-means++', max_iter=300, n_clusters=8, n_init=10,\n",
       "    n_jobs=1, precompute_distances='auto', random_state=None, tol=0.0001,\n",
       "    verbose=0)"
      ]
     },
     "execution_count": 113,
     "metadata": {},
     "output_type": "execute_result"
    }
   ],
   "source": [
    "# use scaled data for clustering\n",
    "km = KMeans()\n",
    "km.fit(Xscale_new)"
   ]
  },
  {
   "cell_type": "code",
   "execution_count": 116,
   "metadata": {
    "collapsed": false
   },
   "outputs": [
    {
     "data": {
      "text/plain": [
       "[<matplotlib.lines.Line2D at 0x10cafbb50>]"
      ]
     },
     "execution_count": 116,
     "metadata": {},
     "output_type": "execute_result"
    },
    {
     "data": {
      "image/png": "[encoded data removed]",
      "text/plain": [
       "<matplotlib.figure.Figure at 0x11008b590>"
      ]
     },
     "metadata": {},
     "output_type": "display_data"
    }
   ],
   "source": [
    "# graph inertia as clusters increase\n",
    "inertia = []\n",
    "k = []\n",
    "\n",
    "for i in range(1,11):\n",
    "    km = KMeans(n_clusters=i)\n",
    "    km.fit(Xscale_new)\n",
    "    k.append(i)\n",
    "    inertia.append(km.inertia_)\n",
    "plt.plot(k, inertia)\n",
    "\n",
    "# elbow test around 8"
   ]
  },
  {
   "cell_type": "code",
   "execution_count": 117,
   "metadata": {
    "collapsed": false
   },
   "outputs": [
    {
     "data": {
      "text/plain": [
       "array([2, 2, 6, ..., 6, 2, 0], dtype=int32)"
      ]
     },
     "execution_count": 117,
     "metadata": {},
     "output_type": "execute_result"
    }
   ],
   "source": [
    "km = KMeans(n_clusters=8)\n",
    "km.fit_predict(Xscale_new)"
   ]
  },
  {
   "cell_type": "code",
   "execution_count": 118,
   "metadata": {
    "collapsed": false
   },
   "outputs": [
    {
     "data": {
      "text/html": [
       "<div>\n",
       "<table border=\"1\" class=\"dataframe\">\n",
       "  <thead>\n",
       "    <tr style=\"text-align: right;\">\n",
       "      <th></th>\n",
       "      <th>0</th>\n",
       "      <th>1</th>\n",
       "      <th>2</th>\n",
       "      <th>3</th>\n",
       "      <th>4</th>\n",
       "      <th>5</th>\n",
       "      <th>6</th>\n",
       "      <th>7</th>\n",
       "    </tr>\n",
       "  </thead>\n",
       "  <tbody>\n",
       "    <tr>\n",
       "      <th>C(party)[3]</th>\n",
       "      <td>-0.000</td>\n",
       "      <td>0.000</td>\n",
       "      <td>0.000</td>\n",
       "      <td>-0.000</td>\n",
       "      <td>0.000</td>\n",
       "      <td>1.000</td>\n",
       "      <td>0.000</td>\n",
       "      <td>0.000</td>\n",
       "    </tr>\n",
       "    <tr>\n",
       "      <th>C(party)[D]</th>\n",
       "      <td>-0.000</td>\n",
       "      <td>0.500</td>\n",
       "      <td>1.000</td>\n",
       "      <td>-0.000</td>\n",
       "      <td>0.459</td>\n",
       "      <td>-0.000</td>\n",
       "      <td>-0.000</td>\n",
       "      <td>0.000</td>\n",
       "    </tr>\n",
       "    <tr>\n",
       "      <th>C(party)[I]</th>\n",
       "      <td>0.000</td>\n",
       "      <td>0.000</td>\n",
       "      <td>-0.000</td>\n",
       "      <td>-0.000</td>\n",
       "      <td>-0.000</td>\n",
       "      <td>-0.000</td>\n",
       "      <td>1.000</td>\n",
       "      <td>-0.000</td>\n",
       "    </tr>\n",
       "    <tr>\n",
       "      <th>C(party)[L]</th>\n",
       "      <td>-0.000</td>\n",
       "      <td>0.000</td>\n",
       "      <td>-0.000</td>\n",
       "      <td>1.000</td>\n",
       "      <td>-0.000</td>\n",
       "      <td>-0.000</td>\n",
       "      <td>-0.000</td>\n",
       "      <td>-0.000</td>\n",
       "    </tr>\n",
       "    <tr>\n",
       "      <th>C(party)[R]</th>\n",
       "      <td>1.000</td>\n",
       "      <td>0.500</td>\n",
       "      <td>-0.000</td>\n",
       "      <td>-0.000</td>\n",
       "      <td>0.541</td>\n",
       "      <td>0.000</td>\n",
       "      <td>0.000</td>\n",
       "      <td>-0.000</td>\n",
       "    </tr>\n",
       "    <tr>\n",
       "      <th>C(party)[U]</th>\n",
       "      <td>-0.000</td>\n",
       "      <td>0.000</td>\n",
       "      <td>-0.000</td>\n",
       "      <td>-0.000</td>\n",
       "      <td>0.000</td>\n",
       "      <td>0.000</td>\n",
       "      <td>0.000</td>\n",
       "      <td>1.000</td>\n",
       "    </tr>\n",
       "    <tr>\n",
       "      <th>C(race_type)[T.PRES]</th>\n",
       "      <td>0.069</td>\n",
       "      <td>1.000</td>\n",
       "      <td>0.042</td>\n",
       "      <td>0.084</td>\n",
       "      <td>0.005</td>\n",
       "      <td>0.308</td>\n",
       "      <td>0.256</td>\n",
       "      <td>0.585</td>\n",
       "    </tr>\n",
       "    <tr>\n",
       "      <th>C(race_type)[T.SEN]</th>\n",
       "      <td>0.152</td>\n",
       "      <td>0.000</td>\n",
       "      <td>0.133</td>\n",
       "      <td>0.140</td>\n",
       "      <td>0.230</td>\n",
       "      <td>0.183</td>\n",
       "      <td>0.149</td>\n",
       "      <td>0.031</td>\n",
       "    </tr>\n",
       "    <tr>\n",
       "      <th>C(incumbent)[T.1]</th>\n",
       "      <td>0.000</td>\n",
       "      <td>0.500</td>\n",
       "      <td>-0.000</td>\n",
       "      <td>0.000</td>\n",
       "      <td>0.984</td>\n",
       "      <td>0.000</td>\n",
       "      <td>0.004</td>\n",
       "      <td>-0.000</td>\n",
       "    </tr>\n",
       "    <tr>\n",
       "      <th>amount</th>\n",
       "      <td>85487.825</td>\n",
       "      <td>292776446.000</td>\n",
       "      <td>100303.868</td>\n",
       "      <td>2301.492</td>\n",
       "      <td>1512491.911</td>\n",
       "      <td>246.057</td>\n",
       "      <td>9613.398</td>\n",
       "      <td>131.292</td>\n",
       "    </tr>\n",
       "    <tr>\n",
       "      <th>pac_id_unique</th>\n",
       "      <td>5.412</td>\n",
       "      <td>443.000</td>\n",
       "      <td>8.103</td>\n",
       "      <td>0.072</td>\n",
       "      <td>213.830</td>\n",
       "      <td>0.057</td>\n",
       "      <td>0.612</td>\n",
       "      <td>0.031</td>\n",
       "    </tr>\n",
       "    <tr>\n",
       "      <th>pac_id_total</th>\n",
       "      <td>9.913</td>\n",
       "      <td>26453.000</td>\n",
       "      <td>16.402</td>\n",
       "      <td>0.252</td>\n",
       "      <td>503.654</td>\n",
       "      <td>0.226</td>\n",
       "      <td>1.233</td>\n",
       "      <td>0.108</td>\n",
       "    </tr>\n",
       "  </tbody>\n",
       "</table>\n",
       "</div>"
      ],
      "text/plain": [
       "                             0             1          2        3           4  \\\n",
       "C(party)[3]             -0.000         0.000      0.000   -0.000       0.000   \n",
       "C(party)[D]             -0.000         0.500      1.000   -0.000       0.459   \n",
       "C(party)[I]              0.000         0.000     -0.000   -0.000      -0.000   \n",
       "C(party)[L]             -0.000         0.000     -0.000    1.000      -0.000   \n",
       "C(party)[R]              1.000         0.500     -0.000   -0.000       0.541   \n",
       "C(party)[U]             -0.000         0.000     -0.000   -0.000       0.000   \n",
       "C(race_type)[T.PRES]     0.069         1.000      0.042    0.084       0.005   \n",
       "C(race_type)[T.SEN]      0.152         0.000      0.133    0.140       0.230   \n",
       "C(incumbent)[T.1]        0.000         0.500     -0.000    0.000       0.984   \n",
       "amount               85487.825 292776446.000 100303.868 2301.492 1512491.911   \n",
       "pac_id_unique            5.412       443.000      8.103    0.072     213.830   \n",
       "pac_id_total             9.913     26453.000     16.402    0.252     503.654   \n",
       "\n",
       "                           5        6       7  \n",
       "C(party)[3]            1.000    0.000   0.000  \n",
       "C(party)[D]           -0.000   -0.000   0.000  \n",
       "C(party)[I]           -0.000    1.000  -0.000  \n",
       "C(party)[L]           -0.000   -0.000  -0.000  \n",
       "C(party)[R]            0.000    0.000  -0.000  \n",
       "C(party)[U]            0.000    0.000   1.000  \n",
       "C(race_type)[T.PRES]   0.308    0.256   0.585  \n",
       "C(race_type)[T.SEN]    0.183    0.149   0.031  \n",
       "C(incumbent)[T.1]      0.000    0.004  -0.000  \n",
       "amount               246.057 9613.398 131.292  \n",
       "pac_id_unique          0.057    0.612   0.031  \n",
       "pac_id_total           0.226    1.233   0.108  "
      ]
     },
     "execution_count": 118,
     "metadata": {},
     "output_type": "execute_result"
    }
   ],
   "source": [
    "pd.set_option('display.float_format', lambda x: '%.3f' % x)\n",
    "columns = {str(x): scale.inverse_transform(km.cluster_centers_[x]) for x in range(0,8)}\n",
    "pd.DataFrame(columns, index=X_new.columns)"
   ]
  },
  {
   "cell_type": "markdown",
   "metadata": {},
   "source": [
    "### Some interesting clusters here:\n",
    "0. Republican, non-incumbent, about 85k donated, not running for Pres or Sen -- \"House Republican Challengers\" \n",
    "1. Even Dem. Rep., incumbents, 1M+ donated, many PACs donating -- \"Incumbent Congressmen and Senators\"\n",
    "2. Democrats, non-incumbent, 1M donated, few PACs donating -- \"House Democrat Challengers\"\n",
    "3. 3rd party, non-incumbent, little money, few PACs donating, running for Pres. -- \"3rd Party Longshots\"\n",
    "4. Even Dem. Rep., 50% incumbent, nearly 300M donated, many PACS donating -- \"Romney vs. Obama\" \n",
    "5. Unknown party, non-incumbent, running for Pres, no money and no donators -- \"Deez Nuts\"  \n",
    "6. Libertarian, non-incumbent, 2k donated, few donators -- \"Libertarian Challengers\"\n",
    "7. Independent, non-incumbent, over 9k donated, run for Pres and Sen -- \"Independent Hopefuls\""
   ]
  },
  {
   "cell_type": "code",
   "execution_count": 119,
   "metadata": {
    "collapsed": true
   },
   "outputs": [],
   "source": [
    "full['clusters'] = km.labels_"
   ]
  },
  {
   "cell_type": "code",
   "execution_count": 147,
   "metadata": {
    "collapsed": false
   },
   "outputs": [
    {
     "data": {
      "text/plain": [
       "0    2306\n",
       "2    1721\n",
       "4     575\n",
       "5     530\n",
       "6     503\n",
       "3     250\n",
       "7      65\n",
       "1       2\n",
       "dtype: int64"
      ]
     },
     "execution_count": 147,
     "metadata": {},
     "output_type": "execute_result"
    }
   ],
   "source": [
    "full.clusters.value_counts()"
   ]
  },
  {
   "cell_type": "code",
   "execution_count": 120,
   "metadata": {
    "collapsed": false
   },
   "outputs": [],
   "source": [
    "# Model 3\n",
    "y_cluster, X_cluster = dmatrices('win ~ 0 + amount + pac_id_unique + pac_id_total + C(party) + C(race_type) + C(incumbent) + C(clusters)',\n",
    "                                full, return_type='dataframe')\n",
    "\n",
    "y_cluster = np.ravel(y_cluster)"
   ]
  },
  {
   "cell_type": "code",
   "execution_count": 121,
   "metadata": {
    "collapsed": false
   },
   "outputs": [],
   "source": [
    "Xcluster_scale = scale.fit(X_cluster).transform(X_cluster)"
   ]
  },
  {
   "cell_type": "code",
   "execution_count": 122,
   "metadata": {
    "collapsed": false
   },
   "outputs": [
    {
     "data": {
      "text/plain": [
       "DummyClassifier(constant=None, random_state=None, strategy='stratified')"
      ]
     },
     "execution_count": 122,
     "metadata": {},
     "output_type": "execute_result"
    }
   ],
   "source": [
    "rf3 = rf \n",
    "svm3 = svm\n",
    "dc3 = dc\n",
    "\n",
    "rf3.fit(X_cluster, y_cluster)\n",
    "svm3.fit(Xcluster_scale, y_cluster)\n",
    "dc3.fit(X_cluster, y_cluster)"
   ]
  },
  {
   "cell_type": "code",
   "execution_count": 123,
   "metadata": {
    "collapsed": false
   },
   "outputs": [
    {
     "name": "stdout",
     "output_type": "stream",
     "text": [
      "0.834842698782\n",
      "0.828651522978\n",
      "0.0682761255184\n"
     ]
    }
   ],
   "source": [
    "print np.abs(cross_val_score(rf3, X_cluster, y_cluster, scoring='precision', cv=10)).mean()\n",
    "print np.abs(cross_val_score(svm3, Xcluster_scale, y_cluster, scoring='precision', cv=10)).mean()\n",
    "print np.abs(cross_val_score(dc3, X_cluster, y_cluster, scoring='precision', cv=10)).mean()"
   ]
  },
  {
   "cell_type": "code",
   "execution_count": 124,
   "metadata": {
    "collapsed": true
   },
   "outputs": [],
   "source": [
    "# Clustering didn't improve my model. Random Forest and SVM yield nearly the same precision of 83% vs a Dummy Classifier\n",
    "# of 8% precision"
   ]
  },
  {
   "cell_type": "code",
   "execution_count": 125,
   "metadata": {
    "collapsed": false
   },
   "outputs": [
    {
     "data": {
      "text/html": [
       "<div>\n",
       "<table border=\"1\" class=\"dataframe\">\n",
       "  <thead>\n",
       "    <tr style=\"text-align: right;\">\n",
       "      <th></th>\n",
       "      <th>importance</th>\n",
       "    </tr>\n",
       "  </thead>\n",
       "  <tbody>\n",
       "    <tr>\n",
       "      <th>C(party)[U]</th>\n",
       "      <td>0.000000</td>\n",
       "    </tr>\n",
       "    <tr>\n",
       "      <th>C(clusters)[T.7]</th>\n",
       "      <td>0.000000</td>\n",
       "    </tr>\n",
       "    <tr>\n",
       "      <th>C(clusters)[T.3]</th>\n",
       "      <td>0.000010</td>\n",
       "    </tr>\n",
       "    <tr>\n",
       "      <th>C(party)[L]</th>\n",
       "      <td>0.000024</td>\n",
       "    </tr>\n",
       "    <tr>\n",
       "      <th>C(clusters)[T.5]</th>\n",
       "      <td>0.000196</td>\n",
       "    </tr>\n",
       "    <tr>\n",
       "      <th>C(clusters)[T.1]</th>\n",
       "      <td>0.000257</td>\n",
       "    </tr>\n",
       "    <tr>\n",
       "      <th>C(party)[3]</th>\n",
       "      <td>0.000296</td>\n",
       "    </tr>\n",
       "    <tr>\n",
       "      <th>C(clusters)[T.6]</th>\n",
       "      <td>0.000624</td>\n",
       "    </tr>\n",
       "    <tr>\n",
       "      <th>C(party)[I]</th>\n",
       "      <td>0.000635</td>\n",
       "    </tr>\n",
       "    <tr>\n",
       "      <th>C(race_type)[T.PRES]</th>\n",
       "      <td>0.001912</td>\n",
       "    </tr>\n",
       "    <tr>\n",
       "      <th>C(clusters)[T.2]</th>\n",
       "      <td>0.004778</td>\n",
       "    </tr>\n",
       "    <tr>\n",
       "      <th>C(party)[R]</th>\n",
       "      <td>0.005921</td>\n",
       "    </tr>\n",
       "    <tr>\n",
       "      <th>C(party)[D]</th>\n",
       "      <td>0.009654</td>\n",
       "    </tr>\n",
       "    <tr>\n",
       "      <th>C(race_type)[T.SEN]</th>\n",
       "      <td>0.041089</td>\n",
       "    </tr>\n",
       "    <tr>\n",
       "      <th>C(clusters)[T.4]</th>\n",
       "      <td>0.057380</td>\n",
       "    </tr>\n",
       "    <tr>\n",
       "      <th>C(incumbent)[T.1]</th>\n",
       "      <td>0.094493</td>\n",
       "    </tr>\n",
       "    <tr>\n",
       "      <th>amount</th>\n",
       "      <td>0.224007</td>\n",
       "    </tr>\n",
       "    <tr>\n",
       "      <th>pac_id_unique</th>\n",
       "      <td>0.266093</td>\n",
       "    </tr>\n",
       "    <tr>\n",
       "      <th>pac_id_total</th>\n",
       "      <td>0.292629</td>\n",
       "    </tr>\n",
       "  </tbody>\n",
       "</table>\n",
       "</div>"
      ],
      "text/plain": [
       "                      importance\n",
       "C(party)[U]             0.000000\n",
       "C(clusters)[T.7]        0.000000\n",
       "C(clusters)[T.3]        0.000010\n",
       "C(party)[L]             0.000024\n",
       "C(clusters)[T.5]        0.000196\n",
       "C(clusters)[T.1]        0.000257\n",
       "C(party)[3]             0.000296\n",
       "C(clusters)[T.6]        0.000624\n",
       "C(party)[I]             0.000635\n",
       "C(race_type)[T.PRES]    0.001912\n",
       "C(clusters)[T.2]        0.004778\n",
       "C(party)[R]             0.005921\n",
       "C(party)[D]             0.009654\n",
       "C(race_type)[T.SEN]     0.041089\n",
       "C(clusters)[T.4]        0.057380\n",
       "C(incumbent)[T.1]       0.094493\n",
       "amount                  0.224007\n",
       "pac_id_unique           0.266093\n",
       "pac_id_total            0.292629"
      ]
     },
     "execution_count": 125,
     "metadata": {},
     "output_type": "execute_result"
    }
   ],
   "source": [
    "# feature importance of last model\n",
    "pd.set_option('display.float_format', lambda x: '%3f' % x)\n",
    "d2 = {'importance': rf3.feature_importances_}\n",
    "pd.DataFrame(d2, index=X_cluster.columns).sort('importance')"
   ]
  },
  {
   "cell_type": "code",
   "execution_count": 126,
   "metadata": {
    "collapsed": false
   },
   "outputs": [
    {
     "data": {
      "text/plain": [
       "LogisticRegression(C=1.0, class_weight=None, dual=False, fit_intercept=True,\n",
       "          intercept_scaling=1, max_iter=100, multi_class='ovr',\n",
       "          penalty='l2', random_state=None, solver='liblinear', tol=0.0001,\n",
       "          verbose=0)"
      ]
     },
     "execution_count": 126,
     "metadata": {},
     "output_type": "execute_result"
    }
   ],
   "source": [
    "# use logistic regression to be able to speak about % effects of features on election outcome\n",
    "# Model 4\n",
    "lr = LogisticRegression()\n",
    "lr.fit(Xcluster_scale, y_cluster)"
   ]
  },
  {
   "cell_type": "code",
   "execution_count": 127,
   "metadata": {
    "collapsed": false
   },
   "outputs": [
    {
     "name": "stdout",
     "output_type": "stream",
     "text": [
      "0.830417878925\n"
     ]
    }
   ],
   "source": [
    "print np.abs(cross_val_score(lr, Xcluster_scale, y_cluster, scoring='precision', cv=10)).mean()"
   ]
  },
  {
   "cell_type": "code",
   "execution_count": 128,
   "metadata": {
    "collapsed": false
   },
   "outputs": [
    {
     "data": {
      "text/plain": [
       "LogisticRegression(C=1.0, class_weight=None, dual=False, fit_intercept=True,\n",
       "          intercept_scaling=1, max_iter=100, multi_class='ovr',\n",
       "          penalty='l2', random_state=None, solver='liblinear', tol=0.0001,\n",
       "          verbose=0)"
      ]
     },
     "execution_count": 128,
     "metadata": {},
     "output_type": "execute_result"
    }
   ],
   "source": [
    "lr1 = lr\n",
    "lr1.fit(Xscale_new, y_new)"
   ]
  },
  {
   "cell_type": "code",
   "execution_count": 129,
   "metadata": {
    "collapsed": false
   },
   "outputs": [
    {
     "name": "stdout",
     "output_type": "stream",
     "text": [
      "0.844497547991\n"
     ]
    }
   ],
   "source": [
    "print np.abs(cross_val_score(lr1, Xscale_new, y_new, scoring='precision', cv=10)).mean()\n",
    "# Sometimes the simplest model is the best"
   ]
  },
  {
   "cell_type": "code",
   "execution_count": 130,
   "metadata": {
    "collapsed": false
   },
   "outputs": [
    {
     "data": {
      "text/html": [
       "<div>\n",
       "<table border=\"1\" class=\"dataframe\">\n",
       "  <thead>\n",
       "    <tr style=\"text-align: right;\">\n",
       "      <th></th>\n",
       "      <th>Coefficients</th>\n",
       "      <th>Features</th>\n",
       "    </tr>\n",
       "  </thead>\n",
       "  <tbody>\n",
       "    <tr>\n",
       "      <th>0</th>\n",
       "      <td>0.578715</td>\n",
       "      <td>C(party)[3]</td>\n",
       "    </tr>\n",
       "    <tr>\n",
       "      <th>1</th>\n",
       "      <td>1.515886</td>\n",
       "      <td>C(party)[D]</td>\n",
       "    </tr>\n",
       "    <tr>\n",
       "      <th>2</th>\n",
       "      <td>0.865439</td>\n",
       "      <td>C(party)[I]</td>\n",
       "    </tr>\n",
       "    <tr>\n",
       "      <th>3</th>\n",
       "      <td>0.638726</td>\n",
       "      <td>C(party)[L]</td>\n",
       "    </tr>\n",
       "    <tr>\n",
       "      <th>4</th>\n",
       "      <td>1.243240</td>\n",
       "      <td>C(party)[R]</td>\n",
       "    </tr>\n",
       "    <tr>\n",
       "      <th>5</th>\n",
       "      <td>0.838330</td>\n",
       "      <td>C(party)[U]</td>\n",
       "    </tr>\n",
       "    <tr>\n",
       "      <th>6</th>\n",
       "      <td>0.455315</td>\n",
       "      <td>C(race_type)[T.PRES]</td>\n",
       "    </tr>\n",
       "    <tr>\n",
       "      <th>7</th>\n",
       "      <td>0.352718</td>\n",
       "      <td>C(race_type)[T.SEN]</td>\n",
       "    </tr>\n",
       "    <tr>\n",
       "      <th>8</th>\n",
       "      <td>2.316704</td>\n",
       "      <td>C(incumbent)[T.1]</td>\n",
       "    </tr>\n",
       "    <tr>\n",
       "      <th>9</th>\n",
       "      <td>1.139314</td>\n",
       "      <td>amount</td>\n",
       "    </tr>\n",
       "    <tr>\n",
       "      <th>10</th>\n",
       "      <td>3.047516</td>\n",
       "      <td>pac_id_unique</td>\n",
       "    </tr>\n",
       "    <tr>\n",
       "      <th>11</th>\n",
       "      <td>0.853640</td>\n",
       "      <td>pac_id_total</td>\n",
       "    </tr>\n",
       "  </tbody>\n",
       "</table>\n",
       "</div>"
      ],
      "text/plain": [
       "    Coefficients              Features\n",
       "0       0.578715           C(party)[3]\n",
       "1       1.515886           C(party)[D]\n",
       "2       0.865439           C(party)[I]\n",
       "3       0.638726           C(party)[L]\n",
       "4       1.243240           C(party)[R]\n",
       "5       0.838330           C(party)[U]\n",
       "6       0.455315  C(race_type)[T.PRES]\n",
       "7       0.352718   C(race_type)[T.SEN]\n",
       "8       2.316704     C(incumbent)[T.1]\n",
       "9       1.139314                amount\n",
       "10      3.047516         pac_id_unique\n",
       "11      0.853640          pac_id_total"
      ]
     },
     "execution_count": 130,
     "metadata": {},
     "output_type": "execute_result"
    }
   ],
   "source": [
    "# make a dataframe to view the coefficients of the model\n",
    "dlr = {'Coefficients': np.exp(lr1.coef_[0]), 'Features': X_new.columns}\n",
    "pd.DataFrame(dlr, columns=['Coefficients', 'Features'])"
   ]
  },
  {
   "cell_type": "code",
   "execution_count": 131,
   "metadata": {
    "collapsed": true
   },
   "outputs": [],
   "source": [
    "# Incumbency and the number of PACs donating \n",
    "# to a campaign are majorly important in predicting election outcome. \n",
    "# As the number of unique PACs donating to a campaign increase by 1 standard deviation, the odds of that candidate \n",
    "# winning the election increase over 3x. Incumbents have a huge advantage at winning an election-- incumbents have\n",
    "# over a 2x better chance of winning just by virtue of already holding office "
   ]
  },
  {
   "cell_type": "code",
   "execution_count": 132,
   "metadata": {
    "collapsed": true
   },
   "outputs": [],
   "source": [
    "# control for each race_type, since results may be muddled by inclusion of all three in models\n",
    "# make binary columns for each race type\n",
    "def pres(x):\n",
    "    if 'PRES' in x:\n",
    "        return 1\n",
    "    else:\n",
    "        return 0\n",
    "\n",
    "def sen(x):\n",
    "    if 'SEN' in x:\n",
    "        return 1\n",
    "    else: \n",
    "        return 0\n",
    "    \n",
    "def house(x):\n",
    "    if 'HOUSE' in x:\n",
    "        return 1\n",
    "    else:\n",
    "        return 0"
   ]
  },
  {
   "cell_type": "code",
   "execution_count": 133,
   "metadata": {
    "collapsed": true
   },
   "outputs": [],
   "source": [
    "full['pres'] = full['race_type'].apply(pres)\n",
    "full['sen'] = full['race_type'].apply(sen)\n",
    "full['house'] = full['race_type'].apply(house)"
   ]
  },
  {
   "cell_type": "code",
   "execution_count": 134,
   "metadata": {
    "collapsed": true
   },
   "outputs": [],
   "source": [
    "# Use best model pre-clustering as I may want to cluster again controlling for race type\n",
    "# Model 5\n",
    "\n",
    "y_pres, X_pres = dmatrices('win ~ 0 + amount + pac_id_unique + pac_id_total + C(party) + C(incumbent) + C(pres)',\n",
    "                         full, return_type='dataframe')\n",
    "y_pres = np.ravel(y_pres)"
   ]
  },
  {
   "cell_type": "code",
   "execution_count": 135,
   "metadata": {
    "collapsed": false
   },
   "outputs": [],
   "source": [
    "Xpres_scale = scale.fit(X_pres).transform(X_pres)"
   ]
  },
  {
   "cell_type": "code",
   "execution_count": 136,
   "metadata": {
    "collapsed": false
   },
   "outputs": [
    {
     "data": {
      "text/plain": [
       "DummyClassifier(constant=None, random_state=None, strategy='stratified')"
      ]
     },
     "execution_count": 136,
     "metadata": {},
     "output_type": "execute_result"
    }
   ],
   "source": [
    "rf4 = rf\n",
    "dc4 = dc\n",
    "svm4 = svm \n",
    "lr2 = LogisticRegression()\n",
    "\n",
    "rf4.fit(X_pres, y_pres)\n",
    "svm4.fit(Xpres_scale, y_pres)\n",
    "lr2.fit(Xpres_scale, y_pres)\n",
    "dc4.fit(X_pres, y_pres)"
   ]
  },
  {
   "cell_type": "code",
   "execution_count": 137,
   "metadata": {
    "collapsed": false
   },
   "outputs": [
    {
     "name": "stdout",
     "output_type": "stream",
     "text": [
      "0.825789469602\n",
      "0.0927424082869\n",
      "0.781160788589\n",
      "0.813519832506\n"
     ]
    }
   ],
   "source": [
    "print np.abs(cross_val_score(rf4, X_pres, y_pres, scoring='precision', cv=10)).mean()\n",
    "print np.abs(cross_val_score(dc4, X_pres, y_pres, scoring='precision', cv=10)).mean()\n",
    "print np.abs(cross_val_score(svm4, Xpres_scale, y_pres, scoring='precision', cv=10)).mean()\n",
    "print np.abs(cross_val_score(lr2, Xpres_scale, y_pres, scoring='precision', cv=10)).mean()"
   ]
  },
  {
   "cell_type": "code",
   "execution_count": 138,
   "metadata": {
    "collapsed": true
   },
   "outputs": [],
   "source": [
    "#RF performs best, but about the same as when all three race types are included.\n",
    "#try again controlling for SEN and HOUSE\n",
    "\n",
    "#Model 6\n",
    "y_sen, X_sen = dmatrices('win ~ 0 + amount + pac_id_unique + pac_id_total + C(party) + C(incumbent) + C(sen)',\n",
    "                         full, return_type='dataframe')\n",
    "y_sen = np.ravel(y_sen)"
   ]
  },
  {
   "cell_type": "code",
   "execution_count": 139,
   "metadata": {
    "collapsed": true
   },
   "outputs": [],
   "source": [
    "Xsen_scale = scale.fit(X_sen).transform(X_sen)"
   ]
  },
  {
   "cell_type": "code",
   "execution_count": 140,
   "metadata": {
    "collapsed": false
   },
   "outputs": [
    {
     "data": {
      "text/plain": [
       "DummyClassifier(constant=None, random_state=None, strategy='stratified')"
      ]
     },
     "execution_count": 140,
     "metadata": {},
     "output_type": "execute_result"
    }
   ],
   "source": [
    "rf5 = rf\n",
    "dc5 = dc\n",
    "svm5 = svm \n",
    "lr3 = lr2\n",
    "\n",
    "rf5.fit(X_sen, y_sen)\n",
    "svm5.fit(Xsen_scale, y_sen)\n",
    "lr3.fit(Xsen_scale, y_sen)\n",
    "dc5.fit(X_sen, y_sen)"
   ]
  },
  {
   "cell_type": "code",
   "execution_count": 141,
   "metadata": {
    "collapsed": false
   },
   "outputs": [
    {
     "name": "stdout",
     "output_type": "stream",
     "text": [
      "0.837510859255\n",
      "0.0881986184532\n",
      "0.834884845357\n",
      "0.845585210329\n"
     ]
    }
   ],
   "source": [
    "print np.abs(cross_val_score(rf5, X_sen, y_sen, scoring='precision', cv=10)).mean()\n",
    "print np.abs(cross_val_score(dc5, X_sen, y_sen, scoring='precision', cv=10)).mean()\n",
    "print np.abs(cross_val_score(svm5, Xsen_scale, y_sen, scoring='precision', cv=10)).mean()\n",
    "print np.abs(cross_val_score(lr3, Xsen_scale, y_sen, scoring='precision', cv=10)).mean()"
   ]
  },
  {
   "cell_type": "code",
   "execution_count": 142,
   "metadata": {
    "collapsed": true
   },
   "outputs": [],
   "source": [
    "#Again not much improvement when controlling for just senatorial races\n",
    "#See if there's a differnece for house races, though I think there won't be\n",
    "\n",
    "#Model 7\n",
    "\n",
    "y_house, X_house = dmatrices('win ~ 0 + amount + pac_id_unique + pac_id_total + C(party) + C(incumbent) + C(house)',\n",
    "                         full, return_type='dataframe')\n",
    "y_house = np.ravel(y_house)"
   ]
  },
  {
   "cell_type": "code",
   "execution_count": 143,
   "metadata": {
    "collapsed": false
   },
   "outputs": [],
   "source": [
    "Xhouse_scale = scale.fit(X_house).transform(X_house)"
   ]
  },
  {
   "cell_type": "code",
   "execution_count": 144,
   "metadata": {
    "collapsed": false
   },
   "outputs": [
    {
     "data": {
      "text/plain": [
       "DummyClassifier(constant=None, random_state=None, strategy='stratified')"
      ]
     },
     "execution_count": 144,
     "metadata": {},
     "output_type": "execute_result"
    }
   ],
   "source": [
    "rf6 = rf\n",
    "dc6 = dc\n",
    "svm6 = svm \n",
    "lr4 = lr2\n",
    "\n",
    "rf6.fit(X_house, y_house)\n",
    "svm6.fit(Xhouse_scale, y_house)\n",
    "lr4.fit(Xhouse_scale, y_house)\n",
    "dc6.fit(X_house, y_house)"
   ]
  },
  {
   "cell_type": "code",
   "execution_count": 145,
   "metadata": {
    "collapsed": false
   },
   "outputs": [
    {
     "name": "stdout",
     "output_type": "stream",
     "text": [
      "0.835970139315\n",
      "0.106568412848\n",
      "0.838040854894\n",
      "0.844497547991\n"
     ]
    }
   ],
   "source": [
    "print np.abs(cross_val_score(rf6, X_house, y_house, scoring='precision', cv=10)).mean()\n",
    "print np.abs(cross_val_score(dc6, X_house, y_house, scoring='precision', cv=10)).mean()\n",
    "print np.abs(cross_val_score(svm6, Xhouse_scale, y_house, scoring='precision', cv=10)).mean()\n",
    "print np.abs(cross_val_score(lr4, Xhouse_scale, y_house, scoring='precision', cv=10)).mean()"
   ]
  },
  {
   "cell_type": "code",
   "execution_count": 146,
   "metadata": {
    "collapsed": true
   },
   "outputs": [],
   "source": [
    "#With these results, I'm satisfied that variables that effect election outcome are the same for all race types"
   ]
  }
 ],
 "metadata": {
  "kernelspec": {
   "display_name": "Python 2",
   "language": "python",
   "name": "python2"
  },
  "language_info": {
   "codemirror_mode": {
    "name": "ipython",
    "version": 2
   },
   "file_extension": ".py",
   "mimetype": "text/x-python",
   "name": "python",
   "nbconvert_exporter": "python",
   "pygments_lexer": "ipython2",
   "version": "2.7.10"
  }
 },
 "nbformat": 4,
 "nbformat_minor": 0
}
